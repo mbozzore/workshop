{
 "cells": [
  {
   "cell_type": "markdown",
   "id": "02c664d6",
   "metadata": {
    "slideshow": {
     "slide_type": "slide"
    }
   },
   "source": [
    "# Basic circuit creation and visualization\n"
   ]
  },
  {
   "cell_type": "markdown",
   "id": "e1ea7451",
   "metadata": {
    "slideshow": {
     "slide_type": "subslide"
    }
   },
   "source": [
    "## Circuit creation"
   ]
  },
  {
   "cell_type": "code",
   "execution_count": null,
   "id": "f999b90b",
   "metadata": {
    "slideshow": {
     "slide_type": "slide"
    }
   },
   "outputs": [],
   "source": [
    "from pytket.circuit import Circuit, OpType"
   ]
  },
  {
   "cell_type": "markdown",
   "id": "0cf276c1",
   "metadata": {
    "slideshow": {
     "slide_type": "notes"
    }
   },
   "source": [
    "available operations compatible with the tket Circuit class: https://cqcl.github.io/pytket/build/html/optype.html"
   ]
  },
  {
   "cell_type": "code",
   "execution_count": null,
   "id": "e7a11738",
   "metadata": {
    "slideshow": {
     "slide_type": "fragment"
    }
   },
   "outputs": [],
   "source": [
    "c = Circuit(4, name=\"example\")\n",
    "c.add_gate(OpType.CU1, 0.5, [0, 1])\n",
    "c.H(0).X(1).Y(2).Z(3)\n",
    "c.X(0).CX(1, 2).Y(1).Z(2).H(3)\n",
    "c.Y(0).Z(1)\n",
    "c.add_gate(OpType.CU1, 0.5, [2, 3])\n",
    "c.H(2).X(3)\n",
    "c.Z(0).H(1).X(2).Y(3).CX(3, 0)"
   ]
  },
  {
   "cell_type": "markdown",
   "id": "018d141a",
   "metadata": {
    "slideshow": {
     "slide_type": "notes"
    }
   },
   "source": [
    "Checking the number of qubits"
   ]
  },
  {
   "cell_type": "code",
   "execution_count": null,
   "id": "c3981308",
   "metadata": {
    "slideshow": {
     "slide_type": "slide"
    }
   },
   "outputs": [],
   "source": [
    "c.n_qubits"
   ]
  },
  {
   "cell_type": "markdown",
   "id": "028a27c6",
   "metadata": {
    "slideshow": {
     "slide_type": "notes"
    }
   },
   "source": [
    "And the depth of the circuit"
   ]
  },
  {
   "cell_type": "code",
   "execution_count": null,
   "id": "4852f68d",
   "metadata": {
    "slideshow": {
     "slide_type": "fragment"
    }
   },
   "outputs": [],
   "source": [
    "c.depth()"
   ]
  },
  {
   "cell_type": "markdown",
   "id": "dbd530b5",
   "metadata": {
    "slideshow": {
     "slide_type": "notes"
    }
   },
   "source": [
    "And the number of CX gates "
   ]
  },
  {
   "cell_type": "code",
   "execution_count": null,
   "id": "8e8a291b",
   "metadata": {
    "slideshow": {
     "slide_type": "fragment"
    }
   },
   "outputs": [],
   "source": [
    "c.n_gates_of_type(OpType.CX)"
   ]
  },
  {
   "cell_type": "markdown",
   "id": "36436409",
   "metadata": {
    "slideshow": {
     "slide_type": "slide"
    }
   },
   "source": [
    "## Circuit Visualization\n",
    "There are multiple ways to visualize a circuit, using tket tools, but also leveraging tools from other frameworks.\n",
    "### Circuit visualization using tket\n",
    "There are few ways for do circuit visualization using tket.\n",
    "We can view the circuit as a graph:"
   ]
  },
  {
   "cell_type": "code",
   "execution_count": null,
   "id": "1cf7e1b4",
   "metadata": {
    "slideshow": {
     "slide_type": "slide"
    }
   },
   "outputs": [],
   "source": [
    "from pytket.utils import Graph\n"
   ]
  },
  {
   "cell_type": "code",
   "execution_count": null,
   "id": "8abe076c",
   "metadata": {
    "scrolled": true,
    "slideshow": {
     "slide_type": "fragment"
    }
   },
   "outputs": [],
   "source": [
    "G = Graph(c)\n",
    "G.get_DAG()\n"
   ]
  },
  {
   "cell_type": "markdown",
   "id": "652795d6",
   "metadata": {
    "slideshow": {
     "slide_type": "notes"
    }
   },
   "source": [
    "Or use the jupyter rendering:"
   ]
  },
  {
   "cell_type": "code",
   "execution_count": null,
   "id": "78a6fd4f",
   "metadata": {
    "slideshow": {
     "slide_type": "slide"
    }
   },
   "outputs": [],
   "source": [
    "from pytket.circuit.display import render_circuit_jupyter\n",
    "render_circuit_jupyter(c)"
   ]
  },
  {
   "cell_type": "markdown",
   "id": "c6fa38b8",
   "metadata": {
    "slideshow": {
     "slide_type": "notes"
    }
   },
   "source": [
    "Of course we can also generate the corresponding latex file and the associated pdf file (assuming a working installation of $LaTeX$)"
   ]
  },
  {
   "cell_type": "code",
   "execution_count": null,
   "id": "03597558",
   "metadata": {
    "slideshow": {
     "slide_type": "slide"
    }
   },
   "outputs": [],
   "source": [
    "c.to_latex_file(\"c.tex\")\n",
    "#!pdflatex c.tex\n",
    "#!open c.pdf"
   ]
  },
  {
   "cell_type": "markdown",
   "id": "58f8c83b",
   "metadata": {
    "slideshow": {
     "slide_type": "slide"
    }
   },
   "source": [
    "### Circuit visualization using the Qiskit viewer, basic and leveraging matplotlib"
   ]
  },
  {
   "cell_type": "markdown",
   "id": "cb4e1fbf",
   "metadata": {
    "slideshow": {
     "slide_type": "notes"
    }
   },
   "source": [
    "Converters for other quantum software frameworks can optionally be included by installing the corresponding extension module. These are additional PyPI packages with names pytket-X, which extend the pytket namespace with additional features to interact with other systems, either using them as a front-end for circuit construction and high-level algorithms or targeting simulators and devices as backends.\n",
    "\n",
    "For example, installing the pytket-qiskit package will add the tk_to_qiskit and qiskit_to_tk methods which convert between the Circuit class from pytket and qiskit.QuantumCircuit\n"
   ]
  },
  {
   "cell_type": "code",
   "execution_count": null,
   "id": "16b8565e",
   "metadata": {
    "slideshow": {
     "slide_type": "slide"
    }
   },
   "outputs": [],
   "source": [
    "from pytket.extensions.qiskit import tk_to_qiskit, qiskit_to_tk"
   ]
  },
  {
   "cell_type": "code",
   "execution_count": null,
   "id": "360d0ce9",
   "metadata": {
    "slideshow": {
     "slide_type": "fragment"
    }
   },
   "outputs": [],
   "source": [
    "print(tk_to_qiskit(c))\n"
   ]
  },
  {
   "cell_type": "code",
   "execution_count": null,
   "id": "a8f7863c",
   "metadata": {},
   "outputs": [],
   "source": [
    "tk_to_qiskit(c).draw(output='mpl')"
   ]
  },
  {
   "cell_type": "markdown",
   "id": "01392b49",
   "metadata": {
    "slideshow": {
     "slide_type": "notes"
    }
   },
   "source": [
    "Note that pylatexenc needs to be installed in order to leverage matplotlib for visualization (included when setting up the environment via yaml file)"
   ]
  },
  {
   "cell_type": "markdown",
   "id": "7d373c4a",
   "metadata": {
    "slideshow": {
     "slide_type": "notes"
    }
   },
   "source": [
    "Finally, cirq can also be used"
   ]
  },
  {
   "cell_type": "code",
   "execution_count": null,
   "id": "34d396af",
   "metadata": {
    "slideshow": {
     "slide_type": "slide"
    }
   },
   "outputs": [],
   "source": [
    "from pytket.extensions.cirq import tk_to_cirq\n"
   ]
  },
  {
   "cell_type": "code",
   "execution_count": null,
   "id": "469c8a0f",
   "metadata": {
    "slideshow": {
     "slide_type": "fragment"
    }
   },
   "outputs": [],
   "source": [
    "print(tk_to_cirq(c))\n"
   ]
  },
  {
   "cell_type": "markdown",
   "id": "c1f541a5",
   "metadata": {
    "slideshow": {
     "slide_type": "slide"
    }
   },
   "source": [
    "### circuit manipulation"
   ]
  },
  {
   "cell_type": "code",
   "execution_count": null,
   "id": "e55d9d71",
   "metadata": {
    "slideshow": {
     "slide_type": "fragment"
    }
   },
   "outputs": [],
   "source": [
    "from pytket import Circuit, Qubit, Bit\n",
    "circ = Circuit(2, 2)\n",
    "circ.CX(0, 1)\n",
    "circ.Rz(0.3, 1)\n",
    "circ.CX(0, 1)\n",
    "\n",
    "render_circuit_jupyter(circ)"
   ]
  },
  {
   "cell_type": "code",
   "execution_count": 19,
   "id": "8043ad2b",
   "metadata": {
    "scrolled": true,
    "slideshow": {
     "slide_type": "slide"
    }
   },
   "outputs": [
    {
     "data": {
      "text/html": [
       "\n",
       "\n",
       "\n",
       "\n",
       "\n",
       "\n",
       "\n",
       "\n",
       "\n",
       "\n",
       "\n",
       "\n",
       "\n",
       "\n",
       "\n",
       "\n",
       "\n",
       "\n",
       "\n",
       "\n",
       "\n",
       "\n",
       "\n",
       "\n",
       "\n",
       "\n",
       "\n",
       "\n",
       "\n",
       "\n",
       "\n",
       "\n",
       "\n",
       "\n",
       "\n",
       "\n",
       "\n",
       "\n",
       "\n",
       "\n",
       "\n",
       "\n",
       "<!DOCTYPE html>\n",
       "<html lang=\"en\">\n",
       "<head>\n",
       "    <meta charset=\"UTF-8\">\n",
       "    \n",
       "<style>\n",
       "body {\n",
       "    font-family: \"roboto\", system-ui, sans-serif;\n",
       "}\n",
       "\n",
       "/* FOR DISPLAYING CIRCUITS */\n",
       "/* Main preview container */\n",
       ".circuit-preview{\n",
       "    width: 100%;\n",
       "    height: 100%;\n",
       "    padding: 20px;\n",
       "    text-align: center;\n",
       "\n",
       "    /* Define some variables */\n",
       "    --box-height: 40px;\n",
       "    --wire-col: black;\n",
       "    --c-wire-col: grey;\n",
       "}\n",
       ".circuit-preview.condensed{\n",
       "    overflow: auto;\n",
       "}\n",
       "\n",
       ".circuit-container{\n",
       "    max-width: 100%;\n",
       "    display: flex;\n",
       "    flex-flow: row wrap;\n",
       "    justify-content: center;\n",
       "    align-content: flex-start;\n",
       "    margin: auto;\n",
       "    width: fit-content;\n",
       "}\n",
       ".circuit-preview.condensed > .circuit-container{\n",
       "    flex-wrap: nowrap;\n",
       "    min-width: fit-content;\n",
       "}\n",
       ".circuit-container.nested{\n",
       "    position: relative;\n",
       "    flex-wrap: nowrap;\n",
       "    margin: -2px 0;\n",
       "}\n",
       ".nested-circuit-container{\n",
       "    display: flex;\n",
       "    overflow: auto;\n",
       "    max-width: 400px;\n",
       "    background: rgba(130,255,140,0.2);\n",
       "    outline: 1px solid darkseagreen;\n",
       "    outline-offset: -1px;\n",
       "}\n",
       ".nested-circuit-container::-webkit-scrollbar {\n",
       "    height: 0;\n",
       "    width: 0;\n",
       "}\n",
       ".nested-circuit-container > *{\n",
       "    margin: auto;\n",
       "}\n",
       ".circuit-end{\n",
       "    width: 2px;\n",
       "    height: auto;\n",
       "    border: 2px solid black;\n",
       "    margin: calc(var(--box-height)/2) 0 calc(var(--box-height)/2 + 20px);\n",
       "}\n",
       ".circuit-layer{\n",
       "    min-width: 40px;\n",
       "    width: max-content;\n",
       "    display: flex;\n",
       "    flex-flow: column nowrap;\n",
       "    flex-grow: 1;\n",
       "    justify-content: space-between;\n",
       "    align-items: stretch;\n",
       "    margin-bottom: 20px;\n",
       "}\n",
       ".circuit-container:not(.nested) > .circuit-layer:nth-child(2),\n",
       ".circuit-container:not(.nested) > .circuit-layer:nth-last-child(2),\n",
       ".circuit-container.nested > .circuit-layer:nth-child(2),\n",
       ".circuit-container.nested > .circuit-layer:nth-last-child(2),\n",
       ".gate_container.nested > .circuit-layer:first-child,\n",
       ".gate_container.nested > .circuit-layer:last-child{\n",
       "    min-width: 10px;\n",
       "}\n",
       ".nested .circuit-layer{\n",
       "    margin-bottom: 0px;\n",
       "}\n",
       ".circuit-layer.hover-highlight:not(:first-child):not(:last-child):hover{\n",
       "    background: rgba(0, 0, 0, 0.05);\n",
       "}\n",
       ".flex_wire{\n",
       "    flex-grow: 1;\n",
       "}\n",
       "/* Display qubit names at start of circuit */\n",
       ".circuit-layer.qubits{\n",
       "    flex-grow: 0;\n",
       "}\n",
       ".qubit{\n",
       "    height: calc(var(--box-height) - 20px);\n",
       "    padding: 10px;\n",
       "    text-align: center;\n",
       "    font-family: monospace;\n",
       "    box-sizing: content-box;\n",
       "}\n",
       ".wire{\n",
       "    height: 0;\n",
       "    border: 1px solid var(--wire-col);\n",
       "    background: var(--wire-col);\n",
       "    margin: calc(var(--box-height)/2) 0;\n",
       "}\n",
       ".wire.transparent-wire{\n",
       "    border-color: transparent;\n",
       "    background: transparent;\n",
       "}\n",
       "\n",
       "/* Generic base for our gates */\n",
       ".gate_container{\n",
       "    position: relative;\n",
       "    min-width: fit-content;\n",
       "}\n",
       ".gate_container.nested{\n",
       "    display: flex;\n",
       "    flex-wrap: nowrap;\n",
       "}\n",
       ".gate_container.nested:after{\n",
       "    display: flex;\n",
       "    flex-wrap: nowrap;\n",
       "}\n",
       ".gate_container .classical{\n",
       "    border-color: var(--c-wire-col);\n",
       "    background: var(--c-wire-col) !important;\n",
       "}\n",
       ".gate{\n",
       "    position: relative;\n",
       "    height: calc(var(--box-height) - 16px);\n",
       "    margin: 0 9px;\n",
       "    padding: 9px 5px;\n",
       "    border: 1px solid darkseagreen;\n",
       "    border-bottom: none;\n",
       "    border-top: none;\n",
       "    text-align: left;\n",
       "    background: darkseagreen;\n",
       "    z-index: 2;\n",
       "    display: flex;\n",
       "    box-sizing: content-box;\n",
       "}\n",
       ".wire-label{\n",
       "    color: green;\n",
       "    padding: 10px 0;\n",
       "    width: fit-content;\n",
       "    height: calc(var(--box-height) - 18px);\n",
       "}\n",
       ".gate_top > .wire-label,\n",
       ".gate_bottom > .wire-label {\n",
       "    padding-top: 0;\n",
       "}\n",
       ".nested-label-layer{\n",
       "    background: darkseagreen;\n",
       "    padding: 0 5px;\n",
       "}\n",
       "\n",
       "/* Multi-qubit gates */\n",
       ".gate_bottom{\n",
       "    height: calc(var(--box-height) - 18px);\n",
       "    margin-bottom: 10px;\n",
       "    padding-bottom: 0;\n",
       "    border-bottom: 1px solid darkseagreen;\n",
       "}\n",
       ".gate_top{\n",
       "    height: calc(var(--box-height) - 18px);\n",
       "    margin-top: 10px;\n",
       "    padding-top: 0;\n",
       "    border-top: 1px solid darkseagreen;\n",
       "}\n",
       ".gate_name{\n",
       "    text-align: center;\n",
       "    flex-grow: 1;\n",
       "}\n",
       "/* Single qubit gate*/\n",
       ".gate_box{\n",
       "    height: calc(var(--box-height) - 20px);\n",
       "    margin: 10px;\n",
       "    padding: 0 5px;\n",
       "    border: 1px solid darkseagreen !important;\n",
       "    text-align: center;\n",
       "}\n",
       "\n",
       "/* Special gates */\n",
       ".gate_connection {\n",
       "    position: absolute;\n",
       "    top: -3px;\n",
       "    left: -1px;\n",
       "    border: none;\n",
       "    margin: calc(var(--box-height)/2) calc(50% - 5px);\n",
       "    padding: 0;\n",
       "}\n",
       ".gate_swap {\n",
       "    height: 20px;\n",
       "    width: 20px;\n",
       "    margin: calc(var(--box-height)/2 - 6px) calc(50% - 9px);\n",
       "    background: url(\n",
       "data:image/svg+xml;utf8,%0A%3C%21--%20Generated%20with%20http%3A//jxnblk.com/paths%20--%3E%0A%3Csvg%0A%20%20xmlns%3D%27http%3A//www.w3.org/2000/svg%27%0A%20%20viewBox%3D%270%200%2064%2064%27%0A%20%20width%3D%2764%27%20height%3D%2764%27%0A%20%20fill%3D%27currentcolor%27%3E%0A%20%20%3Cpath%20d%3D%27M60%200%20L32%2028%20L4%200%20L0%204%20L28%2032%20L0%2060%20L4%2064%20L32%2036%20L60%2064%20L64%2060%20L36%2032%20L64%204%27%20/%3E%0A%3C/svg%3E\n",
       ") center;\n",
       "    background-size: cover;\n",
       "}\n",
       ".gate_measure {\n",
       "    height: 20px;\n",
       "    width: 25px;\n",
       "    margin: calc(var(--box-height)/2 - 10px) calc(50% - 11px);\n",
       "    background: url(\n",
       "data:image/svg+xml;utf8,%0A%3C%21--%20Generated%20with%20http%3A//jxnblk.com/paths%20--%3E%0A%3Csvg%0A%20%20xmlns%3D%27http%3A//www.w3.org/2000/svg%27%0A%20%20viewBox%3D%27-10%20-10%2084%2084%27%0A%20%20width%3D%2764%27%20height%3D%2764%27%0A%20%20fill%3D%27white%27%0A%20%20stroke%3D%22black%22%0A%20%20stroke-width%3D%224px%22%0A%3E%0A%20%20%3Cpath%20d%3D%27M63%2C63%20C63%2C32%2048%2C16%2032%2C16%20C16%2C16%201%2C32%201%2C63%20L63%2C63%27%20/%3E%0A%20%20%3Cpath%20d%3D%22M32%2C63%20L56%2C16%22%20/%3E%0A%3C/svg%3E\n",
       ") center;\n",
       "    background-size: cover;\n",
       "}\n",
       ".gate_control {\n",
       "    position: absolute;\n",
       "    top: 0;\n",
       "    left: 0;\n",
       "    border-radius: 50%;\n",
       "    width: 6px;\n",
       "    height: 6px;\n",
       "    margin: calc(var(--box-height)/2 - 3px) calc(50% - 5px);\n",
       "    padding: 0;\n",
       "    border: 2px solid black;\n",
       "    background: black;\n",
       "}\n",
       ".gate_x {\n",
       "    top: -10px;\n",
       "    left: -6px;\n",
       "    border-radius: 50%;\n",
       "    border-color: black !important;\n",
       "    width: 20px;\n",
       "    background: url(\n",
       "data:image/svg+xml;utf8,%0A%3C%21--%20Generated%20with%20http%3A//jxnblk.com/paths%20--%3E%0A%3Csvg%0A%20%20xmlns%3D%27http%3A//www.w3.org/2000/svg%27%0A%20%20viewBox%3D%270%200%2064%2064%27%0A%20%20width%3D%2764%27%20height%3D%2764%27%0A%20%20fill%3D%27currentcolor%27%3E%0A%20%20%3Cpath%20d%3D%27M36%2064%20L36%2036%20L64%2036%20L64%2028%20L36%2028%20L36%200%20L28%200%20L28%2028%20L0%2028%20L0%2036%20L28%2036%20L28%2064%27%20/%3E%0A%3C/svg%3E\n",
       ") center;\n",
       "    background-size: cover;\n",
       "}\n",
       ".gate_reset{\n",
       "    margin: 11px 10px;\n",
       "    padding: 0 15px;\n",
       "    border: none !important;\n",
       "    border-left: 2px solid black !important;\n",
       "    background: url(\n",
       "data:image/svg+xml;utf8,%0A%3Csvg%0A%20%20xmlns%3D%27http%3A//www.w3.org/2000/svg%27%0A%20%20viewBox%3D%27-30%200%20104%2064%27%0A%20%20width%3D%2764%27%20height%3D%2764%27%0A%20%20fill%3D%22none%22%0A%20%20stroke%3D%22black%22%0A%20%20stroke-width%3D%224px%22%0A%3E%0A%20%20%3Cpath%20fill%3D%22darkseagreen%22%20stroke%3D%22none%22%20d%3D%22M%20-30%2032%20A%201%201%2090%200%201%2074%2032%20A%201%201%2090%200%201%20-30%2032%20Z%22/%3E%0A%20%20%3Cpath%20d%3D%22M%202%200%20L%202%2064%20Z%20M%2024%201%20L%2058%2032%20L%2024%2063%20M%2034%2034%22%20/%3E%0A%20%20%3Cpath%20d%3D%22M%2032%2034%20A%201%201%2090%200%201%2014%2034%20L%2014%2030%20A%201%201%2090%200%201%2032%2030%20Z%22%20/%3E%0A%3C/svg%3E\n",
       ") right no-repeat transparent;\n",
       "    background-size: contain;\n",
       "}\n",
       "\n",
       "/* Add wire sections coming in and out of the gate */\n",
       ".gate_in:before, .gate_in:after{\n",
       "    content: '';\n",
       "    position: absolute;\n",
       "    display: block;\n",
       "    top: calc(50% - 1px);\n",
       "    border: 1px solid var(--wire-col);\n",
       "    width: 9px;\n",
       "    height: 0;\n",
       "    background: var(--wire-col);\n",
       "    box-sizing: content-box;\n",
       "}\n",
       ".gate_in:before.classical,\n",
       ".gate_in:after.classical{\n",
       "    border-color: var(--c-wire-col);\n",
       "}\n",
       "\n",
       ".gate_in:before{\n",
       "    left: -12px;\n",
       "}\n",
       ".gate_out:after{\n",
       "    right: -12px;\n",
       "}\n",
       ".gate_top.gate_in:before, .gate_top.gate_out:after{\n",
       "    top:calc(50% - 6.5px)\n",
       "}\n",
       ".gate_bottom.gate_in:before, .gate_bottom.gate_out:after{\n",
       "    top:calc(50% + 4.5px)\n",
       "}\n",
       "\n",
       "\n",
       ".link-bottom, .link-top {\n",
       "    height: var(--box-height);\n",
       "    width: 0;\n",
       "    border: 1px solid black;\n",
       "    background: black;\n",
       "    position: absolute;\n",
       "    display: block;\n",
       "    left: calc(50% - 1px);\n",
       "    box-sizing: content-box;\n",
       "}\n",
       ".link-top{\n",
       "    top: calc(0px - var(--box-height)/2);\n",
       "}\n",
       ".link-bottom{\n",
       "    top: calc(var(--box-height)/2)\n",
       "}\n",
       ".half-link {\n",
       "    height: calc(var(--box-height) - 9px);\n",
       "}\n",
       ".half-link.link-bottom{\n",
       "    top: calc(var(--box-height)/2 + 11px)\n",
       "}\n",
       ".half-link.link-top{\n",
       "    top: calc(-2px - var(--box-height)/2);\n",
       "}\n",
       ".link-bottom.measurement{\n",
       "    width: 1px;\n",
       "    background: white;\n",
       "    border-top: none;\n",
       "    border-bottom: none;\n",
       "    height: calc(var(--box-height) + 2px);\n",
       "    z-index: 1;\n",
       "}\n",
       "</style>\n",
       "\n",
       "\n",
       "</head>\n",
       "<body>\n",
       "    <div >\n",
       "        <div class=\"circuit-preview condensed\">\n",
       "    <div class=\"circuit-container nested\">\n",
       "        <div class=\"circuit-layer qubits\">\n",
       "        \n",
       "            <div class=\"qubit\">q[0]</div>\n",
       "        \n",
       "            <div class=\"qubit\">q[1]</div>\n",
       "        \n",
       "        \n",
       "            <div class=\"qubit bit\">c[0]</div>\n",
       "        \n",
       "            <div class=\"qubit bit\">c[1]</div>\n",
       "        \n",
       "    </div>\n",
       "        \n",
       "            <div class=\"circuit-layer hover-highlight\">\n",
       "            \n",
       "                \n",
       "                \n",
       "                    \n",
       "    \n",
       "    \n",
       "        \n",
       "            <div class=\"gate_container\">\n",
       "        <div class=\"wire \"></div>\n",
       "        \n",
       "    </div>\n",
       "        \n",
       "            <div class=\"gate_container\">\n",
       "        <div class=\"wire \"></div>\n",
       "        \n",
       "    </div>\n",
       "        \n",
       "            <div class=\"gate_container\">\n",
       "        <div class=\"wire classical\"></div>\n",
       "        \n",
       "    </div>\n",
       "        \n",
       "            <div class=\"gate_container\">\n",
       "        <div class=\"wire classical\"></div>\n",
       "        \n",
       "    </div>\n",
       "        \n",
       "\n",
       "    \n",
       "    \n",
       "\n",
       "                \n",
       "            \n",
       "        </div>\n",
       "        \n",
       "            <div class=\"circuit-layer hover-highlight\">\n",
       "            \n",
       "                \n",
       "                \n",
       "                    \n",
       "    \n",
       "    \n",
       "        \n",
       "            <div class=\"gate_container\">\n",
       "        <div class=\"wire \"></div>\n",
       "        \n",
       "    </div>\n",
       "        \n",
       "            <div class=\"gate_container\">\n",
       "        <div class=\"wire \"></div>\n",
       "        \n",
       "    </div>\n",
       "        \n",
       "            <div class=\"gate_container\">\n",
       "        <div class=\"wire classical\"></div>\n",
       "        \n",
       "    </div>\n",
       "        \n",
       "            <div class=\"gate_container\">\n",
       "        <div class=\"wire classical\"></div>\n",
       "        \n",
       "    </div>\n",
       "        \n",
       "\n",
       "    \n",
       "    \n",
       "\n",
       "                \n",
       "            \n",
       "        </div>\n",
       "        \n",
       "        <div class=\"circuit-layer qubits\">\n",
       "        \n",
       "            <div class=\"qubit\">q[0]</div>\n",
       "        \n",
       "            <div class=\"qubit\">q[1]</div>\n",
       "        \n",
       "        \n",
       "            <div class=\"qubit bit\">c[0]</div>\n",
       "        \n",
       "            <div class=\"qubit bit\">c[1]</div>\n",
       "        \n",
       "    </div>\n",
       "    </div>\n",
       "</div>\n",
       "    </div>\n",
       "</body>\n",
       "</html>"
      ],
      "text/plain": [
       "<IPython.core.display.HTML object>"
      ]
     },
     "metadata": {},
     "output_type": "display_data"
    }
   ],
   "source": [
    "measures = Circuit(2, 2)\n",
    "render_circuit_jupyter(measures)"
   ]
  },
  {
   "cell_type": "code",
   "execution_count": 20,
   "id": "53b8ca18",
   "metadata": {
    "slideshow": {
     "slide_type": "slide"
    }
   },
   "outputs": [
    {
     "data": {
      "text/html": [
       "\n",
       "\n",
       "\n",
       "\n",
       "\n",
       "\n",
       "\n",
       "\n",
       "\n",
       "\n",
       "\n",
       "\n",
       "\n",
       "\n",
       "\n",
       "\n",
       "\n",
       "\n",
       "\n",
       "\n",
       "\n",
       "\n",
       "\n",
       "\n",
       "\n",
       "\n",
       "\n",
       "\n",
       "\n",
       "\n",
       "\n",
       "\n",
       "\n",
       "\n",
       "\n",
       "\n",
       "\n",
       "\n",
       "\n",
       "\n",
       "\n",
       "\n",
       "<!DOCTYPE html>\n",
       "<html lang=\"en\">\n",
       "<head>\n",
       "    <meta charset=\"UTF-8\">\n",
       "    \n",
       "<style>\n",
       "body {\n",
       "    font-family: \"roboto\", system-ui, sans-serif;\n",
       "}\n",
       "\n",
       "/* FOR DISPLAYING CIRCUITS */\n",
       "/* Main preview container */\n",
       ".circuit-preview{\n",
       "    width: 100%;\n",
       "    height: 100%;\n",
       "    padding: 20px;\n",
       "    text-align: center;\n",
       "\n",
       "    /* Define some variables */\n",
       "    --box-height: 40px;\n",
       "    --wire-col: black;\n",
       "    --c-wire-col: grey;\n",
       "}\n",
       ".circuit-preview.condensed{\n",
       "    overflow: auto;\n",
       "}\n",
       "\n",
       ".circuit-container{\n",
       "    max-width: 100%;\n",
       "    display: flex;\n",
       "    flex-flow: row wrap;\n",
       "    justify-content: center;\n",
       "    align-content: flex-start;\n",
       "    margin: auto;\n",
       "    width: fit-content;\n",
       "}\n",
       ".circuit-preview.condensed > .circuit-container{\n",
       "    flex-wrap: nowrap;\n",
       "    min-width: fit-content;\n",
       "}\n",
       ".circuit-container.nested{\n",
       "    position: relative;\n",
       "    flex-wrap: nowrap;\n",
       "    margin: -2px 0;\n",
       "}\n",
       ".nested-circuit-container{\n",
       "    display: flex;\n",
       "    overflow: auto;\n",
       "    max-width: 400px;\n",
       "    background: rgba(130,255,140,0.2);\n",
       "    outline: 1px solid darkseagreen;\n",
       "    outline-offset: -1px;\n",
       "}\n",
       ".nested-circuit-container::-webkit-scrollbar {\n",
       "    height: 0;\n",
       "    width: 0;\n",
       "}\n",
       ".nested-circuit-container > *{\n",
       "    margin: auto;\n",
       "}\n",
       ".circuit-end{\n",
       "    width: 2px;\n",
       "    height: auto;\n",
       "    border: 2px solid black;\n",
       "    margin: calc(var(--box-height)/2) 0 calc(var(--box-height)/2 + 20px);\n",
       "}\n",
       ".circuit-layer{\n",
       "    min-width: 40px;\n",
       "    width: max-content;\n",
       "    display: flex;\n",
       "    flex-flow: column nowrap;\n",
       "    flex-grow: 1;\n",
       "    justify-content: space-between;\n",
       "    align-items: stretch;\n",
       "    margin-bottom: 20px;\n",
       "}\n",
       ".circuit-container:not(.nested) > .circuit-layer:nth-child(2),\n",
       ".circuit-container:not(.nested) > .circuit-layer:nth-last-child(2),\n",
       ".circuit-container.nested > .circuit-layer:nth-child(2),\n",
       ".circuit-container.nested > .circuit-layer:nth-last-child(2),\n",
       ".gate_container.nested > .circuit-layer:first-child,\n",
       ".gate_container.nested > .circuit-layer:last-child{\n",
       "    min-width: 10px;\n",
       "}\n",
       ".nested .circuit-layer{\n",
       "    margin-bottom: 0px;\n",
       "}\n",
       ".circuit-layer.hover-highlight:not(:first-child):not(:last-child):hover{\n",
       "    background: rgba(0, 0, 0, 0.05);\n",
       "}\n",
       ".flex_wire{\n",
       "    flex-grow: 1;\n",
       "}\n",
       "/* Display qubit names at start of circuit */\n",
       ".circuit-layer.qubits{\n",
       "    flex-grow: 0;\n",
       "}\n",
       ".qubit{\n",
       "    height: calc(var(--box-height) - 20px);\n",
       "    padding: 10px;\n",
       "    text-align: center;\n",
       "    font-family: monospace;\n",
       "    box-sizing: content-box;\n",
       "}\n",
       ".wire{\n",
       "    height: 0;\n",
       "    border: 1px solid var(--wire-col);\n",
       "    background: var(--wire-col);\n",
       "    margin: calc(var(--box-height)/2) 0;\n",
       "}\n",
       ".wire.transparent-wire{\n",
       "    border-color: transparent;\n",
       "    background: transparent;\n",
       "}\n",
       "\n",
       "/* Generic base for our gates */\n",
       ".gate_container{\n",
       "    position: relative;\n",
       "    min-width: fit-content;\n",
       "}\n",
       ".gate_container.nested{\n",
       "    display: flex;\n",
       "    flex-wrap: nowrap;\n",
       "}\n",
       ".gate_container.nested:after{\n",
       "    display: flex;\n",
       "    flex-wrap: nowrap;\n",
       "}\n",
       ".gate_container .classical{\n",
       "    border-color: var(--c-wire-col);\n",
       "    background: var(--c-wire-col) !important;\n",
       "}\n",
       ".gate{\n",
       "    position: relative;\n",
       "    height: calc(var(--box-height) - 16px);\n",
       "    margin: 0 9px;\n",
       "    padding: 9px 5px;\n",
       "    border: 1px solid darkseagreen;\n",
       "    border-bottom: none;\n",
       "    border-top: none;\n",
       "    text-align: left;\n",
       "    background: darkseagreen;\n",
       "    z-index: 2;\n",
       "    display: flex;\n",
       "    box-sizing: content-box;\n",
       "}\n",
       ".wire-label{\n",
       "    color: green;\n",
       "    padding: 10px 0;\n",
       "    width: fit-content;\n",
       "    height: calc(var(--box-height) - 18px);\n",
       "}\n",
       ".gate_top > .wire-label,\n",
       ".gate_bottom > .wire-label {\n",
       "    padding-top: 0;\n",
       "}\n",
       ".nested-label-layer{\n",
       "    background: darkseagreen;\n",
       "    padding: 0 5px;\n",
       "}\n",
       "\n",
       "/* Multi-qubit gates */\n",
       ".gate_bottom{\n",
       "    height: calc(var(--box-height) - 18px);\n",
       "    margin-bottom: 10px;\n",
       "    padding-bottom: 0;\n",
       "    border-bottom: 1px solid darkseagreen;\n",
       "}\n",
       ".gate_top{\n",
       "    height: calc(var(--box-height) - 18px);\n",
       "    margin-top: 10px;\n",
       "    padding-top: 0;\n",
       "    border-top: 1px solid darkseagreen;\n",
       "}\n",
       ".gate_name{\n",
       "    text-align: center;\n",
       "    flex-grow: 1;\n",
       "}\n",
       "/* Single qubit gate*/\n",
       ".gate_box{\n",
       "    height: calc(var(--box-height) - 20px);\n",
       "    margin: 10px;\n",
       "    padding: 0 5px;\n",
       "    border: 1px solid darkseagreen !important;\n",
       "    text-align: center;\n",
       "}\n",
       "\n",
       "/* Special gates */\n",
       ".gate_connection {\n",
       "    position: absolute;\n",
       "    top: -3px;\n",
       "    left: -1px;\n",
       "    border: none;\n",
       "    margin: calc(var(--box-height)/2) calc(50% - 5px);\n",
       "    padding: 0;\n",
       "}\n",
       ".gate_swap {\n",
       "    height: 20px;\n",
       "    width: 20px;\n",
       "    margin: calc(var(--box-height)/2 - 6px) calc(50% - 9px);\n",
       "    background: url(\n",
       "data:image/svg+xml;utf8,%0A%3C%21--%20Generated%20with%20http%3A//jxnblk.com/paths%20--%3E%0A%3Csvg%0A%20%20xmlns%3D%27http%3A//www.w3.org/2000/svg%27%0A%20%20viewBox%3D%270%200%2064%2064%27%0A%20%20width%3D%2764%27%20height%3D%2764%27%0A%20%20fill%3D%27currentcolor%27%3E%0A%20%20%3Cpath%20d%3D%27M60%200%20L32%2028%20L4%200%20L0%204%20L28%2032%20L0%2060%20L4%2064%20L32%2036%20L60%2064%20L64%2060%20L36%2032%20L64%204%27%20/%3E%0A%3C/svg%3E\n",
       ") center;\n",
       "    background-size: cover;\n",
       "}\n",
       ".gate_measure {\n",
       "    height: 20px;\n",
       "    width: 25px;\n",
       "    margin: calc(var(--box-height)/2 - 10px) calc(50% - 11px);\n",
       "    background: url(\n",
       "data:image/svg+xml;utf8,%0A%3C%21--%20Generated%20with%20http%3A//jxnblk.com/paths%20--%3E%0A%3Csvg%0A%20%20xmlns%3D%27http%3A//www.w3.org/2000/svg%27%0A%20%20viewBox%3D%27-10%20-10%2084%2084%27%0A%20%20width%3D%2764%27%20height%3D%2764%27%0A%20%20fill%3D%27white%27%0A%20%20stroke%3D%22black%22%0A%20%20stroke-width%3D%224px%22%0A%3E%0A%20%20%3Cpath%20d%3D%27M63%2C63%20C63%2C32%2048%2C16%2032%2C16%20C16%2C16%201%2C32%201%2C63%20L63%2C63%27%20/%3E%0A%20%20%3Cpath%20d%3D%22M32%2C63%20L56%2C16%22%20/%3E%0A%3C/svg%3E\n",
       ") center;\n",
       "    background-size: cover;\n",
       "}\n",
       ".gate_control {\n",
       "    position: absolute;\n",
       "    top: 0;\n",
       "    left: 0;\n",
       "    border-radius: 50%;\n",
       "    width: 6px;\n",
       "    height: 6px;\n",
       "    margin: calc(var(--box-height)/2 - 3px) calc(50% - 5px);\n",
       "    padding: 0;\n",
       "    border: 2px solid black;\n",
       "    background: black;\n",
       "}\n",
       ".gate_x {\n",
       "    top: -10px;\n",
       "    left: -6px;\n",
       "    border-radius: 50%;\n",
       "    border-color: black !important;\n",
       "    width: 20px;\n",
       "    background: url(\n",
       "data:image/svg+xml;utf8,%0A%3C%21--%20Generated%20with%20http%3A//jxnblk.com/paths%20--%3E%0A%3Csvg%0A%20%20xmlns%3D%27http%3A//www.w3.org/2000/svg%27%0A%20%20viewBox%3D%270%200%2064%2064%27%0A%20%20width%3D%2764%27%20height%3D%2764%27%0A%20%20fill%3D%27currentcolor%27%3E%0A%20%20%3Cpath%20d%3D%27M36%2064%20L36%2036%20L64%2036%20L64%2028%20L36%2028%20L36%200%20L28%200%20L28%2028%20L0%2028%20L0%2036%20L28%2036%20L28%2064%27%20/%3E%0A%3C/svg%3E\n",
       ") center;\n",
       "    background-size: cover;\n",
       "}\n",
       ".gate_reset{\n",
       "    margin: 11px 10px;\n",
       "    padding: 0 15px;\n",
       "    border: none !important;\n",
       "    border-left: 2px solid black !important;\n",
       "    background: url(\n",
       "data:image/svg+xml;utf8,%0A%3Csvg%0A%20%20xmlns%3D%27http%3A//www.w3.org/2000/svg%27%0A%20%20viewBox%3D%27-30%200%20104%2064%27%0A%20%20width%3D%2764%27%20height%3D%2764%27%0A%20%20fill%3D%22none%22%0A%20%20stroke%3D%22black%22%0A%20%20stroke-width%3D%224px%22%0A%3E%0A%20%20%3Cpath%20fill%3D%22darkseagreen%22%20stroke%3D%22none%22%20d%3D%22M%20-30%2032%20A%201%201%2090%200%201%2074%2032%20A%201%201%2090%200%201%20-30%2032%20Z%22/%3E%0A%20%20%3Cpath%20d%3D%22M%202%200%20L%202%2064%20Z%20M%2024%201%20L%2058%2032%20L%2024%2063%20M%2034%2034%22%20/%3E%0A%20%20%3Cpath%20d%3D%22M%2032%2034%20A%201%201%2090%200%201%2014%2034%20L%2014%2030%20A%201%201%2090%200%201%2032%2030%20Z%22%20/%3E%0A%3C/svg%3E\n",
       ") right no-repeat transparent;\n",
       "    background-size: contain;\n",
       "}\n",
       "\n",
       "/* Add wire sections coming in and out of the gate */\n",
       ".gate_in:before, .gate_in:after{\n",
       "    content: '';\n",
       "    position: absolute;\n",
       "    display: block;\n",
       "    top: calc(50% - 1px);\n",
       "    border: 1px solid var(--wire-col);\n",
       "    width: 9px;\n",
       "    height: 0;\n",
       "    background: var(--wire-col);\n",
       "    box-sizing: content-box;\n",
       "}\n",
       ".gate_in:before.classical,\n",
       ".gate_in:after.classical{\n",
       "    border-color: var(--c-wire-col);\n",
       "}\n",
       "\n",
       ".gate_in:before{\n",
       "    left: -12px;\n",
       "}\n",
       ".gate_out:after{\n",
       "    right: -12px;\n",
       "}\n",
       ".gate_top.gate_in:before, .gate_top.gate_out:after{\n",
       "    top:calc(50% - 6.5px)\n",
       "}\n",
       ".gate_bottom.gate_in:before, .gate_bottom.gate_out:after{\n",
       "    top:calc(50% + 4.5px)\n",
       "}\n",
       "\n",
       "\n",
       ".link-bottom, .link-top {\n",
       "    height: var(--box-height);\n",
       "    width: 0;\n",
       "    border: 1px solid black;\n",
       "    background: black;\n",
       "    position: absolute;\n",
       "    display: block;\n",
       "    left: calc(50% - 1px);\n",
       "    box-sizing: content-box;\n",
       "}\n",
       ".link-top{\n",
       "    top: calc(0px - var(--box-height)/2);\n",
       "}\n",
       ".link-bottom{\n",
       "    top: calc(var(--box-height)/2)\n",
       "}\n",
       ".half-link {\n",
       "    height: calc(var(--box-height) - 9px);\n",
       "}\n",
       ".half-link.link-bottom{\n",
       "    top: calc(var(--box-height)/2 + 11px)\n",
       "}\n",
       ".half-link.link-top{\n",
       "    top: calc(-2px - var(--box-height)/2);\n",
       "}\n",
       ".link-bottom.measurement{\n",
       "    width: 1px;\n",
       "    background: white;\n",
       "    border-top: none;\n",
       "    border-bottom: none;\n",
       "    height: calc(var(--box-height) + 2px);\n",
       "    z-index: 1;\n",
       "}\n",
       "</style>\n",
       "\n",
       "\n",
       "</head>\n",
       "<body>\n",
       "    <div >\n",
       "        <div class=\"circuit-preview condensed\">\n",
       "    <div class=\"circuit-container nested\">\n",
       "        <div class=\"circuit-layer qubits\">\n",
       "        \n",
       "            <div class=\"qubit\">q[0]</div>\n",
       "        \n",
       "            <div class=\"qubit\">q[1]</div>\n",
       "        \n",
       "        \n",
       "            <div class=\"qubit bit\">c[0]</div>\n",
       "        \n",
       "            <div class=\"qubit bit\">c[1]</div>\n",
       "        \n",
       "    </div>\n",
       "        \n",
       "            <div class=\"circuit-layer hover-highlight\">\n",
       "            \n",
       "                \n",
       "                \n",
       "                    \n",
       "    \n",
       "    \n",
       "        \n",
       "            <div class=\"gate_container\">\n",
       "        <div class=\"wire \"></div>\n",
       "        \n",
       "    </div>\n",
       "        \n",
       "            <div class=\"gate_container\">\n",
       "        <div class=\"wire \"></div>\n",
       "        \n",
       "    </div>\n",
       "        \n",
       "            <div class=\"gate_container\">\n",
       "        <div class=\"wire classical\"></div>\n",
       "        \n",
       "    </div>\n",
       "        \n",
       "            <div class=\"gate_container\">\n",
       "        <div class=\"wire classical\"></div>\n",
       "        \n",
       "    </div>\n",
       "        \n",
       "\n",
       "    \n",
       "    \n",
       "\n",
       "                \n",
       "            \n",
       "        </div>\n",
       "        \n",
       "            <div class=\"circuit-layer hover-highlight\">\n",
       "            \n",
       "                \n",
       "                \n",
       "                    \n",
       "    \n",
       "    \n",
       "        \n",
       "            <div class=\"gate_container\">\n",
       "        <div class=\"wire \"></div>\n",
       "        \n",
       "    </div>\n",
       "        \n",
       "\n",
       "    \n",
       "    \n",
       "\n",
       "                \n",
       "            \n",
       "                \n",
       "                \n",
       "                    \n",
       "    \n",
       "    \n",
       "        \n",
       "            <div class=\"gate_container nested\">\n",
       "        <div class=\"flex_wire\">\n",
       "            <div class=\"gate_container\">\n",
       "        <div class=\"wire \"></div>\n",
       "        \n",
       "    </div>\n",
       "        </div>\n",
       "        <div class=\"gate_container\">\n",
       "            \n",
       "                <div class=\"gate gate_box gate_in gate_out \">\n",
       "                    <span class=\"gate_name\">H</span>\n",
       "                </div>\n",
       "            \n",
       "\n",
       "            \n",
       "        </div>\n",
       "        <div class=\"flex_wire\">\n",
       "            <div class=\"gate_container\">\n",
       "        <div class=\"wire \"></div>\n",
       "        \n",
       "    </div>\n",
       "        </div>\n",
       "    </div>\n",
       "        \n",
       "    \n",
       "\n",
       "                \n",
       "            \n",
       "                \n",
       "                \n",
       "                    \n",
       "    \n",
       "    \n",
       "        \n",
       "            <div class=\"gate_container\">\n",
       "        <div class=\"wire classical\"></div>\n",
       "        \n",
       "    </div>\n",
       "        \n",
       "            <div class=\"gate_container\">\n",
       "        <div class=\"wire classical\"></div>\n",
       "        \n",
       "    </div>\n",
       "        \n",
       "\n",
       "    \n",
       "    \n",
       "\n",
       "                \n",
       "            \n",
       "        </div>\n",
       "        \n",
       "            <div class=\"circuit-layer hover-highlight\">\n",
       "            \n",
       "                \n",
       "                \n",
       "                    \n",
       "    \n",
       "    \n",
       "        \n",
       "            <div class=\"gate_container\">\n",
       "        <div class=\"wire \"></div>\n",
       "        \n",
       "    </div>\n",
       "        \n",
       "            <div class=\"gate_container\">\n",
       "        <div class=\"wire \"></div>\n",
       "        \n",
       "    </div>\n",
       "        \n",
       "            <div class=\"gate_container\">\n",
       "        <div class=\"wire classical\"></div>\n",
       "        \n",
       "    </div>\n",
       "        \n",
       "            <div class=\"gate_container\">\n",
       "        <div class=\"wire classical\"></div>\n",
       "        \n",
       "    </div>\n",
       "        \n",
       "\n",
       "    \n",
       "    \n",
       "\n",
       "                \n",
       "            \n",
       "        </div>\n",
       "        \n",
       "        <div class=\"circuit-layer qubits\">\n",
       "        \n",
       "            <div class=\"qubit\">q[0]</div>\n",
       "        \n",
       "            <div class=\"qubit\">q[1]</div>\n",
       "        \n",
       "        \n",
       "            <div class=\"qubit bit\">c[0]</div>\n",
       "        \n",
       "            <div class=\"qubit bit\">c[1]</div>\n",
       "        \n",
       "    </div>\n",
       "    </div>\n",
       "</div>\n",
       "    </div>\n",
       "</body>\n",
       "</html>"
      ],
      "text/plain": [
       "<IPython.core.display.HTML object>"
      ]
     },
     "metadata": {},
     "output_type": "display_data"
    }
   ],
   "source": [
    "measures.H(1)\n",
    "render_circuit_jupyter(measures)"
   ]
  },
  {
   "cell_type": "code",
   "execution_count": 21,
   "id": "4bfb85c9",
   "metadata": {
    "slideshow": {
     "slide_type": "slide"
    }
   },
   "outputs": [
    {
     "data": {
      "text/html": [
       "\n",
       "\n",
       "\n",
       "\n",
       "\n",
       "\n",
       "\n",
       "\n",
       "\n",
       "\n",
       "\n",
       "\n",
       "\n",
       "\n",
       "\n",
       "\n",
       "\n",
       "\n",
       "\n",
       "\n",
       "\n",
       "\n",
       "\n",
       "\n",
       "\n",
       "\n",
       "\n",
       "\n",
       "\n",
       "\n",
       "\n",
       "\n",
       "\n",
       "\n",
       "\n",
       "\n",
       "\n",
       "\n",
       "\n",
       "\n",
       "\n",
       "\n",
       "<!DOCTYPE html>\n",
       "<html lang=\"en\">\n",
       "<head>\n",
       "    <meta charset=\"UTF-8\">\n",
       "    \n",
       "<style>\n",
       "body {\n",
       "    font-family: \"roboto\", system-ui, sans-serif;\n",
       "}\n",
       "\n",
       "/* FOR DISPLAYING CIRCUITS */\n",
       "/* Main preview container */\n",
       ".circuit-preview{\n",
       "    width: 100%;\n",
       "    height: 100%;\n",
       "    padding: 20px;\n",
       "    text-align: center;\n",
       "\n",
       "    /* Define some variables */\n",
       "    --box-height: 40px;\n",
       "    --wire-col: black;\n",
       "    --c-wire-col: grey;\n",
       "}\n",
       ".circuit-preview.condensed{\n",
       "    overflow: auto;\n",
       "}\n",
       "\n",
       ".circuit-container{\n",
       "    max-width: 100%;\n",
       "    display: flex;\n",
       "    flex-flow: row wrap;\n",
       "    justify-content: center;\n",
       "    align-content: flex-start;\n",
       "    margin: auto;\n",
       "    width: fit-content;\n",
       "}\n",
       ".circuit-preview.condensed > .circuit-container{\n",
       "    flex-wrap: nowrap;\n",
       "    min-width: fit-content;\n",
       "}\n",
       ".circuit-container.nested{\n",
       "    position: relative;\n",
       "    flex-wrap: nowrap;\n",
       "    margin: -2px 0;\n",
       "}\n",
       ".nested-circuit-container{\n",
       "    display: flex;\n",
       "    overflow: auto;\n",
       "    max-width: 400px;\n",
       "    background: rgba(130,255,140,0.2);\n",
       "    outline: 1px solid darkseagreen;\n",
       "    outline-offset: -1px;\n",
       "}\n",
       ".nested-circuit-container::-webkit-scrollbar {\n",
       "    height: 0;\n",
       "    width: 0;\n",
       "}\n",
       ".nested-circuit-container > *{\n",
       "    margin: auto;\n",
       "}\n",
       ".circuit-end{\n",
       "    width: 2px;\n",
       "    height: auto;\n",
       "    border: 2px solid black;\n",
       "    margin: calc(var(--box-height)/2) 0 calc(var(--box-height)/2 + 20px);\n",
       "}\n",
       ".circuit-layer{\n",
       "    min-width: 40px;\n",
       "    width: max-content;\n",
       "    display: flex;\n",
       "    flex-flow: column nowrap;\n",
       "    flex-grow: 1;\n",
       "    justify-content: space-between;\n",
       "    align-items: stretch;\n",
       "    margin-bottom: 20px;\n",
       "}\n",
       ".circuit-container:not(.nested) > .circuit-layer:nth-child(2),\n",
       ".circuit-container:not(.nested) > .circuit-layer:nth-last-child(2),\n",
       ".circuit-container.nested > .circuit-layer:nth-child(2),\n",
       ".circuit-container.nested > .circuit-layer:nth-last-child(2),\n",
       ".gate_container.nested > .circuit-layer:first-child,\n",
       ".gate_container.nested > .circuit-layer:last-child{\n",
       "    min-width: 10px;\n",
       "}\n",
       ".nested .circuit-layer{\n",
       "    margin-bottom: 0px;\n",
       "}\n",
       ".circuit-layer.hover-highlight:not(:first-child):not(:last-child):hover{\n",
       "    background: rgba(0, 0, 0, 0.05);\n",
       "}\n",
       ".flex_wire{\n",
       "    flex-grow: 1;\n",
       "}\n",
       "/* Display qubit names at start of circuit */\n",
       ".circuit-layer.qubits{\n",
       "    flex-grow: 0;\n",
       "}\n",
       ".qubit{\n",
       "    height: calc(var(--box-height) - 20px);\n",
       "    padding: 10px;\n",
       "    text-align: center;\n",
       "    font-family: monospace;\n",
       "    box-sizing: content-box;\n",
       "}\n",
       ".wire{\n",
       "    height: 0;\n",
       "    border: 1px solid var(--wire-col);\n",
       "    background: var(--wire-col);\n",
       "    margin: calc(var(--box-height)/2) 0;\n",
       "}\n",
       ".wire.transparent-wire{\n",
       "    border-color: transparent;\n",
       "    background: transparent;\n",
       "}\n",
       "\n",
       "/* Generic base for our gates */\n",
       ".gate_container{\n",
       "    position: relative;\n",
       "    min-width: fit-content;\n",
       "}\n",
       ".gate_container.nested{\n",
       "    display: flex;\n",
       "    flex-wrap: nowrap;\n",
       "}\n",
       ".gate_container.nested:after{\n",
       "    display: flex;\n",
       "    flex-wrap: nowrap;\n",
       "}\n",
       ".gate_container .classical{\n",
       "    border-color: var(--c-wire-col);\n",
       "    background: var(--c-wire-col) !important;\n",
       "}\n",
       ".gate{\n",
       "    position: relative;\n",
       "    height: calc(var(--box-height) - 16px);\n",
       "    margin: 0 9px;\n",
       "    padding: 9px 5px;\n",
       "    border: 1px solid darkseagreen;\n",
       "    border-bottom: none;\n",
       "    border-top: none;\n",
       "    text-align: left;\n",
       "    background: darkseagreen;\n",
       "    z-index: 2;\n",
       "    display: flex;\n",
       "    box-sizing: content-box;\n",
       "}\n",
       ".wire-label{\n",
       "    color: green;\n",
       "    padding: 10px 0;\n",
       "    width: fit-content;\n",
       "    height: calc(var(--box-height) - 18px);\n",
       "}\n",
       ".gate_top > .wire-label,\n",
       ".gate_bottom > .wire-label {\n",
       "    padding-top: 0;\n",
       "}\n",
       ".nested-label-layer{\n",
       "    background: darkseagreen;\n",
       "    padding: 0 5px;\n",
       "}\n",
       "\n",
       "/* Multi-qubit gates */\n",
       ".gate_bottom{\n",
       "    height: calc(var(--box-height) - 18px);\n",
       "    margin-bottom: 10px;\n",
       "    padding-bottom: 0;\n",
       "    border-bottom: 1px solid darkseagreen;\n",
       "}\n",
       ".gate_top{\n",
       "    height: calc(var(--box-height) - 18px);\n",
       "    margin-top: 10px;\n",
       "    padding-top: 0;\n",
       "    border-top: 1px solid darkseagreen;\n",
       "}\n",
       ".gate_name{\n",
       "    text-align: center;\n",
       "    flex-grow: 1;\n",
       "}\n",
       "/* Single qubit gate*/\n",
       ".gate_box{\n",
       "    height: calc(var(--box-height) - 20px);\n",
       "    margin: 10px;\n",
       "    padding: 0 5px;\n",
       "    border: 1px solid darkseagreen !important;\n",
       "    text-align: center;\n",
       "}\n",
       "\n",
       "/* Special gates */\n",
       ".gate_connection {\n",
       "    position: absolute;\n",
       "    top: -3px;\n",
       "    left: -1px;\n",
       "    border: none;\n",
       "    margin: calc(var(--box-height)/2) calc(50% - 5px);\n",
       "    padding: 0;\n",
       "}\n",
       ".gate_swap {\n",
       "    height: 20px;\n",
       "    width: 20px;\n",
       "    margin: calc(var(--box-height)/2 - 6px) calc(50% - 9px);\n",
       "    background: url(\n",
       "data:image/svg+xml;utf8,%0A%3C%21--%20Generated%20with%20http%3A//jxnblk.com/paths%20--%3E%0A%3Csvg%0A%20%20xmlns%3D%27http%3A//www.w3.org/2000/svg%27%0A%20%20viewBox%3D%270%200%2064%2064%27%0A%20%20width%3D%2764%27%20height%3D%2764%27%0A%20%20fill%3D%27currentcolor%27%3E%0A%20%20%3Cpath%20d%3D%27M60%200%20L32%2028%20L4%200%20L0%204%20L28%2032%20L0%2060%20L4%2064%20L32%2036%20L60%2064%20L64%2060%20L36%2032%20L64%204%27%20/%3E%0A%3C/svg%3E\n",
       ") center;\n",
       "    background-size: cover;\n",
       "}\n",
       ".gate_measure {\n",
       "    height: 20px;\n",
       "    width: 25px;\n",
       "    margin: calc(var(--box-height)/2 - 10px) calc(50% - 11px);\n",
       "    background: url(\n",
       "data:image/svg+xml;utf8,%0A%3C%21--%20Generated%20with%20http%3A//jxnblk.com/paths%20--%3E%0A%3Csvg%0A%20%20xmlns%3D%27http%3A//www.w3.org/2000/svg%27%0A%20%20viewBox%3D%27-10%20-10%2084%2084%27%0A%20%20width%3D%2764%27%20height%3D%2764%27%0A%20%20fill%3D%27white%27%0A%20%20stroke%3D%22black%22%0A%20%20stroke-width%3D%224px%22%0A%3E%0A%20%20%3Cpath%20d%3D%27M63%2C63%20C63%2C32%2048%2C16%2032%2C16%20C16%2C16%201%2C32%201%2C63%20L63%2C63%27%20/%3E%0A%20%20%3Cpath%20d%3D%22M32%2C63%20L56%2C16%22%20/%3E%0A%3C/svg%3E\n",
       ") center;\n",
       "    background-size: cover;\n",
       "}\n",
       ".gate_control {\n",
       "    position: absolute;\n",
       "    top: 0;\n",
       "    left: 0;\n",
       "    border-radius: 50%;\n",
       "    width: 6px;\n",
       "    height: 6px;\n",
       "    margin: calc(var(--box-height)/2 - 3px) calc(50% - 5px);\n",
       "    padding: 0;\n",
       "    border: 2px solid black;\n",
       "    background: black;\n",
       "}\n",
       ".gate_x {\n",
       "    top: -10px;\n",
       "    left: -6px;\n",
       "    border-radius: 50%;\n",
       "    border-color: black !important;\n",
       "    width: 20px;\n",
       "    background: url(\n",
       "data:image/svg+xml;utf8,%0A%3C%21--%20Generated%20with%20http%3A//jxnblk.com/paths%20--%3E%0A%3Csvg%0A%20%20xmlns%3D%27http%3A//www.w3.org/2000/svg%27%0A%20%20viewBox%3D%270%200%2064%2064%27%0A%20%20width%3D%2764%27%20height%3D%2764%27%0A%20%20fill%3D%27currentcolor%27%3E%0A%20%20%3Cpath%20d%3D%27M36%2064%20L36%2036%20L64%2036%20L64%2028%20L36%2028%20L36%200%20L28%200%20L28%2028%20L0%2028%20L0%2036%20L28%2036%20L28%2064%27%20/%3E%0A%3C/svg%3E\n",
       ") center;\n",
       "    background-size: cover;\n",
       "}\n",
       ".gate_reset{\n",
       "    margin: 11px 10px;\n",
       "    padding: 0 15px;\n",
       "    border: none !important;\n",
       "    border-left: 2px solid black !important;\n",
       "    background: url(\n",
       "data:image/svg+xml;utf8,%0A%3Csvg%0A%20%20xmlns%3D%27http%3A//www.w3.org/2000/svg%27%0A%20%20viewBox%3D%27-30%200%20104%2064%27%0A%20%20width%3D%2764%27%20height%3D%2764%27%0A%20%20fill%3D%22none%22%0A%20%20stroke%3D%22black%22%0A%20%20stroke-width%3D%224px%22%0A%3E%0A%20%20%3Cpath%20fill%3D%22darkseagreen%22%20stroke%3D%22none%22%20d%3D%22M%20-30%2032%20A%201%201%2090%200%201%2074%2032%20A%201%201%2090%200%201%20-30%2032%20Z%22/%3E%0A%20%20%3Cpath%20d%3D%22M%202%200%20L%202%2064%20Z%20M%2024%201%20L%2058%2032%20L%2024%2063%20M%2034%2034%22%20/%3E%0A%20%20%3Cpath%20d%3D%22M%2032%2034%20A%201%201%2090%200%201%2014%2034%20L%2014%2030%20A%201%201%2090%200%201%2032%2030%20Z%22%20/%3E%0A%3C/svg%3E\n",
       ") right no-repeat transparent;\n",
       "    background-size: contain;\n",
       "}\n",
       "\n",
       "/* Add wire sections coming in and out of the gate */\n",
       ".gate_in:before, .gate_in:after{\n",
       "    content: '';\n",
       "    position: absolute;\n",
       "    display: block;\n",
       "    top: calc(50% - 1px);\n",
       "    border: 1px solid var(--wire-col);\n",
       "    width: 9px;\n",
       "    height: 0;\n",
       "    background: var(--wire-col);\n",
       "    box-sizing: content-box;\n",
       "}\n",
       ".gate_in:before.classical,\n",
       ".gate_in:after.classical{\n",
       "    border-color: var(--c-wire-col);\n",
       "}\n",
       "\n",
       ".gate_in:before{\n",
       "    left: -12px;\n",
       "}\n",
       ".gate_out:after{\n",
       "    right: -12px;\n",
       "}\n",
       ".gate_top.gate_in:before, .gate_top.gate_out:after{\n",
       "    top:calc(50% - 6.5px)\n",
       "}\n",
       ".gate_bottom.gate_in:before, .gate_bottom.gate_out:after{\n",
       "    top:calc(50% + 4.5px)\n",
       "}\n",
       "\n",
       "\n",
       ".link-bottom, .link-top {\n",
       "    height: var(--box-height);\n",
       "    width: 0;\n",
       "    border: 1px solid black;\n",
       "    background: black;\n",
       "    position: absolute;\n",
       "    display: block;\n",
       "    left: calc(50% - 1px);\n",
       "    box-sizing: content-box;\n",
       "}\n",
       ".link-top{\n",
       "    top: calc(0px - var(--box-height)/2);\n",
       "}\n",
       ".link-bottom{\n",
       "    top: calc(var(--box-height)/2)\n",
       "}\n",
       ".half-link {\n",
       "    height: calc(var(--box-height) - 9px);\n",
       "}\n",
       ".half-link.link-bottom{\n",
       "    top: calc(var(--box-height)/2 + 11px)\n",
       "}\n",
       ".half-link.link-top{\n",
       "    top: calc(-2px - var(--box-height)/2);\n",
       "}\n",
       ".link-bottom.measurement{\n",
       "    width: 1px;\n",
       "    background: white;\n",
       "    border-top: none;\n",
       "    border-bottom: none;\n",
       "    height: calc(var(--box-height) + 2px);\n",
       "    z-index: 1;\n",
       "}\n",
       "</style>\n",
       "\n",
       "\n",
       "</head>\n",
       "<body>\n",
       "    <div >\n",
       "        <div class=\"circuit-preview condensed\">\n",
       "    <div class=\"circuit-container nested\">\n",
       "        <div class=\"circuit-layer qubits\">\n",
       "        \n",
       "            <div class=\"qubit\">q[0]</div>\n",
       "        \n",
       "            <div class=\"qubit\">q[1]</div>\n",
       "        \n",
       "        \n",
       "            <div class=\"qubit bit\">c[0]</div>\n",
       "        \n",
       "            <div class=\"qubit bit\">c[1]</div>\n",
       "        \n",
       "    </div>\n",
       "        \n",
       "            <div class=\"circuit-layer hover-highlight\">\n",
       "            \n",
       "                \n",
       "                \n",
       "                    \n",
       "    \n",
       "    \n",
       "        \n",
       "            <div class=\"gate_container\">\n",
       "        <div class=\"wire \"></div>\n",
       "        \n",
       "    </div>\n",
       "        \n",
       "            <div class=\"gate_container\">\n",
       "        <div class=\"wire \"></div>\n",
       "        \n",
       "    </div>\n",
       "        \n",
       "            <div class=\"gate_container\">\n",
       "        <div class=\"wire classical\"></div>\n",
       "        \n",
       "    </div>\n",
       "        \n",
       "            <div class=\"gate_container\">\n",
       "        <div class=\"wire classical\"></div>\n",
       "        \n",
       "    </div>\n",
       "        \n",
       "\n",
       "    \n",
       "    \n",
       "\n",
       "                \n",
       "            \n",
       "        </div>\n",
       "        \n",
       "            <div class=\"circuit-layer hover-highlight\">\n",
       "            \n",
       "                \n",
       "                \n",
       "                    \n",
       "    \n",
       "    \n",
       "        <div class=\"gate_container\">\n",
       "        \n",
       "            <div class=\"link-bottom measurement\"></div>\n",
       "        \n",
       "        \n",
       "\n",
       "        <div class=\"gate_container\">\n",
       "        <div class=\"wire \"></div>\n",
       "        \n",
       "    </div>\n",
       "        <div class=\"gate gate_connection gate_measure\"></div>\n",
       "    </div>\n",
       "        \n",
       "            <div class=\"gate_container\">\n",
       "        \n",
       "            <div class=\"link-bottom measurement\"></div>\n",
       "        \n",
       "        \n",
       "\n",
       "        <div class=\"gate_container\">\n",
       "        <div class=\"wire \"></div>\n",
       "        \n",
       "    </div>\n",
       "        <div class=\"gate gate_connection \"></div>\n",
       "    </div>\n",
       "        \n",
       "        <div class=\"gate_container\">\n",
       "        \n",
       "        \n",
       "\n",
       "        <div class=\"gate_container\">\n",
       "        <div class=\"wire classical\"></div>\n",
       "        \n",
       "    </div>\n",
       "        <div class=\"gate gate_connection \"></div>\n",
       "    </div>\n",
       "\n",
       "    \n",
       "    \n",
       "\n",
       "                \n",
       "            \n",
       "                \n",
       "                \n",
       "                    \n",
       "    \n",
       "    \n",
       "        \n",
       "            <div class=\"gate_container\">\n",
       "        <div class=\"wire classical\"></div>\n",
       "        \n",
       "    </div>\n",
       "        \n",
       "\n",
       "    \n",
       "    \n",
       "\n",
       "                \n",
       "            \n",
       "        </div>\n",
       "        \n",
       "            <div class=\"circuit-layer hover-highlight\">\n",
       "            \n",
       "                \n",
       "                \n",
       "                    \n",
       "    \n",
       "    \n",
       "        \n",
       "            <div class=\"gate_container\">\n",
       "        <div class=\"wire \"></div>\n",
       "        \n",
       "    </div>\n",
       "        \n",
       "\n",
       "    \n",
       "    \n",
       "\n",
       "                \n",
       "            \n",
       "                \n",
       "                \n",
       "                    \n",
       "    \n",
       "    \n",
       "        \n",
       "            <div class=\"gate_container nested\">\n",
       "        <div class=\"flex_wire\">\n",
       "            <div class=\"gate_container\">\n",
       "        <div class=\"wire \"></div>\n",
       "        \n",
       "    </div>\n",
       "        </div>\n",
       "        <div class=\"gate_container\">\n",
       "            \n",
       "                <div class=\"gate gate_box gate_in gate_out \">\n",
       "                    <span class=\"gate_name\">H</span>\n",
       "                </div>\n",
       "            \n",
       "\n",
       "            \n",
       "        </div>\n",
       "        <div class=\"flex_wire\">\n",
       "            <div class=\"gate_container\">\n",
       "        <div class=\"wire \"></div>\n",
       "        \n",
       "    </div>\n",
       "        </div>\n",
       "    </div>\n",
       "        \n",
       "    \n",
       "\n",
       "                \n",
       "            \n",
       "                \n",
       "                \n",
       "                    \n",
       "    \n",
       "    \n",
       "        \n",
       "            <div class=\"gate_container\">\n",
       "        <div class=\"wire classical\"></div>\n",
       "        \n",
       "    </div>\n",
       "        \n",
       "            <div class=\"gate_container\">\n",
       "        <div class=\"wire classical\"></div>\n",
       "        \n",
       "    </div>\n",
       "        \n",
       "\n",
       "    \n",
       "    \n",
       "\n",
       "                \n",
       "            \n",
       "        </div>\n",
       "        \n",
       "            <div class=\"circuit-layer hover-highlight\">\n",
       "            \n",
       "                \n",
       "                \n",
       "                    \n",
       "    \n",
       "    \n",
       "        \n",
       "            <div class=\"gate_container\">\n",
       "        <div class=\"wire \"></div>\n",
       "        \n",
       "    </div>\n",
       "        \n",
       "\n",
       "    \n",
       "    \n",
       "\n",
       "                \n",
       "            \n",
       "                \n",
       "                \n",
       "                    \n",
       "    \n",
       "    \n",
       "        <div class=\"gate_container\">\n",
       "        \n",
       "            <div class=\"link-bottom measurement\"></div>\n",
       "        \n",
       "        \n",
       "\n",
       "        <div class=\"gate_container\">\n",
       "        <div class=\"wire \"></div>\n",
       "        \n",
       "    </div>\n",
       "        <div class=\"gate gate_connection gate_measure\"></div>\n",
       "    </div>\n",
       "        \n",
       "            <div class=\"gate_container\">\n",
       "        \n",
       "            <div class=\"link-bottom measurement\"></div>\n",
       "        \n",
       "        \n",
       "\n",
       "        <div class=\"gate_container\">\n",
       "        <div class=\"wire classical\"></div>\n",
       "        \n",
       "    </div>\n",
       "        <div class=\"gate gate_connection \"></div>\n",
       "    </div>\n",
       "        \n",
       "        <div class=\"gate_container\">\n",
       "        \n",
       "        \n",
       "\n",
       "        <div class=\"gate_container\">\n",
       "        <div class=\"wire classical\"></div>\n",
       "        \n",
       "    </div>\n",
       "        <div class=\"gate gate_connection \"></div>\n",
       "    </div>\n",
       "\n",
       "    \n",
       "    \n",
       "\n",
       "                \n",
       "            \n",
       "                \n",
       "                \n",
       "                    \n",
       "    \n",
       "    \n",
       "        \n",
       "\n",
       "    \n",
       "    \n",
       "\n",
       "                \n",
       "            \n",
       "        </div>\n",
       "        \n",
       "            <div class=\"circuit-layer hover-highlight\">\n",
       "            \n",
       "                \n",
       "                \n",
       "                    \n",
       "    \n",
       "    \n",
       "        \n",
       "            <div class=\"gate_container\">\n",
       "        <div class=\"wire \"></div>\n",
       "        \n",
       "    </div>\n",
       "        \n",
       "            <div class=\"gate_container\">\n",
       "        <div class=\"wire \"></div>\n",
       "        \n",
       "    </div>\n",
       "        \n",
       "            <div class=\"gate_container\">\n",
       "        <div class=\"wire classical\"></div>\n",
       "        \n",
       "    </div>\n",
       "        \n",
       "            <div class=\"gate_container\">\n",
       "        <div class=\"wire classical\"></div>\n",
       "        \n",
       "    </div>\n",
       "        \n",
       "\n",
       "    \n",
       "    \n",
       "\n",
       "                \n",
       "            \n",
       "        </div>\n",
       "        \n",
       "        <div class=\"circuit-layer qubits\">\n",
       "        \n",
       "            <div class=\"qubit\">q[0]</div>\n",
       "        \n",
       "            <div class=\"qubit\">q[1]</div>\n",
       "        \n",
       "        \n",
       "            <div class=\"qubit bit\">c[0]</div>\n",
       "        \n",
       "            <div class=\"qubit bit\">c[1]</div>\n",
       "        \n",
       "    </div>\n",
       "    </div>\n",
       "</div>\n",
       "    </div>\n",
       "</body>\n",
       "</html>"
      ],
      "text/plain": [
       "<IPython.core.display.HTML object>"
      ]
     },
     "metadata": {},
     "output_type": "display_data"
    }
   ],
   "source": [
    "measures.measure_all()\n",
    "render_circuit_jupyter(measures)"
   ]
  },
  {
   "cell_type": "code",
   "execution_count": null,
   "id": "d59c494c",
   "metadata": {
    "slideshow": {
     "slide_type": "slide"
    }
   },
   "outputs": [],
   "source": [
    "circ.append(measures)\n",
    "render_circuit_jupyter(circ)"
   ]
  },
  {
   "cell_type": "code",
   "execution_count": null,
   "id": "ab75290f",
   "metadata": {
    "slideshow": {
     "slide_type": "slide"
    }
   },
   "outputs": [],
   "source": [
    "tk_to_qiskit(circ).draw(output='mpl')"
   ]
  },
  {
   "cell_type": "markdown",
   "id": "e52fd826",
   "metadata": {
    "slideshow": {
     "slide_type": "slide"
    }
   },
   "source": [
    "# Quick note on Backends\n",
    "\n",
    "\n"
   ]
  },
  {
   "cell_type": "markdown",
   "id": "051800d3",
   "metadata": {
    "slideshow": {
     "slide_type": "notes"
    }
   },
   "source": [
    "Every device and simulator will have some restrictions to allow for a simpler implementation or because of the limits of engineering or noise within a device. For example, devices and simulators are typically designed to only support a small (but universal) gate set, so a Circuit containing other gate types could not be run immediately. However, as long as the fragment supported is universal, it is enough to be able to compile down to a semantically-equivalent Circuit which satisfies the requirements, for example, by translating each unknown gate into sequences of known gates.\n",
    "\n",
    "Other common restrictions presented by QPUs include the number of available qubits and their connectivity (multi-qubit gates may only be performed between adjacent qubits on the architecture). Measurements may also be noisy or take a long time on some QPUs, leading to the destruction or decoherence of any remaining quantum state, so they are artificially restricted to only happen in a single layer at the end of execution and mid-circuit measurements are rejected. More extremely, some classes of classical simulators will reject measurements entirely as they are designed to simulate pure quantum circuits (for example, when looking to yield a statevector or unitary deterministically).\n",
    "\n",
    "Each Backend object is aware of the restrictions of the underlying device or simulator, encoding them as a collection of Predicate s. Each Predicate is essentially a Boolean property of a Circuit which must return True for the Circuit to successfully run. The set of Predicates required by a Backend can be queried with Backend.required_predicates."
   ]
  },
  {
   "cell_type": "code",
   "execution_count": null,
   "id": "42e24266",
   "metadata": {
    "slideshow": {
     "slide_type": "slide"
    }
   },
   "outputs": [],
   "source": [
    "from pytket.extensions.qiskit import IBMQBackend, AerStateBackend\n",
    "dev_b = IBMQBackend(\"ibmq_athens\")\n",
    "sim_b = AerStateBackend()\n",
    "print(dev_b.required_predicates)\n",
    "print(sim_b.required_predicates)"
   ]
  },
  {
   "cell_type": "markdown",
   "id": "3bec2a17",
   "metadata": {
    "slideshow": {
     "slide_type": "slide"
    }
   },
   "source": [
    "# Circuit compilation and optimization\n",
    "\n"
   ]
  },
  {
   "cell_type": "markdown",
   "id": "5833573b",
   "metadata": {
    "slideshow": {
     "slide_type": "notes"
    }
   },
   "source": [
    "The primary goals of compilation are two-fold: solving the constraints of the Backend to get from the abstract model to something runnable, and optimising/simplifying the Circuit to make it faster, smaller, and less prone to noise. Every step in compilation can generally be split up into one of these two categories (though even the constraint solving steps could have multiple solutions over which we could optimise for noise).\n",
    "\n",
    "Each compiler pass inherits from the BasePass class, capturing a method of transforming a Circuit. The main functionality is built into the BasePass.apply() method, which applies the transformation to a Circuit in-place. The Backend.compile_circuit() method is simply an alias for BasePass.apply() from the Backend ‘s recommended pass sequence. \n"
   ]
  },
  {
   "cell_type": "markdown",
   "id": "0763a42b",
   "metadata": {
    "slideshow": {
     "slide_type": "slide"
    }
   },
   "source": [
    "### Rebases\n",
    "\n"
   ]
  },
  {
   "cell_type": "markdown",
   "id": "4a62a9ef",
   "metadata": {
    "slideshow": {
     "slide_type": "notes"
    }
   },
   "source": [
    "One of the simplest constraints to solve for is the GateSetPredicate, since we can just substitute each gate in a Circuit with an equivalent sequence of gates in the target gateset according to some known gate decompositions. In pytket, such passes are referred to as “rebases”. The intention here is to perform this translation naively, leaving the optimisation of gate sequences to other passes. Rebases can be applied to any Circuit and will preserve every structural Predicate, only changing the types of gates used.\n"
   ]
  },
  {
   "cell_type": "code",
   "execution_count": 22,
   "id": "e803599b",
   "metadata": {
    "slideshow": {
     "slide_type": "slide"
    }
   },
   "outputs": [
    {
     "ename": "NameError",
     "evalue": "name 'tk_to_qiskit' is not defined",
     "output_type": "error",
     "traceback": [
      "\u001b[0;31m---------------------------------------------------------------------------\u001b[0m",
      "\u001b[0;31mNameError\u001b[0m                                 Traceback (most recent call last)",
      "\u001b[0;32m<ipython-input-22-8144cb8d1d80>\u001b[0m in \u001b[0;36m<module>\u001b[0;34m\u001b[0m\n\u001b[1;32m      4\u001b[0m \u001b[0mcirc\u001b[0m\u001b[0;34m.\u001b[0m\u001b[0mRx\u001b[0m\u001b[0;34m(\u001b[0m\u001b[0;36m0.3\u001b[0m\u001b[0;34m,\u001b[0m \u001b[0;36m0\u001b[0m\u001b[0;34m)\u001b[0m\u001b[0;34m.\u001b[0m\u001b[0mRy\u001b[0m\u001b[0;34m(\u001b[0m\u001b[0;34m-\u001b[0m\u001b[0;36m0.9\u001b[0m\u001b[0;34m,\u001b[0m \u001b[0;36m1\u001b[0m\u001b[0;34m)\u001b[0m\u001b[0;34m.\u001b[0m\u001b[0mCZ\u001b[0m\u001b[0;34m(\u001b[0m\u001b[0;36m0\u001b[0m\u001b[0;34m,\u001b[0m \u001b[0;36m1\u001b[0m\u001b[0;34m)\u001b[0m\u001b[0;34m.\u001b[0m\u001b[0mS\u001b[0m\u001b[0;34m(\u001b[0m\u001b[0;36m0\u001b[0m\u001b[0;34m)\u001b[0m\u001b[0;34m.\u001b[0m\u001b[0mCX\u001b[0m\u001b[0;34m(\u001b[0m\u001b[0;36m1\u001b[0m\u001b[0;34m,\u001b[0m \u001b[0;36m0\u001b[0m\u001b[0;34m)\u001b[0m\u001b[0;34m.\u001b[0m\u001b[0mmeasure_all\u001b[0m\u001b[0;34m(\u001b[0m\u001b[0;34m)\u001b[0m\u001b[0;34m\u001b[0m\u001b[0;34m\u001b[0m\u001b[0m\n\u001b[1;32m      5\u001b[0m \u001b[0;34m\u001b[0m\u001b[0m\n\u001b[0;32m----> 6\u001b[0;31m \u001b[0mtk_to_qiskit\u001b[0m\u001b[0;34m(\u001b[0m\u001b[0mcirc\u001b[0m\u001b[0;34m)\u001b[0m\u001b[0;34m.\u001b[0m\u001b[0mdraw\u001b[0m\u001b[0;34m(\u001b[0m\u001b[0moutput\u001b[0m\u001b[0;34m=\u001b[0m\u001b[0;34m'mpl'\u001b[0m\u001b[0;34m)\u001b[0m\u001b[0;34m\u001b[0m\u001b[0;34m\u001b[0m\u001b[0m\n\u001b[0m\u001b[1;32m      7\u001b[0m \u001b[0;34m\u001b[0m\u001b[0m\n",
      "\u001b[0;31mNameError\u001b[0m: name 'tk_to_qiskit' is not defined"
     ]
    }
   ],
   "source": [
    "from pytket import Circuit\n",
    "from pytket.passes import RebaseIBM, RebasePyZX\n",
    "circ = Circuit(2, 2)\n",
    "circ.Rx(0.3, 0).Ry(-0.9, 1).CZ(0, 1).S(0).CX(1, 0).measure_all()\n",
    "\n",
    "tk_to_qiskit(circ).draw(output='mpl')\n",
    "\n"
   ]
  },
  {
   "cell_type": "code",
   "execution_count": null,
   "id": "7d8d6297",
   "metadata": {
    "slideshow": {
     "slide_type": "slide"
    }
   },
   "outputs": [],
   "source": [
    "RebasePyZX().apply(circ)\n",
    "tk_to_qiskit(circ).draw(output='mpl')"
   ]
  },
  {
   "cell_type": "code",
   "execution_count": null,
   "id": "ab19814d",
   "metadata": {
    "slideshow": {
     "slide_type": "slide"
    }
   },
   "outputs": [],
   "source": [
    "circ = Circuit(2, 2)\n",
    "circ.Rx(0.3, 0).Ry(-0.9, 1).CZ(0, 1).S(0).CX(1, 0).measure_all()\n",
    "\n",
    "RebaseIBM().apply(circ)\n",
    "\n",
    "tk_to_qiskit(circ).draw(output='mpl')"
   ]
  },
  {
   "cell_type": "markdown",
   "id": "47690668",
   "metadata": {
    "slideshow": {
     "slide_type": "notes"
    }
   },
   "source": [
    "Note: as you can see, RebaseIBM is a bit outdated in the sense that this will produce a circuit with U1, U2,U3 and CX gates instead of the new default gateset used on IBM devices. The use of the appropriate gateset (new) will automatically be used when a backend is selected."
   ]
  },
  {
   "cell_type": "markdown",
   "id": "381ba5ec",
   "metadata": {
    "slideshow": {
     "slide_type": "slide"
    }
   },
   "source": [
    "\n",
    "### Placement\n",
    "\n",
    "\n"
   ]
  },
  {
   "cell_type": "markdown",
   "id": "0b61e6f6",
   "metadata": {
    "slideshow": {
     "slide_type": "notes"
    }
   },
   "source": [
    "Now that we saw how to transform a circuit so it matches a specific target gateset (and it is easy to define a rebase for an arbitrary gateset), we can have a look into placement, and then routing.\n",
    "\n",
    "\n",
    "Initially, a Circuit designed without a target device in mind will be expressed in terms of actions on a set of “logical qubits” - those with semantic meaning to the computation. A placement (or initial mapping) is a map from these logical qubits to the physical qubits of the device that will be used to carry them. A given placement may be preferred over another if the connectivity of the physical qubits better matches the interactions between the logical qubits caused by multi-qubit gates, or if the selection of physical qubits has better noise characteristics. All of the information for connectivity and noise characteristics of a given Backend is wrapped up in a Device object by the Backend.device property.\n",
    "\n",
    "The placement only specifies where the logical qubits will be at the start of execution, which is not necessarily where they will end up on termination. Other compiler passes may choose to permute the qubits in the middle of a Circuit to either exploit further optimisations or enable interactions between logical qubits that were not assigned to adjacent physical qubits.\n",
    "\n",
    "A placement pass will act in place on a Circuit by renaming the qubits from their logical names (the UnitID s used at circuit construction) to their physical addresses (the UnitID s recognised by the Backend). Classical data is never renamed.\n",
    "\n",
    "Several heuristics have been implemented for identifying candidate placements. For example, LinePlacement will try to identify long paths on the connectivity graph which could be treated as a linear nearest-neighbour system. GraphPlacement will try to identify a subgraph isomorphism between the graph of interacting logical qubits (up to some depth into the Circuit) and the connectivity graph of the physical qubits. Then NoiseAwarePlacement extends this to break ties in equivalently good graph maps by looking at the error rates of the physical qubits and their couplers. \n",
    "\n",
    "The latter two can be configured using e.g. GraphPlacement.modify_config() to change parameters like how far into the Circuit it will look for interacting qubits (trading off time spent searching for the chance to find a better placement).\n"
   ]
  },
  {
   "cell_type": "code",
   "execution_count": null,
   "id": "81aac23d",
   "metadata": {
    "slideshow": {
     "slide_type": "slide"
    }
   },
   "outputs": [],
   "source": [
    "from pytket import Circuit\n",
    "from pytket.extensions.qiskit import IBMQBackend\n",
    "from pytket.passes import PlacementPass\n",
    "from pytket.predicates import ConnectivityPredicate\n",
    "from pytket.routing import GraphPlacement, NoiseAwarePlacement\n",
    "circ = Circuit(4, 4)\n",
    "circ.H(0).H(1).H(2).V(3)\n",
    "circ.CX(0, 1).CX(1, 2).CX(2, 3)\n",
    "circ.Rz(-0.37, 3)\n",
    "circ.CX(2, 3).CX(1, 2).CX(0, 1)\n",
    "circ.H(0).H(1).H(2).Vdg(3)\n",
    "circ.measure_all()\n",
    "\n",
    "\n",
    "render_circuit_jupyter(circ)\n",
    "\n"
   ]
  },
  {
   "cell_type": "markdown",
   "id": "69a41add",
   "metadata": {
    "slideshow": {
     "slide_type": "slide"
    }
   },
   "source": [
    "<figure>\n",
    "<img src=\"files/belem.png\" width=\"200\" height=\"100\"\n",
    "     alt=\"belem\" >\n",
    "<figcaption>IBM Belem device</figcaption>\n",
    "</figure>\n"
   ]
  },
  {
   "cell_type": "code",
   "execution_count": null,
   "id": "78a02d57",
   "metadata": {
    "slideshow": {
     "slide_type": "slide"
    }
   },
   "outputs": [],
   "source": [
    "backend = IBMQBackend(\"ibmq_belem\")\n",
    "place = PlacementPass(GraphPlacement(backend.device))\n",
    "place.apply(circ)\n",
    "\n",
    "print(circ.get_commands())\n",
    "print(ConnectivityPredicate(backend.device).verify(circ))"
   ]
  },
  {
   "cell_type": "code",
   "execution_count": null,
   "id": "c3ad94f1",
   "metadata": {
    "slideshow": {
     "slide_type": "fragment"
    }
   },
   "outputs": [],
   "source": [
    "render_circuit_jupyter(circ)"
   ]
  },
  {
   "cell_type": "markdown",
   "id": "691a9078",
   "metadata": {
    "slideshow": {
     "slide_type": "notes"
    }
   },
   "source": [
    "Alternatively, we cal also use the NoiseAware placement and see the difference"
   ]
  },
  {
   "cell_type": "code",
   "execution_count": null,
   "id": "a5c001d1",
   "metadata": {
    "slideshow": {
     "slide_type": "slide"
    }
   },
   "outputs": [],
   "source": [
    "backend = IBMQBackend(\"ibmq_belem\")\n",
    "place = PlacementPass(NoiseAwarePlacement(backend.device))\n",
    "place.apply(circ)\n",
    "\n",
    "print(circ.get_commands())\n",
    "print(ConnectivityPredicate(backend.device).verify(circ))"
   ]
  },
  {
   "cell_type": "code",
   "execution_count": null,
   "id": "81e8dfeb",
   "metadata": {
    "slideshow": {
     "slide_type": "fragment"
    }
   },
   "outputs": [],
   "source": [
    "render_circuit_jupyter(circ)"
   ]
  },
  {
   "cell_type": "markdown",
   "id": "a7d8126a",
   "metadata": {
    "slideshow": {
     "slide_type": "notes"
    }
   },
   "source": [
    "Quick note on Noise aware placement"
   ]
  },
  {
   "cell_type": "markdown",
   "id": "b56d75e5",
   "metadata": {
    "slideshow": {
     "slide_type": "notes"
    }
   },
   "source": [
    "Many quantum devices place limits on which qubits can interact, with these limitations being determined by the device architecture. When compiling a circuit to run on one of these devices, the circuit must be modified to fit the architecture, a process described in the previous chapter under Placement and Routing.\n",
    "\n",
    "In addition, the noise present in NISQ devices typically varies across the architecture, with different qubits and couplings experiencing different error rates, which may also vary depending on the operation being performed. To complicate matters further, these characteristics vary over time, a phenomenon commonly referred to as device drift.\n",
    "\n",
    "Some devices expose error characterisation information through their programming interface. When available, Backend objects will populate a characterisation property with this information.\n",
    "\n",
    "This is the case for example for IBM devices. Let's see what is available for the Belem device for example.\n"
   ]
  },
  {
   "cell_type": "code",
   "execution_count": null,
   "id": "e70b2673",
   "metadata": {
    "slideshow": {
     "slide_type": "slide"
    }
   },
   "outputs": [],
   "source": [
    "from pytket.extensions.qiskit import IBMQBackend\n",
    "\n",
    "backend = IBMQBackend(\"ibmq_santiago\")\n",
    "for key in backend.characterisation:\n",
    "    print(key)"
   ]
  },
  {
   "cell_type": "markdown",
   "id": "2c5c5726",
   "metadata": {
    "slideshow": {
     "slide_type": "notes"
    }
   },
   "source": [
    "The Device stores device characteristics used in noise aware mapping methods, including single-qubit and two-qubit gate error rates and readout error rates. The characterisation member of Backend contains all characterisation information supplied by hardware providers.\n",
    "\n"
   ]
  },
  {
   "cell_type": "code",
   "execution_count": null,
   "id": "829c89fb",
   "metadata": {
    "slideshow": {
     "slide_type": "slide"
    }
   },
   "outputs": [],
   "source": [
    "print(repr(backend.device))\n"
   ]
  },
  {
   "cell_type": "markdown",
   "id": "cbecd184",
   "metadata": {
    "slideshow": {
     "slide_type": "notes"
    }
   },
   "source": [
    "Let's use a very small circuit to illustrate this"
   ]
  },
  {
   "cell_type": "code",
   "execution_count": null,
   "id": "49fd89e7",
   "metadata": {
    "slideshow": {
     "slide_type": "slide"
    }
   },
   "outputs": [],
   "source": [
    "circ = Circuit(3).CX(0,1).CX(0,2)\n",
    "render_circuit_jupyter(circ)"
   ]
  },
  {
   "cell_type": "code",
   "execution_count": null,
   "id": "dd6096eb",
   "metadata": {
    "slideshow": {
     "slide_type": "slide"
    }
   },
   "outputs": [],
   "source": [
    "from pytket.routing import NoiseAwarePlacement, GraphPlacement\n",
    "\n",
    "noise_placer = NoiseAwarePlacement(backend.device)\n",
    "graph_placer = GraphPlacement(backend.device)\n",
    "\n",
    "circ = Circuit(3).CX(0,1).CX(0,2)\n",
    "\n",
    "print(backend.device.coupling, '\\n')\n",
    "\n",
    "noise_placement = noise_placer.get_placement_map(circ)\n",
    "graph_placement = graph_placer.get_placement_map(circ)\n",
    "\n",
    "print('NoiseAwarePlacement mapping:')\n",
    "for k, v in noise_placement.items():\n",
    "    print(k, v)\n",
    "\n",
    "print('\\nGraphPlacement mapping:')\n",
    "for k, v in graph_placement.items():\n",
    "    print(k, v)\n"
   ]
  },
  {
   "cell_type": "markdown",
   "id": "da45dc3a",
   "metadata": {},
   "source": []
  },
  {
   "cell_type": "markdown",
   "id": "742ba53f",
   "metadata": {
    "slideshow": {
     "slide_type": "slide"
    }
   },
   "source": [
    "### Routing\n",
    "\n",
    "\n"
   ]
  },
  {
   "cell_type": "markdown",
   "id": "4d7cd1ba",
   "metadata": {
    "slideshow": {
     "slide_type": "notes"
    }
   },
   "source": [
    "The heterogeneity of quantum architectures and limited connectivity of their qubits impose the strict restriction that multi-qubit gates are only allowed between specific pairs of qubits. Given it is far easier to program a high-level operation which is semantically correct and meaningful when assuming full connectivity, a compiler will have to solve this constraint. In general, there won’t be an exact subgraph isomorphism between the graph of interacting logical qubits and the connected physical qubits, so this cannot be solved with placement alone.\n",
    "\n",
    "One solution here, is to scan through the Circuit looking for invalid interactions. Each of these can be solved by either moving the qubits around on the architecture by adding OpType.SWAP gates until they are in adjacent locations, or performing a distributed entangling operation using the intervening qubits (such as the “bridged-CX” OpType.BRIDGE which uses 4 CX gates and a single shared neighbour). The routing procedure in pytket takes a placed Circuit and inserts gates to reduce non-local operations to sequences of valid local ones."
   ]
  },
  {
   "cell_type": "code",
   "execution_count": null,
   "id": "1bf09ddd",
   "metadata": {
    "slideshow": {
     "slide_type": "slide"
    }
   },
   "outputs": [],
   "source": [
    "from pytket import Circuit\n",
    "from pytket.extensions.qiskit import IBMQBackend\n",
    "from pytket.passes import PlacementPass, RoutingPass\n",
    "from pytket.routing import GraphPlacement\n",
    "circ = Circuit(4)\n",
    "circ.CX(0, 1).CX(0, 2).CX(1, 2).CX(3, 2).CX(0, 3)\n"
   ]
  },
  {
   "cell_type": "code",
   "execution_count": null,
   "id": "34768604",
   "metadata": {
    "slideshow": {
     "slide_type": "fragment"
    }
   },
   "outputs": [],
   "source": [
    "render_circuit_jupyter(circ)"
   ]
  },
  {
   "cell_type": "code",
   "execution_count": null,
   "id": "a5ac4135",
   "metadata": {
    "slideshow": {
     "slide_type": "slide"
    }
   },
   "outputs": [],
   "source": [
    "backend = IBMQBackend(\"ibmq_belem\")\n",
    "PlacementPass(GraphPlacement(backend.device)).apply(circ)\n",
    "print(circ.get_commands())  # One qubit still unplaced\n",
    "                            # node[0] and node[2] are not adjacent\n",
    "\n"
   ]
  },
  {
   "cell_type": "code",
   "execution_count": null,
   "id": "086ade7f",
   "metadata": {
    "slideshow": {
     "slide_type": "fragment"
    }
   },
   "outputs": [],
   "source": [
    "render_circuit_jupyter(circ)"
   ]
  },
  {
   "cell_type": "code",
   "execution_count": null,
   "id": "1539f274",
   "metadata": {
    "slideshow": {
     "slide_type": "slide"
    }
   },
   "outputs": [],
   "source": [
    "RoutingPass(backend.device).apply(circ)\n",
    "print(circ.get_commands())"
   ]
  },
  {
   "cell_type": "code",
   "execution_count": null,
   "id": "aed1e06c",
   "metadata": {
    "slideshow": {
     "slide_type": "fragment"
    }
   },
   "outputs": [],
   "source": [
    "render_circuit_jupyter(circ)"
   ]
  },
  {
   "cell_type": "markdown",
   "id": "7ca7ea8f",
   "metadata": {},
   "source": [
    "### Optimisations\n",
    "Having covered the primary goal of compilation and reduced our Circuit s to a form where they can be run, we find that there are additional techniques we can use to obtain more reliable results by reducing the noise and probability of error. Most Circuit optimisations follow the mantra of “fewer expensive resources gives less opportunity for noise to creep in”, whereby if we find an alternative Circuit that is observationally equivalent in a perfect noiseless setting but uses fewer resources (gates, time, ancilla qubits) then it is likely to perform better in a noisy context (though not always guaranteed).\n",
    "\n",
    "If we have two Circuits that are observationally equivalent, we know that replacing one for the other in any context also gives something that is observationally equivalent. The simplest optimisations will take an inefficient pattern, find all matches in the given Circuit and replace them by the efficient alternative. A good example from this class of peephole optimisations is the RemoveRedundancies pass, which looks for a number of easy-to-spot redundant gates, such as zero-parameter rotation gates, gate-inverse pairs, adjacent rotation gates in the same basis, and diagonal rotation gates followed by measurements.\n",
    "\n"
   ]
  },
  {
   "cell_type": "code",
   "execution_count": null,
   "id": "95e3fa1a",
   "metadata": {},
   "outputs": [],
   "source": [
    "from pytket import Circuit, OpType\n",
    "from pytket.passes import RemoveRedundancies\n",
    "circ = Circuit(3, 3)\n",
    "circ.Rx(0.92, 0).CX(1, 2).Rx(-0.18, 0)  # Adjacent Rx gates can be merged\n",
    "circ.CZ(0, 1).Ry(0.11, 2).CZ(0, 1)      # CZ is self-inverse\n",
    "circ.add_gate(OpType.XXPhase, 0.6, [0, 1])\n",
    "circ.add_gate(OpType.YYPhase, 0, [0, 1])    # 0-angle rotation does nothing\n",
    "circ.add_gate(OpType.ZZPhase, -0.84, [0, 1])\n",
    "circ.Rx(0.03, 0).Rz(-0.9, 1).measure_all()  # Effect of Rz is eliminated by measurement\n",
    "\n",
    "print(circ.get_commands())"
   ]
  },
  {
   "cell_type": "code",
   "execution_count": null,
   "id": "97d3c3da",
   "metadata": {},
   "outputs": [],
   "source": [
    "render_circuit_jupyter(circ)"
   ]
  },
  {
   "cell_type": "code",
   "execution_count": null,
   "id": "4820f9fa",
   "metadata": {},
   "outputs": [],
   "source": [
    "RemoveRedundancies().apply(circ)\n",
    "print(circ.get_commands())\n"
   ]
  },
  {
   "cell_type": "code",
   "execution_count": null,
   "id": "8b3f355e",
   "metadata": {},
   "outputs": [],
   "source": [
    "render_circuit_jupyter(circ)"
   ]
  },
  {
   "cell_type": "markdown",
   "id": "da0b59f9",
   "metadata": {},
   "source": [
    "A set of passes can be applied in order to fully optimize the circuit. This can be done manually byt pytket also has a default predefined sequences (i.e. levels of optimization.)\n",
    "Level 0: Just solves the constraints as simply as possible. No optimisation.\n",
    "Level 1: Adds basic optimisations for efficient compilation.\n",
    "Level 2: Extends to more intensive optimisations."
   ]
  },
  {
   "cell_type": "code",
   "execution_count": null,
   "id": "88aa35f0",
   "metadata": {},
   "outputs": [],
   "source": [
    "from pytket import Circuit, OpType\n",
    "from pytket.extensions.qiskit import AerBackend\n",
    "circ = Circuit(3)\n",
    "circ.CZ(0, 1)\n",
    "circ.H(1)\n",
    "circ.Rx(0.42, 1)\n",
    "circ.S(1)\n",
    "circ.add_gate(OpType.YYPhase, 0.96, [1, 2])\n",
    "circ.CX(0, 1)\n",
    "circ.measure_all()\n",
    "#b = AerBackend()\n",
    "b= IBMQBackend(\"ibmq_belem\")\n",
    "for ol in range(3):\n",
    "    test = circ.copy()\n",
    "    b.default_compilation_pass(ol).apply(test)\n",
    "    assert b.valid_circuit(test)\n",
    "    print(\"Optimisation level\", ol)\n",
    "    print(\"Gates\", test.n_gates)\n",
    "    print(\"CXs\", test.n_gates_of_type(OpType.CX))\n"
   ]
  },
  {
   "cell_type": "code",
   "execution_count": null,
   "id": "923a1f6c",
   "metadata": {},
   "outputs": [],
   "source": []
  },
  {
   "cell_type": "code",
   "execution_count": null,
   "id": "98fb1aaa",
   "metadata": {},
   "outputs": [],
   "source": []
  },
  {
   "cell_type": "code",
   "execution_count": null,
   "id": "865945cd",
   "metadata": {},
   "outputs": [],
   "source": []
  },
  {
   "cell_type": "code",
   "execution_count": null,
   "id": "1180d7f2",
   "metadata": {},
   "outputs": [],
   "source": []
  },
  {
   "cell_type": "code",
   "execution_count": null,
   "id": "052fe23a",
   "metadata": {},
   "outputs": [],
   "source": [
    "from pytket.extensions.qiskit.tket_backend import TketBackend\n",
    "from pytket.passes import RebaseIBM, SequencePass"
   ]
  },
  {
   "cell_type": "code",
   "execution_count": null,
   "id": "52e8e883",
   "metadata": {},
   "outputs": [],
   "source": [
    "from pytket.extensions.qiskit import qiskit_to_tk\n",
    "from pytket.extensions.qiskit import IBMQBackend"
   ]
  },
  {
   "cell_type": "code",
   "execution_count": null,
   "id": "bf7b204d",
   "metadata": {},
   "outputs": [],
   "source": [
    "from pytket.extensions.qiskit import TketPass"
   ]
  },
  {
   "cell_type": "code",
   "execution_count": null,
   "id": "fb11cd71",
   "metadata": {},
   "outputs": [],
   "source": [
    "seq = SequencePass([\n",
    "    # Insert pytket pass of choice\n",
    "    RebaseIBM(),\n",
    "])"
   ]
  },
  {
   "cell_type": "code",
   "execution_count": null,
   "id": "3029df72",
   "metadata": {},
   "outputs": [],
   "source": [
    "backend = IBMQBackend(\"ibmq_santiago\")\n",
    "for key in backend.characterisation:\n",
    "    print(key)"
   ]
  },
  {
   "cell_type": "code",
   "execution_count": null,
   "id": "b55c441c",
   "metadata": {},
   "outputs": [],
   "source": []
  },
  {
   "cell_type": "code",
   "execution_count": null,
   "id": "74580be0",
   "metadata": {},
   "outputs": [],
   "source": []
  },
  {
   "cell_type": "code",
   "execution_count": null,
   "id": "8ea76d7f",
   "metadata": {},
   "outputs": [],
   "source": []
  },
  {
   "cell_type": "code",
   "execution_count": null,
   "id": "53f7d4a7",
   "metadata": {},
   "outputs": [],
   "source": []
  },
  {
   "cell_type": "code",
   "execution_count": null,
   "id": "4234382f",
   "metadata": {},
   "outputs": [],
   "source": [
    "c1 = Circuit(3)\n",
    "c1.depth() \n",
    "\n"
   ]
  },
  {
   "cell_type": "code",
   "execution_count": null,
   "id": "752347f3",
   "metadata": {},
   "outputs": [],
   "source": [
    "c1.CX(0,1)\n",
    "c1.CX(1,2)\n",
    "c1.CX(2,0)\n",
    "c1.depth()"
   ]
  },
  {
   "cell_type": "code",
   "execution_count": null,
   "id": "b06b25c9",
   "metadata": {},
   "outputs": [],
   "source": [
    "render_circuit_jupyter(c1)"
   ]
  },
  {
   "cell_type": "code",
   "execution_count": null,
   "id": "cc5a2740",
   "metadata": {},
   "outputs": [],
   "source": [
    "measure_all(c1)"
   ]
  },
  {
   "cell_type": "code",
   "execution_count": null,
   "id": "8f2d8d30",
   "metadata": {},
   "outputs": [],
   "source": [
    "c2 = Circuit(3)\n",
    "\n",
    "c2.CX(0,1)\n",
    "c2.Z(1)\n",
    "c2.CX(1,2)"
   ]
  },
  {
   "cell_type": "code",
   "execution_count": null,
   "id": "db65fe2a",
   "metadata": {},
   "outputs": [],
   "source": [
    "render_circuit_jupyter(c2)"
   ]
  },
  {
   "cell_type": "code",
   "execution_count": null,
   "id": "f0359a52",
   "metadata": {},
   "outputs": [],
   "source": [
    "c1.depth_by_type(OpType.CX)"
   ]
  },
  {
   "cell_type": "code",
   "execution_count": null,
   "id": "17fc663b",
   "metadata": {},
   "outputs": [],
   "source": []
  },
  {
   "cell_type": "code",
   "execution_count": null,
   "id": "efef77a7",
   "metadata": {},
   "outputs": [],
   "source": []
  },
  {
   "cell_type": "code",
   "execution_count": null,
   "id": "3b3fca5f",
   "metadata": {},
   "outputs": [],
   "source": []
  },
  {
   "cell_type": "code",
   "execution_count": null,
   "id": "586baec7",
   "metadata": {},
   "outputs": [],
   "source": []
  },
  {
   "cell_type": "code",
   "execution_count": null,
   "id": "cfee5121",
   "metadata": {},
   "outputs": [],
   "source": []
  },
  {
   "cell_type": "code",
   "execution_count": null,
   "id": "b6a9eed4",
   "metadata": {},
   "outputs": [],
   "source": []
  },
  {
   "cell_type": "markdown",
   "id": "4c73e5f5",
   "metadata": {},
   "source": [
    "### Embedding into Qiskit\n",
    "Not only is the goal of tket to be a device-agnostic platform, but also interface-agnostic, so users are not obliged to have to work entirely in tket to benefit from the wide range of devices supported. For example, Qiskit is currently the most widely adopted quantum software development platform, providing its own modules for building and compiling circuits, submitting to backends, applying error mitigation techniques and combining these into higher-level algorithms. Each Backend in pytket can be wrapped up to imitate a Qiskit backend, allowing the benefits of tket to be felt in existing Qiskit projects with minimal work.\n",
    "\n"
   ]
  },
  {
   "cell_type": "code",
   "execution_count": null,
   "id": "9b0b2ac1",
   "metadata": {},
   "outputs": [],
   "source": [
    "from qiskit.utils import QuantumInstance\n",
    "from qiskit.algorithms import Grover, AmplificationProblem\n",
    "from qiskit.circuit import QuantumCircuit\n",
    "\n",
    "from pytket.extensions.qulacs import QulacsBackend\n",
    "from pytket.extensions.qiskit.tket_backend import TketBackend\n",
    "\n",
    "b = QulacsBackend()\n",
    "backend = TketBackend(b, b.default_compilation_pass())\n",
    "qinstance = QuantumInstance(backend)\n",
    "\n",
    "oracle = QuantumCircuit(2)\n",
    "oracle.cz(0, 1)\n",
    "\n",
    "def is_good_state(bitstr):\n",
    "    return sum(map(int, bitstr)) == 2\n",
    "\n",
    "problem = AmplificationProblem(oracle=oracle, is_good_state=is_good_state)\n",
    "grover = Grover(quantum_instance=qinstance)\n",
    "result = grover.amplify(problem)\n",
    "print(\"Top measurement:\", result.top_measurement)"
   ]
  },
  {
   "cell_type": "code",
   "execution_count": null,
   "id": "c5528372",
   "metadata": {},
   "outputs": [],
   "source": [
    "oracle.draw(output='mpl')\n"
   ]
  },
  {
   "cell_type": "code",
   "execution_count": null,
   "id": "64eeba47",
   "metadata": {},
   "outputs": [],
   "source": []
  },
  {
   "cell_type": "code",
   "execution_count": null,
   "id": "cde32feb",
   "metadata": {},
   "outputs": [],
   "source": []
  },
  {
   "cell_type": "code",
   "execution_count": null,
   "id": "15e026f8",
   "metadata": {},
   "outputs": [],
   "source": []
  },
  {
   "cell_type": "code",
   "execution_count": null,
   "id": "48c41108",
   "metadata": {},
   "outputs": [],
   "source": []
  },
  {
   "cell_type": "markdown",
   "id": "a63b43d5",
   "metadata": {},
   "source": []
  },
  {
   "cell_type": "code",
   "execution_count": null,
   "id": "c9c2b9e4",
   "metadata": {},
   "outputs": [],
   "source": []
  },
  {
   "cell_type": "code",
   "execution_count": null,
   "id": "b928903f",
   "metadata": {},
   "outputs": [],
   "source": []
  },
  {
   "cell_type": "code",
   "execution_count": null,
   "id": "62f43525",
   "metadata": {},
   "outputs": [],
   "source": []
  },
  {
   "cell_type": "code",
   "execution_count": null,
   "id": "45d7b9a2",
   "metadata": {},
   "outputs": [],
   "source": [
    "from pytket.qasm import circuit_from_qasm, circuit_to_qasm_str\n",
    "import tempfile, os\n",
    "\n",
    "fd, path = tempfile.mkstemp(\".qasm\")\n",
    "os.write(fd, \"\"\"OPENQASM 2.0;\n",
    "include \"qelib1.inc\";\n",
    "qreg q[2];\n",
    "creg c[2];\n",
    "h q[0];\n",
    "cx q[0], q[1];\n",
    "cz q[1], q[0];\n",
    "measure q -> c;\n",
    "\"\"\".encode())\n",
    "os.close(fd)\n",
    "circ = circuit_from_qasm(path)\n",
    "os.remove(path)\n",
    "\n",
    "print(circuit_to_qasm_str(circ))\n"
   ]
  },
  {
   "cell_type": "code",
   "execution_count": null,
   "id": "d178435a",
   "metadata": {},
   "outputs": [],
   "source": [
    "render_circuit_jupyter(circ)"
   ]
  },
  {
   "cell_type": "code",
   "execution_count": null,
   "id": "778a1cca",
   "metadata": {},
   "outputs": [],
   "source": []
  },
  {
   "cell_type": "code",
   "execution_count": null,
   "id": "dc30eed1",
   "metadata": {},
   "outputs": [],
   "source": [
    "from pytket import Circuit, OpType\n",
    "from sympy import Symbol\n",
    "a = Symbol(\"alpha\")\n",
    "b = Symbol(\"beta\")\n",
    "circ = Circuit(2)\n",
    "circ.Rx(a, 0)\n",
    "circ.Rx(-2*a, 1)\n",
    "circ.CX(0, 1)\n",
    "circ.add_gate(OpType.YYPhase, b, [0, 1])\n",
    "print(circ.get_commands())\n",
    "\n",
    "s_map = {a: 0.3, b:1.25}\n",
    "circ.symbol_substitution(s_map)\n",
    "print(circ.get_commands())"
   ]
  },
  {
   "cell_type": "code",
   "execution_count": null,
   "id": "9bde5514",
   "metadata": {},
   "outputs": [],
   "source": [
    "render_circuit_jupyter(circ)"
   ]
  },
  {
   "cell_type": "code",
   "execution_count": null,
   "id": "65c9ee18",
   "metadata": {},
   "outputs": [],
   "source": [
    "tk_to_qiskit(circ).draw(output='mpl')"
   ]
  },
  {
   "cell_type": "code",
   "execution_count": null,
   "id": "ca25b5ad",
   "metadata": {},
   "outputs": [],
   "source": []
  },
  {
   "cell_type": "code",
   "execution_count": null,
   "id": "1a303c2a",
   "metadata": {},
   "outputs": [],
   "source": []
  },
  {
   "cell_type": "code",
   "execution_count": null,
   "id": "fbad4c91",
   "metadata": {},
   "outputs": [],
   "source": [
    "from pytket.extensions.qiskit import IBMQBackend, AerStateBackend\n",
    "dev_b = IBMQBackend(\"ibmq_athens\")\n",
    "sim_b = AerStateBackend()\n",
    "print(dev_b.required_predicates)\n",
    "print(sim_b.required_predicates)"
   ]
  },
  {
   "cell_type": "code",
   "execution_count": null,
   "id": "aeb34ae2",
   "metadata": {},
   "outputs": [],
   "source": []
  },
  {
   "cell_type": "code",
   "execution_count": null,
   "id": "d29cc7ee",
   "metadata": {},
   "outputs": [],
   "source": []
  },
  {
   "cell_type": "markdown",
   "id": "ff106135",
   "metadata": {},
   "source": [
    "### Compilation\n",
    "\n",
    "So far, we have already covered enough to be able to design the Circuit s we want to run, submit them to a Backend, and interpret the results in a meaningful way. This is all you need if you want to just try out a quantum computer, run some toy examples and observe some basic results. We actually glossed over a key step in this process by using the Backend.compile_circuit() method. The compilation step maps from the universal computer abstraction presented at Circuit construction to the restricted fragment supported by the target Backend, and knowing what a compiler can do to your program can help reduce the burden of design and improve performance on real devices.\n",
    "\n",
    "The necessity of compilation maps over from the world of classical computation: it is much easier to design correct programs when working with higher-level constructions that aren’t natively supported, and it shouldn’t require a programmer to be an expert in the exact device architecture to achieve good performance. There are many possible low-level implementations on the device for each high-level program, which vary in the time and resources taken to execute. However, because QPUs are analog devices, the implementation can have a massive impact on the quality of the final outcomes as a result of changing how susceptible the system is to noise. Using a good compiler and choosing the methods appropriately can automatically find a better low-level implementation. Each aspect of the compilation procedure is exposed through pytket to provide users with a way to have full control over what is applied and how.\n",
    "\n",
    "The primary goals of compilation are two-fold: solving the constraints of the Backend to get from the abstract model to something runnable, and optimising/simplifying the Circuit to make it faster, smaller, and less prone to noise. Every step in compilation can generally be split up into one of these two categories (though even the constraint solving steps could have multiple solutions over which we could optimise for noise).\n",
    "\n",
    "Each compiler pass inherits from the BasePass class, capturing a method of transforming a Circuit. The main functionality is built into the BasePass.apply() method, which applies the transformation to a Circuit in-place. The Backend.compile_circuit() method is simply an alias for BasePass.apply() from the Backend ‘s recommended pass sequence. This chapter will explore these compiler passes, the different kinds of constraints they are used to solve and optimisations they apply, to help you identify which ones are appropriate for a given task.\n",
    "\n"
   ]
  },
  {
   "cell_type": "markdown",
   "id": "8e887ddd",
   "metadata": {},
   "source": [
    "### Rebases\n",
    "One of the simplest constraints to solve for is the GateSetPredicate, since we can just substitute each gate in a Circuit with an equivalent sequence of gates in the target gateset according to some known gate decompositions. In pytket, such passes are referred to as “rebases”. The intention here is to perform this translation naively, leaving the optimisation of gate sequences to other passes. Rebases can be applied to any Circuit and will preserve every structural Predicate, only changing the types of gates used.\n",
    "\n"
   ]
  },
  {
   "cell_type": "code",
   "execution_count": null,
   "id": "d2f6b451",
   "metadata": {},
   "outputs": [],
   "source": []
  },
  {
   "cell_type": "code",
   "execution_count": null,
   "id": "660c50e7",
   "metadata": {},
   "outputs": [],
   "source": []
  },
  {
   "cell_type": "code",
   "execution_count": null,
   "id": "bae1acb7",
   "metadata": {},
   "outputs": [],
   "source": []
  },
  {
   "cell_type": "code",
   "execution_count": null,
   "id": "3f4fada4",
   "metadata": {},
   "outputs": [],
   "source": [
    "from pytket import Circuit\n",
    "from pytket.passes import RebaseIBM\n",
    "circ = Circuit(2, 2)\n",
    "circ.Rx(0.3, 0).Ry(-0.9, 1).CZ(0, 1).S(0).CX(1, 0).measure_all()\n",
    "\n",
    "RebaseIBM().apply(circ)\n",
    "\n",
    "print(circ.get_commands())\n"
   ]
  },
  {
   "cell_type": "code",
   "execution_count": null,
   "id": "38a43550",
   "metadata": {},
   "outputs": [],
   "source": []
  },
  {
   "cell_type": "code",
   "execution_count": null,
   "id": "3762d0f9",
   "metadata": {},
   "outputs": [],
   "source": []
  },
  {
   "cell_type": "code",
   "execution_count": null,
   "id": "d2495a10",
   "metadata": {},
   "outputs": [],
   "source": []
  },
  {
   "cell_type": "code",
   "execution_count": null,
   "id": "c22c7eb7",
   "metadata": {},
   "outputs": [],
   "source": [
    "from pytket import Circuit, OpType\n",
    "from pytket.predicates import GateSetPredicate, NoMidMeasurePredicate\n",
    "circ = Circuit(2, 2)\n",
    "circ.Rx(0.2, 0).CX(0, 1).Rz(-0.7, 1).measure_all()\n",
    "\n",
    "gateset = GateSetPredicate({OpType.Rx, OpType.CX, OpType.Rz, OpType.Measure})\n",
    "midmeasure = NoMidMeasurePredicate()\n",
    "\n",
    "print(gateset.verify(circ))\n",
    "print(midmeasure.verify(circ))\n",
    "\n"
   ]
  },
  {
   "cell_type": "code",
   "execution_count": null,
   "id": "195af806",
   "metadata": {},
   "outputs": [],
   "source": [
    "tk_to_qiskit(circ).draw(output='mpl')"
   ]
  },
  {
   "cell_type": "code",
   "execution_count": null,
   "id": "fcf7d1d3",
   "metadata": {},
   "outputs": [],
   "source": [
    "circ.S(0)\n",
    "\n",
    "print(gateset.verify(circ))\n",
    "print(midmeasure.verify(circ))\n"
   ]
  },
  {
   "cell_type": "code",
   "execution_count": null,
   "id": "cbc76946",
   "metadata": {},
   "outputs": [],
   "source": [
    "tk_to_qiskit(circ).draw(output='mpl')"
   ]
  },
  {
   "cell_type": "markdown",
   "id": "9228de8b",
   "metadata": {},
   "source": [
    "frqi - qc1 circuit - max intensity for all the pixels"
   ]
  },
  {
   "cell_type": "code",
   "execution_count": null,
   "id": "19b4bbb8",
   "metadata": {},
   "outputs": [],
   "source": [
    "import qiskit as qk\n",
    "from qiskit import QuantumCircuit, Aer, IBMQ\n",
    "from qiskit import transpile, assemble\n",
    "from qiskit.tools.jupyter import *\n",
    "from qiskit.visualization import plot_histogram\n",
    "from math import pi"
   ]
  },
  {
   "cell_type": "code",
   "execution_count": null,
   "id": "89acad4c",
   "metadata": {},
   "outputs": [],
   "source": [
    "theta = pi/2  # all pixels white\n",
    "qc1 = QuantumCircuit(3)\n",
    "\n",
    "qc1.h(0)\n",
    "qc1.h(1)\n",
    "\n",
    "qc1.barrier()\n",
    "#Pixel 1\n",
    "\n",
    "qc1.cry(theta,0,2)\n",
    "qc1.cx(0,1)\n",
    "qc1.cry(-theta,1,2)\n",
    "qc1.cx(0,1)\n",
    "qc1.cry(theta,1,2)\n",
    "\n",
    "qc1.barrier()\n",
    "#Pixel 2\n",
    "\n",
    "qc1.x(1)\n",
    "\n",
    "qc1.cry(theta,0,2)\n",
    "qc1.cx(0,1)\n",
    "qc1.cry(-theta,1,2)\n",
    "qc1.cx(0,1)\n",
    "qc1.cry(theta,1,2)\n",
    "\n",
    "qc1.barrier()\n",
    "\n",
    "qc1.x(1)\n",
    "qc1.x(0)\n",
    "qc1.cry(theta,0,2)\n",
    "qc1.cx(0,1)\n",
    "qc1.cry(-theta,1,2)\n",
    "qc1.cx(0,1)\n",
    "qc1.cry(theta,1,2)\n",
    "\n",
    "\n",
    "qc1.barrier()\n",
    "\n",
    "qc1.x(1)\n",
    "\n",
    "qc1.cry(theta,0,2)\n",
    "qc1.cx(0,1)\n",
    "qc1.cry(-theta,1,2)\n",
    "qc1.cx(0,1)\n",
    "qc1.cry(theta,1,2)\n",
    "\n",
    "qc1.measure_all()\n",
    "\n",
    "qc1.draw(output='mpl')"
   ]
  },
  {
   "cell_type": "code",
   "execution_count": null,
   "id": "fdc4a05f",
   "metadata": {},
   "outputs": [],
   "source": [
    "print(\"Depth : \", qc1.depth())\n",
    "print(\"Operations: \", qc1.count_ops())\n"
   ]
  },
  {
   "cell_type": "code",
   "execution_count": null,
   "id": "e95663f0",
   "metadata": {},
   "outputs": [],
   "source": [
    "from qiskit.compiler import transpile\n",
    "from qiskit.transpiler import PassManager\n",
    "from qiskit.transpiler.passes import Unroller\n",
    "pass_ = Unroller(['u3', 'cx'])\n",
    "pm = PassManager(pass_)\n",
    "new_circ = pm.run(qc1)\n",
    "#new_circ.draw()\n",
    "print(\"Depth : \", new_circ.depth())\n",
    "print(\"Operations: \", new_circ.count_ops())"
   ]
  },
  {
   "cell_type": "code",
   "execution_count": null,
   "id": "6ecfc7c8",
   "metadata": {},
   "outputs": [],
   "source": [
    "new_circ.draw(output=\"mpl\")"
   ]
  },
  {
   "cell_type": "markdown",
   "id": "8defaa71",
   "metadata": {},
   "source": [
    "comparing the unrolling from qiskit with  rebaseibm from tket "
   ]
  },
  {
   "cell_type": "code",
   "execution_count": null,
   "id": "0dfa34e9",
   "metadata": {},
   "outputs": [],
   "source": [
    "qc1tk=qiskit_to_tk(qc1)\n",
    "qc1tk_back=qc1tk.copy()"
   ]
  },
  {
   "cell_type": "code",
   "execution_count": null,
   "id": "702e36c9",
   "metadata": {},
   "outputs": [],
   "source": [
    "RebaseIBM().apply(qc1tk)\n",
    "print(\"Depth\", qc1tk.depth())\n",
    "print(\"Gates\", qc1tk.n_gates)\n",
    "print(\"CXs\", qc1tk.n_gates_of_type(OpType.CX))\n",
    "print(\"U3ss\", qc1tk.n_gates_of_type(OpType.CX))\n",
    "print(\"Barrier\", qc1tk.n_gates_of_type(OpType.Barrier))\n",
    "print(\"Measure\", qc1tk.n_gates_of_type(OpType.Measure))"
   ]
  },
  {
   "cell_type": "code",
   "execution_count": null,
   "id": "b6e94e68",
   "metadata": {},
   "outputs": [],
   "source": [
    "from qiskit.test.mock import FakeAthens\n",
    "fake_athens = FakeAthens()\n",
    "# The device coupling map is needed for transpiling to correct\n",
    "# CNOT gates before simulation\n",
    "coupling_map = fake_athens.configuration().coupling_map\n",
    "optimized_3 = transpile(qc1,backend=fake_athens, seed_transpiler=11, optimization_level=3)\n",
    "print('gates = ', optimized_3.count_ops())\n",
    "print('depth = ', optimized_3.depth())\n",
    "print('total number of gates = ', optimized_3.size())\n",
    "#basis_gates=['u3', 'cx']"
   ]
  },
  {
   "cell_type": "code",
   "execution_count": null,
   "id": "dd2cb00f",
   "metadata": {},
   "outputs": [],
   "source": [
    "optimized_3.draw(output='mpl')"
   ]
  },
  {
   "cell_type": "code",
   "execution_count": null,
   "id": "2009b3ee",
   "metadata": {},
   "outputs": [],
   "source": [
    "from pytket.utils import prepare_circuit\n",
    "\n",
    "circ1=qc1tk_back\n",
    "#b = AerBackend()\n",
    "b = IBMQBackend(\"ibmq_athens\")\n",
    "test = circ1.copy()\n",
    "#RebaseIBM().apply(test)\n",
    "#b.default_compilation_pass(2).apply(test)\n",
    "c0, ppcirc = prepare_circuit(test)\n"
   ]
  },
  {
   "cell_type": "code",
   "execution_count": null,
   "id": "7ba07049",
   "metadata": {},
   "outputs": [],
   "source": [
    "tk_to_qiskit(c0).draw(output='mpl')"
   ]
  },
  {
   "cell_type": "code",
   "execution_count": null,
   "id": "d9d2a4a8",
   "metadata": {},
   "outputs": [],
   "source": [
    "b.compile_circuit(c0,2)\n",
    "#b.compile_circuit(test,2)\n",
    "#assert b.valid_circuit(test)\n",
    "print(\"Optimisation level\", 2)\n",
    "print(\"Depth\", c0.depth())\n",
    "print(\"Gates\", c0.n_gates)\n",
    "print(\"CXs\", c0.n_gates_of_type(OpType.CX))\n",
    "print(\"Rzs\", c0.n_gates_of_type(OpType.Rz))\n",
    "print(\"Sxs\", c0.n_gates_of_type(OpType.SX))\n",
    "#print(test.get_commands())"
   ]
  },
  {
   "cell_type": "code",
   "execution_count": null,
   "id": "50861bbd",
   "metadata": {
    "scrolled": true
   },
   "outputs": [],
   "source": [
    "tk_to_qiskit(c0).draw(output='mpl')"
   ]
  },
  {
   "cell_type": "code",
   "execution_count": null,
   "id": "56871114",
   "metadata": {},
   "outputs": [],
   "source": [
    "tk_to_qiskit(test).draw(output='mpl')"
   ]
  },
  {
   "cell_type": "code",
   "execution_count": null,
   "id": "4b9985b6",
   "metadata": {},
   "outputs": [],
   "source": [
    "tk_to_qiskit(test).draw(output='mpl')"
   ]
  },
  {
   "cell_type": "code",
   "execution_count": null,
   "id": "066da2b7",
   "metadata": {},
   "outputs": [],
   "source": [
    "qasm_sim = Aer.get_backend('qasm_simulator')\n",
    "t_qc1 = transpile(qc1, qasm_sim)\n",
    "qobj = assemble(t_qc1, shots=4096)\n",
    "result = qasm_sim.run(qobj).result()\n",
    "counts = result.get_counts(qc1)\n",
    "print(counts)\n",
    "plot_histogram(counts)\n"
   ]
  },
  {
   "cell_type": "code",
   "execution_count": null,
   "id": "888b8759",
   "metadata": {},
   "outputs": [],
   "source": []
  },
  {
   "cell_type": "code",
   "execution_count": null,
   "id": "c0d65e47",
   "metadata": {},
   "outputs": [],
   "source": []
  },
  {
   "cell_type": "code",
   "execution_count": null,
   "id": "992071b6",
   "metadata": {},
   "outputs": [],
   "source": []
  },
  {
   "cell_type": "code",
   "execution_count": null,
   "id": "241930bb",
   "metadata": {},
   "outputs": [],
   "source": []
  },
  {
   "cell_type": "markdown",
   "id": "82cc1aa1",
   "metadata": {},
   "source": [
    "showing tket added value on top of qiskit: https://github.com/CQCL/pytket/blob/master/examples/qiskit_integration.ipynb"
   ]
  },
  {
   "cell_type": "code",
   "execution_count": null,
   "id": "9f3615b8",
   "metadata": {},
   "outputs": [],
   "source": [
    "from qiskit.opflow.primitive_ops import PauliSumOp"
   ]
  },
  {
   "cell_type": "code",
   "execution_count": null,
   "id": "3bfaa5c2",
   "metadata": {},
   "outputs": [],
   "source": [
    "H2_op = PauliSumOp.from_list(\n",
    "    [\n",
    "        (\"II\", -1.052373245772859),\n",
    "        (\"IZ\", 0.39793742484318045),\n",
    "        (\"ZI\", -0.39793742484318045),\n",
    "        (\"ZZ\", -0.01128010425623538),\n",
    "        (\"XX\", 0.18093119978423156),\n",
    "    ]\n",
    ")\n"
   ]
  },
  {
   "cell_type": "code",
   "execution_count": null,
   "id": "e524c8e0",
   "metadata": {},
   "outputs": [],
   "source": [
    "from qiskit.algorithms import NumPyEigensolver\n"
   ]
  },
  {
   "cell_type": "code",
   "execution_count": null,
   "id": "ca3a7126",
   "metadata": {},
   "outputs": [],
   "source": [
    "es = NumPyEigensolver(k=1)\n",
    "exact_result = es.compute_eigenvalues(H2_op).eigenvalues[0].real\n",
    "print(\"Exact result:\", exact_result)\n"
   ]
  },
  {
   "cell_type": "code",
   "execution_count": null,
   "id": "d4d5145a",
   "metadata": {},
   "outputs": [],
   "source": [
    "from qiskit.algorithms import VQE\n",
    "from qiskit.algorithms.optimizers import SPSA\n",
    "from qiskit.circuit.library import EfficientSU2"
   ]
  },
  {
   "cell_type": "code",
   "execution_count": null,
   "id": "efa522cd",
   "metadata": {},
   "outputs": [],
   "source": [
    "def vqe_solve(op, maxiter, quantum_instance):\n",
    "    optimizer = SPSA(maxiter=maxiter)\n",
    "    ansatz = EfficientSU2(op.num_qubits, entanglement=\"linear\")\n",
    "    vqe = VQE(ansatz=ansatz, optimizer=optimizer, quantum_instance=quantum_instance)\n",
    "    return vqe.compute_minimum_eigenvalue(op).eigenvalue\n"
   ]
  },
  {
   "cell_type": "code",
   "execution_count": null,
   "id": "5b6201e4",
   "metadata": {},
   "outputs": [],
   "source": [
    "from pytket.extensions.qiskit import IBMQEmulatorBackend\n",
    "from qiskit import IBMQ\n"
   ]
  },
  {
   "cell_type": "code",
   "execution_count": null,
   "id": "59019b2a",
   "metadata": {},
   "outputs": [],
   "source": [
    "IBMQ.load_account()\n",
    "b_emu = IBMQEmulatorBackend(\"ibmq_belem\", hub=\"ibm-q\", group=\"open\", project=\"main\")\n"
   ]
  },
  {
   "cell_type": "code",
   "execution_count": null,
   "id": "8aa45321",
   "metadata": {},
   "outputs": [],
   "source": [
    "from pytket.extensions.qiskit.tket_backend import TketBackend\n",
    "from qiskit.utils import QuantumInstance\n"
   ]
  },
  {
   "cell_type": "code",
   "execution_count": null,
   "id": "09191f93",
   "metadata": {},
   "outputs": [],
   "source": [
    "qis_backend = TketBackend(b_emu)\n",
    "qi = QuantumInstance(qis_backend, shots=8192, wait=0.1)\n"
   ]
  },
  {
   "cell_type": "code",
   "execution_count": null,
   "id": "5e34f1ec",
   "metadata": {},
   "outputs": [],
   "source": [
    "print(\"VQE result:\", vqe_solve(H2_op, 50, qi))\n"
   ]
  },
  {
   "cell_type": "code",
   "execution_count": null,
   "id": "21c94e83",
   "metadata": {},
   "outputs": [],
   "source": [
    "from pytket.passes import FullPeepholeOptimise\n",
    "from qiskit.transpiler import PassManager\n",
    "from qiskit.transpiler.passes import Unroller"
   ]
  },
  {
   "cell_type": "code",
   "execution_count": null,
   "id": "b2250418",
   "metadata": {},
   "outputs": [],
   "source": [
    "qis_backend2 = TketBackend(b_emu, FullPeepholeOptimise())\n",
    "qi2 = QuantumInstance(\n",
    "    qis_backend2,\n",
    "    pass_manager=PassManager(Unroller([\"cx\", \"h\", \"rx\", \"ry\", \"rz\"])),\n",
    "    shots=8192,\n",
    "    wait=0.1,\n",
    ")"
   ]
  },
  {
   "cell_type": "code",
   "execution_count": null,
   "id": "2293e00c",
   "metadata": {},
   "outputs": [],
   "source": [
    "print(\"VQE result (with optimisation):\", vqe_solve(H2_op, 50, qi2))\n"
   ]
  },
  {
   "cell_type": "code",
   "execution_count": null,
   "id": "a1ab1d89",
   "metadata": {},
   "outputs": [],
   "source": []
  },
  {
   "cell_type": "code",
   "execution_count": null,
   "id": "860a98e9",
   "metadata": {},
   "outputs": [],
   "source": []
  },
  {
   "cell_type": "code",
   "execution_count": null,
   "id": "02139c6f",
   "metadata": {},
   "outputs": [],
   "source": []
  },
  {
   "cell_type": "code",
   "execution_count": null,
   "id": "49d7898f",
   "metadata": {},
   "outputs": [],
   "source": []
  },
  {
   "cell_type": "code",
   "execution_count": null,
   "id": "e1628af0",
   "metadata": {},
   "outputs": [],
   "source": []
  },
  {
   "cell_type": "markdown",
   "id": "a2a1e5b2",
   "metadata": {},
   "source": [
    "run on braket"
   ]
  },
  {
   "cell_type": "code",
   "execution_count": null,
   "id": "52c59baf",
   "metadata": {},
   "outputs": [],
   "source": [
    "from pytket import Circuit\n",
    "bell_circ = Circuit(2).H(0).CX(0,1)\n"
   ]
  },
  {
   "cell_type": "code",
   "execution_count": null,
   "id": "2e7d5171",
   "metadata": {},
   "outputs": [],
   "source": [
    "from  pytket.extensions.braket import BraketBackend\n",
    "S3_BUCKET = \"amazon-braket-test\"\n",
    "S3_FOLDER = \"test-folder\"\n",
    "ionq_backend = BraketBackend(\n",
    "    s3_bucket=S3_BUCKET,\n",
    "    s3_folder=S3_FOLDER,\n",
    "    device_type=\"qpu\",\n",
    "    provider=\"ionq\",\n",
    "    device=\"ionQdevice\",\n",
    ")\n"
   ]
  },
  {
   "cell_type": "code",
   "execution_count": null,
   "id": "09c1cf38",
   "metadata": {},
   "outputs": [],
   "source": [
    "ionq_backend.compile_circuit(bell_circ)"
   ]
  },
  {
   "cell_type": "code",
   "execution_count": null,
   "id": "881daab3",
   "metadata": {},
   "outputs": [],
   "source": [
    "job_handle = ionq_backend.process_circuit(bell_circ, n_shots=20)"
   ]
  },
  {
   "cell_type": "code",
   "execution_count": null,
   "id": "6c105330",
   "metadata": {},
   "outputs": [],
   "source": [
    "print(ionq_backend.circuit_status(job_handle))"
   ]
  },
  {
   "cell_type": "code",
   "execution_count": null,
   "id": "1e2aa193",
   "metadata": {},
   "outputs": [],
   "source": [
    "job_handle"
   ]
  },
  {
   "cell_type": "code",
   "execution_count": null,
   "id": "0a338358",
   "metadata": {},
   "outputs": [],
   "source": [
    "result = ionq_backend.get_result(job_handle)\n"
   ]
  },
  {
   "cell_type": "code",
   "execution_count": null,
   "id": "2a5d1df1",
   "metadata": {},
   "outputs": [],
   "source": [
    "result"
   ]
  },
  {
   "cell_type": "code",
   "execution_count": null,
   "id": "c965b3b6",
   "metadata": {},
   "outputs": [],
   "source": [
    "from pytket.circuit import Bit\n",
    "def get_cbits(backend, circuit):\n",
    "    return [Bit(backend.device().nodes.index(q)) for q in circuit.qubits]\n",
    "cbits = get_cbits(ionq_backend, bell_circ)\n"
   ]
  },
  {
   "cell_type": "code",
   "execution_count": null,
   "id": "a44c6ba0",
   "metadata": {},
   "outputs": [],
   "source": [
    "counts = result.get_counts(cbits=cbits)\n",
    "print(counts)\n"
   ]
  },
  {
   "cell_type": "markdown",
   "id": "052cf04a",
   "metadata": {},
   "source": [
    "Questions:\n",
    "- how to get the task id of the job\n",
    "- how to display the counts nicely (like in the notebook examples for braket) - result converter\n",
    "- "
   ]
  },
  {
   "cell_type": "markdown",
   "id": "0057a779",
   "metadata": {},
   "source": [
    "run a real circuit on the ionq device"
   ]
  },
  {
   "cell_type": "code",
   "execution_count": null,
   "id": "510b0895",
   "metadata": {},
   "outputs": [],
   "source": [
    "from pytket.extensions.qiskit import IBMQBackend\n",
    "\n",
    "backend = IBMQBackend(\"ibmq_santiago\")\n",
    "for key in backend.characterisation:\n",
    "    print(key)\n"
   ]
  },
  {
   "cell_type": "code",
   "execution_count": null,
   "id": "c6120f6d",
   "metadata": {},
   "outputs": [],
   "source": [
    "print(repr(backend.device))\n"
   ]
  },
  {
   "cell_type": "code",
   "execution_count": null,
   "id": "795709fb",
   "metadata": {},
   "outputs": [],
   "source": [
    "from pytket.routing import NoiseAwarePlacement, GraphPlacement\n",
    "\n",
    "noise_placer = NoiseAwarePlacement(backend.device)\n",
    "graph_placer = GraphPlacement(backend.device)\n",
    "\n",
    "circ = Circuit(3).CX(0,1).CX(0,2)\n",
    "\n",
    "print(backend.device.coupling, '\\n')\n",
    "\n",
    "noise_placement = noise_placer.get_placement_map(circ)\n",
    "graph_placement = graph_placer.get_placement_map(circ)\n",
    "\n",
    "print('NoiseAwarePlacement mapping:')\n",
    "for k, v in noise_placement.items():\n",
    "    print(k, v)\n",
    "\n",
    "print('\\nGraphPlacement mapping:')\n",
    "for k, v in graph_placement.items():\n",
    "    print(k, v)\n"
   ]
  },
  {
   "cell_type": "code",
   "execution_count": null,
   "id": "ab845a8b",
   "metadata": {},
   "outputs": [],
   "source": []
  },
  {
   "cell_type": "code",
   "execution_count": null,
   "id": "d11f9893",
   "metadata": {},
   "outputs": [],
   "source": []
  },
  {
   "cell_type": "code",
   "execution_count": null,
   "id": "3bc690b6",
   "metadata": {},
   "outputs": [],
   "source": []
  },
  {
   "cell_type": "markdown",
   "id": "57de23ce",
   "metadata": {},
   "source": [
    "removed stuff"
   ]
  },
  {
   "cell_type": "markdown",
   "id": "386088f0",
   "metadata": {},
   "source": [
    "<figure>\n",
    "<img src=\"files/athens.png\" width=\"200\" height=\"100\"\n",
    "     alt=\"athens\" >\n",
    "<figcaption>IBM Athens device</figcaption>\n",
    "</figure>"
   ]
  },
  {
   "cell_type": "code",
   "execution_count": null,
   "id": "4a743b44",
   "metadata": {},
   "outputs": [],
   "source": [
    "backend = IBMQBackend(\"ibmq_athens\")\n",
    "place = PlacementPass(GraphPlacement(backend.device))\n",
    "place.apply(circ)\n",
    "\n",
    "print(circ.get_commands())\n",
    "print(ConnectivityPredicate(backend.device).verify(circ))"
   ]
  },
  {
   "cell_type": "code",
   "execution_count": null,
   "id": "9b7b885d",
   "metadata": {},
   "outputs": [],
   "source": [
    "render_circuit_jupyter(circ)"
   ]
  },
  {
   "cell_type": "code",
   "execution_count": null,
   "id": "c57bd4c9",
   "metadata": {},
   "outputs": [],
   "source": []
  },
  {
   "cell_type": "markdown",
   "id": "36eb707a",
   "metadata": {
    "slideshow": {
     "slide_type": "notes"
    }
   },
   "source": [
    "We now have a circuit that can actually be executed on a specific device."
   ]
  },
  {
   "cell_type": "markdown",
   "id": "99d08929",
   "metadata": {
    "slideshow": {
     "slide_type": "notes"
    }
   },
   "source": [
    "As usual, if you prefer to visualize the circuit using Qiskit, we are just one line of code away"
   ]
  }
 ],
 "metadata": {
  "celltoolbar": "Slideshow",
  "kernelspec": {
   "display_name": "Python 3",
   "language": "python",
   "name": "python3"
  },
  "language_info": {
   "codemirror_mode": {
    "name": "ipython",
    "version": 3
   },
   "file_extension": ".py",
   "mimetype": "text/x-python",
   "name": "python",
   "nbconvert_exporter": "python",
   "pygments_lexer": "ipython3",
   "version": "3.9.5"
  },
  "latex_envs": {
   "LaTeX_envs_menu_present": true,
   "autoclose": false,
   "autocomplete": true,
   "bibliofile": "biblio.bib",
   "cite_by": "apalike",
   "current_citInitial": 1,
   "eqLabelWithNumbers": true,
   "eqNumInitial": 1,
   "hotkeys": {
    "equation": "Ctrl-E",
    "itemize": "Ctrl-I"
   },
   "labels_anchors": false,
   "latex_user_defs": false,
   "report_style_numbering": false,
   "user_envs_cfg": false
  }
 },
 "nbformat": 4,
 "nbformat_minor": 5
}
