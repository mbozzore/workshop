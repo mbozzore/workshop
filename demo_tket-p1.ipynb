{
 "cells": [
  {
   "cell_type": "markdown",
   "id": "02c664d6",
   "metadata": {
    "slideshow": {
     "slide_type": "slide"
    }
   },
   "source": [
    "# Basic circuit creation and visualization\n"
   ]
  },
  {
   "cell_type": "markdown",
   "id": "e1ea7451",
   "metadata": {
    "slideshow": {
     "slide_type": "subslide"
    }
   },
   "source": [
    "## Circuit creation"
   ]
  },
  {
   "cell_type": "code",
   "execution_count": null,
   "id": "f999b90b",
   "metadata": {
    "slideshow": {
     "slide_type": "slide"
    }
   },
   "outputs": [],
   "source": [
    "from pytket.circuit import Circuit, OpType"
   ]
  },
  {
   "cell_type": "markdown",
   "id": "d7e9da85",
   "metadata": {
    "slideshow": {
     "slide_type": "notes"
    }
   },
   "source": [
    "available operations compatible with the tket Circuit class: https://cqcl.github.io/pytket/build/html/optype.html"
   ]
  },
  {
   "cell_type": "code",
   "execution_count": null,
   "id": "e7a11738",
   "metadata": {
    "slideshow": {
     "slide_type": "fragment"
    }
   },
   "outputs": [],
   "source": [
    "c = Circuit(4, name=\"example\")\n",
    "c.add_gate(OpType.CU1, 0.5, [0, 1])\n",
    "c.H(0).X(1).Y(2).Z(3)\n",
    "c.X(0).CX(1, 2).Y(1).Z(2).H(3)\n",
    "c.Y(0).Z(1)\n",
    "c.add_gate(OpType.CU1, 0.5, [2, 3])\n",
    "c.H(2).X(3)\n",
    "c.Z(0).H(1).X(2).Y(3).CX(3, 0)"
   ]
  },
  {
   "cell_type": "markdown",
   "id": "018d141a",
   "metadata": {
    "slideshow": {
     "slide_type": "notes"
    }
   },
   "source": [
    "Checking the number of qubits"
   ]
  },
  {
   "cell_type": "code",
   "execution_count": null,
   "id": "c3981308",
   "metadata": {
    "slideshow": {
     "slide_type": "slide"
    }
   },
   "outputs": [],
   "source": [
    "c.n_qubits"
   ]
  },
  {
   "cell_type": "markdown",
   "id": "028a27c6",
   "metadata": {
    "slideshow": {
     "slide_type": "notes"
    }
   },
   "source": [
    "And the depth of the circuit"
   ]
  },
  {
   "cell_type": "code",
   "execution_count": null,
   "id": "4852f68d",
   "metadata": {
    "slideshow": {
     "slide_type": "fragment"
    }
   },
   "outputs": [],
   "source": [
    "c.depth()"
   ]
  },
  {
   "cell_type": "markdown",
   "id": "dbd530b5",
   "metadata": {
    "slideshow": {
     "slide_type": "notes"
    }
   },
   "source": [
    "And the number of CX gates "
   ]
  },
  {
   "cell_type": "code",
   "execution_count": null,
   "id": "8e8a291b",
   "metadata": {
    "slideshow": {
     "slide_type": "fragment"
    }
   },
   "outputs": [],
   "source": [
    "c.n_gates_of_type(OpType.CX)"
   ]
  },
  {
   "cell_type": "markdown",
   "id": "36436409",
   "metadata": {
    "slideshow": {
     "slide_type": "slide"
    }
   },
   "source": [
    "## Circuit Visualization\n"
   ]
  },
  {
   "cell_type": "markdown",
   "id": "7d16c8a7",
   "metadata": {
    "slideshow": {
     "slide_type": "notes"
    }
   },
   "source": [
    "There are multiple ways to visualize a circuit, using tket tools, but also leveraging tools from other frameworks.\n"
   ]
  },
  {
   "cell_type": "markdown",
   "id": "628d4d82",
   "metadata": {
    "slideshow": {
     "slide_type": "subslide"
    }
   },
   "source": [
    "### Circuit visualization using tket\n"
   ]
  },
  {
   "cell_type": "markdown",
   "id": "00c05481",
   "metadata": {
    "slideshow": {
     "slide_type": "notes"
    }
   },
   "source": [
    "There are few ways for do circuit visualization using tket.\n",
    "We can view the circuit as a graph:"
   ]
  },
  {
   "cell_type": "code",
   "execution_count": null,
   "id": "1cf7e1b4",
   "metadata": {
    "slideshow": {
     "slide_type": "slide"
    }
   },
   "outputs": [],
   "source": [
    "from pytket.utils import Graph\n"
   ]
  },
  {
   "cell_type": "code",
   "execution_count": null,
   "id": "8abe076c",
   "metadata": {
    "scrolled": true,
    "slideshow": {
     "slide_type": "fragment"
    }
   },
   "outputs": [],
   "source": [
    "G = Graph(c)\n",
    "G.get_DAG()\n"
   ]
  },
  {
   "cell_type": "markdown",
   "id": "652795d6",
   "metadata": {
    "slideshow": {
     "slide_type": "notes"
    }
   },
   "source": [
    "Or use the jupyter rendering:"
   ]
  },
  {
   "cell_type": "code",
   "execution_count": null,
   "id": "78a6fd4f",
   "metadata": {
    "slideshow": {
     "slide_type": "slide"
    }
   },
   "outputs": [],
   "source": [
    "from pytket.circuit.display import render_circuit_jupyter\n",
    "render_circuit_jupyter(c)"
   ]
  },
  {
   "cell_type": "markdown",
   "id": "c6fa38b8",
   "metadata": {
    "slideshow": {
     "slide_type": "notes"
    }
   },
   "source": [
    "Of course we can also generate the corresponding latex file and the associated pdf file (assuming a working installation of $LaTeX$)"
   ]
  },
  {
   "cell_type": "code",
   "execution_count": null,
   "id": "03597558",
   "metadata": {
    "slideshow": {
     "slide_type": "slide"
    }
   },
   "outputs": [],
   "source": [
    "c.to_latex_file(\"c.tex\")\n",
    "#!pdflatex c.tex\n",
    "#!open c.pdf"
   ]
  },
  {
   "cell_type": "markdown",
   "id": "58f8c83b",
   "metadata": {
    "slideshow": {
     "slide_type": "slide"
    }
   },
   "source": [
    "### Circuit visualization using the Qiskit viewer, basic and leveraging matplotlib"
   ]
  },
  {
   "cell_type": "markdown",
   "id": "cb4e1fbf",
   "metadata": {
    "slideshow": {
     "slide_type": "notes"
    }
   },
   "source": [
    "Converters for other quantum software frameworks can optionally be included by installing the corresponding extension module. These are additional PyPI packages with names pytket-X, which extend the pytket namespace with additional features to interact with other systems, either using them as a front-end for circuit construction and high-level algorithms or targeting simulators and devices as backends.\n",
    "\n",
    "For example, installing the pytket-qiskit package will add the tk_to_qiskit and qiskit_to_tk methods which convert between the Circuit class from pytket and qiskit.QuantumCircuit\n"
   ]
  },
  {
   "cell_type": "code",
   "execution_count": null,
   "id": "16b8565e",
   "metadata": {
    "slideshow": {
     "slide_type": "slide"
    }
   },
   "outputs": [],
   "source": [
    "from pytket.extensions.qiskit import tk_to_qiskit, qiskit_to_tk"
   ]
  },
  {
   "cell_type": "code",
   "execution_count": null,
   "id": "360d0ce9",
   "metadata": {
    "slideshow": {
     "slide_type": "fragment"
    }
   },
   "outputs": [],
   "source": [
    "print(tk_to_qiskit(c))\n"
   ]
  },
  {
   "cell_type": "code",
   "execution_count": null,
   "id": "a8f7863c",
   "metadata": {
    "slideshow": {
     "slide_type": "slide"
    }
   },
   "outputs": [],
   "source": [
    "tk_to_qiskit(c).draw(output='mpl')"
   ]
  },
  {
   "cell_type": "markdown",
   "id": "01392b49",
   "metadata": {
    "slideshow": {
     "slide_type": "notes"
    }
   },
   "source": [
    "Note that pylatexenc needs to be installed in order to leverage matplotlib for visualization (included when setting up the environment via yaml file)"
   ]
  },
  {
   "cell_type": "markdown",
   "id": "7d373c4a",
   "metadata": {
    "slideshow": {
     "slide_type": "notes"
    }
   },
   "source": [
    "Finally, cirq can also be used"
   ]
  },
  {
   "cell_type": "code",
   "execution_count": null,
   "id": "34d396af",
   "metadata": {
    "slideshow": {
     "slide_type": "slide"
    }
   },
   "outputs": [],
   "source": [
    "from pytket.extensions.cirq import tk_to_cirq\n"
   ]
  },
  {
   "cell_type": "code",
   "execution_count": null,
   "id": "469c8a0f",
   "metadata": {
    "slideshow": {
     "slide_type": "fragment"
    }
   },
   "outputs": [],
   "source": [
    "print(tk_to_cirq(c))\n"
   ]
  },
  {
   "cell_type": "markdown",
   "id": "c1f541a5",
   "metadata": {
    "slideshow": {
     "slide_type": "slide"
    }
   },
   "source": [
    "### circuit manipulation"
   ]
  },
  {
   "cell_type": "code",
   "execution_count": null,
   "id": "e55d9d71",
   "metadata": {
    "slideshow": {
     "slide_type": "fragment"
    }
   },
   "outputs": [],
   "source": [
    "from pytket import Circuit, Qubit, Bit\n",
    "circ = Circuit(2, 2)\n",
    "circ.CX(0, 1)\n",
    "circ.Rz(0.3, 1)\n",
    "circ.CX(0, 1)\n",
    "\n",
    "render_circuit_jupyter(circ)"
   ]
  },
  {
   "cell_type": "code",
   "execution_count": null,
   "id": "8043ad2b",
   "metadata": {
    "scrolled": true,
    "slideshow": {
     "slide_type": "slide"
    }
   },
   "outputs": [],
   "source": [
    "measures = Circuit(2, 2)\n",
    "render_circuit_jupyter(measures)"
   ]
  },
  {
   "cell_type": "code",
   "execution_count": null,
   "id": "53b8ca18",
   "metadata": {
    "slideshow": {
     "slide_type": "slide"
    }
   },
   "outputs": [],
   "source": [
    "measures.H(1)\n",
    "render_circuit_jupyter(measures)"
   ]
  },
  {
   "cell_type": "code",
   "execution_count": null,
   "id": "4bfb85c9",
   "metadata": {
    "slideshow": {
     "slide_type": "slide"
    }
   },
   "outputs": [],
   "source": [
    "measures.measure_all()\n",
    "render_circuit_jupyter(measures)"
   ]
  },
  {
   "cell_type": "code",
   "execution_count": null,
   "id": "d59c494c",
   "metadata": {
    "slideshow": {
     "slide_type": "slide"
    }
   },
   "outputs": [],
   "source": [
    "circ.append(measures)\n",
    "render_circuit_jupyter(circ)"
   ]
  },
  {
   "cell_type": "code",
   "execution_count": null,
   "id": "ab75290f",
   "metadata": {
    "slideshow": {
     "slide_type": "slide"
    }
   },
   "outputs": [],
   "source": [
    "tk_to_qiskit(circ).draw(output='mpl')"
   ]
  },
  {
   "cell_type": "markdown",
   "id": "e52fd826",
   "metadata": {
    "slideshow": {
     "slide_type": "slide"
    }
   },
   "source": [
    "# Quick note on Backends\n",
    "\n",
    "\n"
   ]
  },
  {
   "cell_type": "markdown",
   "id": "ec28b32f",
   "metadata": {
    "slideshow": {
     "slide_type": "notes"
    }
   },
   "source": [
    "Every device and simulator will have some restrictions to allow for a simpler implementation or because of the limits of engineering or noise within a device. For example, devices and simulators are typically designed to only support a small (but universal) gate set, so a Circuit containing other gate types could not be run immediately. However, as long as the fragment supported is universal, it is enough to be able to compile down to a semantically-equivalent Circuit which satisfies the requirements, for example, by translating each unknown gate into sequences of known gates.\n",
    "\n",
    "Other common restrictions presented by QPUs include the number of available qubits and their connectivity (multi-qubit gates may only be performed between adjacent qubits on the architecture). Measurements may also be noisy or take a long time on some QPUs, leading to the destruction or decoherence of any remaining quantum state, so they are artificially restricted to only happen in a single layer at the end of execution and mid-circuit measurements are rejected. More extremely, some classes of classical simulators will reject measurements entirely as they are designed to simulate pure quantum circuits (for example, when looking to yield a statevector or unitary deterministically).\n",
    "\n",
    "Each Backend object is aware of the restrictions of the underlying device or simulator, encoding them as a collection of Predicate s. Each Predicate is essentially a Boolean property of a Circuit which must return True for the Circuit to successfully run. The set of Predicates required by a Backend can be queried with Backend.required_predicates."
   ]
  },
  {
   "cell_type": "code",
   "execution_count": null,
   "id": "42e24266",
   "metadata": {
    "slideshow": {
     "slide_type": "slide"
    }
   },
   "outputs": [],
   "source": [
    "from pytket.extensions.qiskit import IBMQBackend, AerStateBackend\n",
    "dev_b = IBMQBackend(\"ibmq_belem\")\n",
    "sim_b = AerStateBackend()\n",
    "print(dev_b.required_predicates)\n",
    "print(sim_b.required_predicates)"
   ]
  },
  {
   "cell_type": "markdown",
   "id": "3bec2a17",
   "metadata": {
    "slideshow": {
     "slide_type": "slide"
    }
   },
   "source": [
    "# Circuit compilation and optimization\n",
    "\n"
   ]
  },
  {
   "cell_type": "markdown",
   "id": "802002fa",
   "metadata": {
    "slideshow": {
     "slide_type": "notes"
    }
   },
   "source": [
    "The necessity of compilation maps over from the world of classical computation: it is much easier to design correct programs when working with higher-level constructions that aren’t natively supported, and it shouldn’t require a programmer to be an expert in the exact device architecture to achieve good performance. There are many possible low-level implementations on the device for each high-level program, which vary in the time and resources taken to execute. However, because QPUs are analog devices, the implementation can have a massive impact on the quality of the final outcomes as a result of changing how susceptible the system is to noise. Using a good compiler and choosing the methods appropriately can automatically find a better low-level implementation. Each aspect of the compilation procedure is exposed through pytket to provide users with a way to have full control over what is applied and how.\n",
    "\n",
    "The primary goals of compilation are two-fold: solving the constraints of the Backend to get from the abstract model to something runnable, and optimising/simplifying the Circuit to make it faster, smaller, and less prone to noise. Every step in compilation can generally be split up into one of these two categories (though even the constraint solving steps could have multiple solutions over which we could optimise for noise).\n",
    "\n",
    "Each compiler pass inherits from the BasePass class, capturing a method of transforming a Circuit. The main functionality is built into the BasePass.apply() method, which applies the transformation to a Circuit in-place. The Backend.compile_circuit() method is simply an alias for BasePass.apply() from the Backend ‘s recommended pass sequence. \n"
   ]
  },
  {
   "cell_type": "markdown",
   "id": "0763a42b",
   "metadata": {
    "slideshow": {
     "slide_type": "slide"
    }
   },
   "source": [
    "### Rebases\n",
    "\n"
   ]
  },
  {
   "cell_type": "markdown",
   "id": "fc0028a0",
   "metadata": {
    "slideshow": {
     "slide_type": "notes"
    }
   },
   "source": [
    "One of the simplest constraints to solve for is the GateSetPredicate, since we can just substitute each gate in a Circuit with an equivalent sequence of gates in the target gateset according to some known gate decompositions. In pytket, such passes are referred to as “rebases”. The intention here is to perform this translation naively, leaving the optimisation of gate sequences to other passes. Rebases can be applied to any Circuit and will preserve every structural Predicate, only changing the types of gates used.\n",
    "\n",
    "https://cqcl.github.io/pytket/build/html/manual/manual_compiler.html?highlight=rebase#rebases"
   ]
  },
  {
   "cell_type": "code",
   "execution_count": null,
   "id": "e803599b",
   "metadata": {
    "slideshow": {
     "slide_type": "slide"
    }
   },
   "outputs": [],
   "source": [
    "from pytket import Circuit\n",
    "from pytket.passes import RebaseIBM, RebasePyZX\n",
    "circ = Circuit(2, 2)\n",
    "circ.Rx(0.3, 0).Ry(-0.9, 1).CZ(0, 1).S(0).CX(1, 0).measure_all()\n",
    "\n",
    "tk_to_qiskit(circ).draw(output='mpl')\n",
    "\n"
   ]
  },
  {
   "cell_type": "code",
   "execution_count": null,
   "id": "7d8d6297",
   "metadata": {
    "slideshow": {
     "slide_type": "slide"
    }
   },
   "outputs": [],
   "source": [
    "RebasePyZX().apply(circ)\n",
    "tk_to_qiskit(circ).draw(output='mpl')"
   ]
  },
  {
   "cell_type": "markdown",
   "id": "47690668",
   "metadata": {
    "slideshow": {
     "slide_type": "notes"
    }
   },
   "source": [
    "Note: as you can see, RebaseIBM is a bit outdated in the sense that this will produce a circuit with U1, U2,U3 and CX gates instead of the new default gateset used on IBM devices. The use of the appropriate gateset (new) will automatically be used when a backend is selected."
   ]
  },
  {
   "cell_type": "code",
   "execution_count": null,
   "id": "ab19814d",
   "metadata": {
    "slideshow": {
     "slide_type": "slide"
    }
   },
   "outputs": [],
   "source": [
    "circ = Circuit(2, 2)\n",
    "circ.Rx(0.3, 0).Ry(-0.9, 1).CZ(0, 1).S(0).CX(1, 0).measure_all()\n",
    "\n",
    "RebaseIBM().apply(circ)\n",
    "\n",
    "tk_to_qiskit(circ).draw(output='mpl')"
   ]
  },
  {
   "cell_type": "markdown",
   "id": "381ba5ec",
   "metadata": {
    "slideshow": {
     "slide_type": "slide"
    }
   },
   "source": [
    "\n",
    "### Placement\n",
    "\n",
    "\n"
   ]
  },
  {
   "cell_type": "markdown",
   "id": "831dba25",
   "metadata": {
    "slideshow": {
     "slide_type": "notes"
    }
   },
   "source": [
    "Now that we saw how to transform a circuit so it matches a specific target gateset (and it is easy to define a rebase for an arbitrary gateset), we can have a look into placement, and then routing.\n",
    "\n",
    "\n",
    "Initially, a Circuit designed without a target device in mind will be expressed in terms of actions on a set of “logical qubits” - those with semantic meaning to the computation. A placement (or initial mapping) is a map from these logical qubits to the physical qubits of the device that will be used to carry them. A given placement may be preferred over another if the connectivity of the physical qubits better matches the interactions between the logical qubits caused by multi-qubit gates, or if the selection of physical qubits has better noise characteristics. All of the information for connectivity and noise characteristics of a given Backend is wrapped up in a Device object by the Backend.device property.\n",
    "\n",
    "The placement only specifies where the logical qubits will be at the start of execution, which is not necessarily where they will end up on termination. Other compiler passes may choose to permute the qubits in the middle of a Circuit to either exploit further optimisations or enable interactions between logical qubits that were not assigned to adjacent physical qubits.\n",
    "\n",
    "A placement pass will act in place on a Circuit by renaming the qubits from their logical names (the UnitID s used at circuit construction) to their physical addresses (the UnitID s recognised by the Backend). Classical data is never renamed.\n",
    "\n",
    "Several heuristics have been implemented for identifying candidate placements. For example, LinePlacement will try to identify long paths on the connectivity graph which could be treated as a linear nearest-neighbour system. GraphPlacement will try to identify a subgraph isomorphism between the graph of interacting logical qubits (up to some depth into the Circuit) and the connectivity graph of the physical qubits. Then NoiseAwarePlacement extends this to break ties in equivalently good graph maps by looking at the error rates of the physical qubits and their couplers. \n",
    "\n",
    "The latter two can be configured using e.g. GraphPlacement.modify_config() to change parameters like how far into the Circuit it will look for interacting qubits (trading off time spent searching for the chance to find a better placement).\n"
   ]
  },
  {
   "cell_type": "code",
   "execution_count": null,
   "id": "81aac23d",
   "metadata": {
    "slideshow": {
     "slide_type": "slide"
    }
   },
   "outputs": [],
   "source": [
    "from pytket import Circuit\n",
    "from pytket.extensions.qiskit import IBMQBackend\n",
    "from pytket.passes import PlacementPass\n",
    "from pytket.predicates import ConnectivityPredicate\n",
    "from pytket.routing import GraphPlacement, NoiseAwarePlacement\n",
    "circ = Circuit(4, 4)\n",
    "circ.H(0).H(1).H(2).V(3)\n",
    "circ.CX(0, 1).CX(1, 2).CX(2, 3)\n",
    "circ.Rz(-0.37, 3)\n",
    "circ.CX(2, 3).CX(1, 2).CX(0, 1)\n",
    "circ.H(0).H(1).H(2).Vdg(3)\n",
    "circ.measure_all()\n",
    "\n",
    "\n",
    "render_circuit_jupyter(circ)\n",
    "\n"
   ]
  },
  {
   "cell_type": "markdown",
   "id": "69a41add",
   "metadata": {
    "slideshow": {
     "slide_type": "slide"
    }
   },
   "source": [
    "<figure>\n",
    "<img src=\"files/belem.png\" width=\"200\" height=\"100\"\n",
    "     alt=\"belem\" >\n",
    "<figcaption>IBM Belem device</figcaption>\n",
    "</figure>\n"
   ]
  },
  {
   "cell_type": "code",
   "execution_count": null,
   "id": "78a02d57",
   "metadata": {
    "slideshow": {
     "slide_type": "slide"
    }
   },
   "outputs": [],
   "source": [
    "backend = IBMQBackend(\"ibmq_belem\")\n",
    "place = PlacementPass(GraphPlacement(backend.device))\n",
    "place.apply(circ)\n",
    "\n",
    "print(circ.get_commands())\n",
    "print(ConnectivityPredicate(backend.device).verify(circ))"
   ]
  },
  {
   "cell_type": "code",
   "execution_count": null,
   "id": "c3ad94f1",
   "metadata": {
    "slideshow": {
     "slide_type": "fragment"
    }
   },
   "outputs": [],
   "source": [
    "render_circuit_jupyter(circ)"
   ]
  },
  {
   "cell_type": "markdown",
   "id": "691a9078",
   "metadata": {
    "slideshow": {
     "slide_type": "notes"
    }
   },
   "source": [
    "Alternatively, we cal also use the NoiseAware placement and see the difference"
   ]
  },
  {
   "cell_type": "code",
   "execution_count": null,
   "id": "a5c001d1",
   "metadata": {
    "slideshow": {
     "slide_type": "slide"
    }
   },
   "outputs": [],
   "source": [
    "backend = IBMQBackend(\"ibmq_belem\")\n",
    "place = PlacementPass(NoiseAwarePlacement(backend.device))\n",
    "place.apply(circ)\n",
    "\n",
    "print(circ.get_commands())\n",
    "print(ConnectivityPredicate(backend.device).verify(circ))"
   ]
  },
  {
   "cell_type": "code",
   "execution_count": null,
   "id": "81e8dfeb",
   "metadata": {
    "slideshow": {
     "slide_type": "fragment"
    }
   },
   "outputs": [],
   "source": [
    "render_circuit_jupyter(circ)"
   ]
  },
  {
   "cell_type": "markdown",
   "id": "a7d8126a",
   "metadata": {
    "slideshow": {
     "slide_type": "notes"
    }
   },
   "source": [
    "Quick note on Noise aware placement"
   ]
  },
  {
   "cell_type": "markdown",
   "id": "b56d75e5",
   "metadata": {
    "slideshow": {
     "slide_type": "notes"
    }
   },
   "source": [
    "Many quantum devices place limits on which qubits can interact, with these limitations being determined by the device architecture. When compiling a circuit to run on one of these devices, the circuit must be modified to fit the architecture, a process described in the previous chapter under Placement and Routing.\n",
    "\n",
    "In addition, the noise present in NISQ devices typically varies across the architecture, with different qubits and couplings experiencing different error rates, which may also vary depending on the operation being performed. To complicate matters further, these characteristics vary over time, a phenomenon commonly referred to as device drift.\n",
    "\n",
    "Some devices expose error characterisation information through their programming interface. When available, Backend objects will populate a characterisation property with this information.\n",
    "\n",
    "This is the case for example for IBM devices. Let's see what is available for the Belem device for example.\n"
   ]
  },
  {
   "cell_type": "code",
   "execution_count": null,
   "id": "e70b2673",
   "metadata": {
    "slideshow": {
     "slide_type": "slide"
    }
   },
   "outputs": [],
   "source": [
    "from pytket.extensions.qiskit import IBMQBackend\n",
    "\n",
    "backend = IBMQBackend(\"ibmq_belem\")\n",
    "for key in backend.characterisation:\n",
    "    print(key)"
   ]
  },
  {
   "cell_type": "markdown",
   "id": "2c5c5726",
   "metadata": {
    "slideshow": {
     "slide_type": "notes"
    }
   },
   "source": [
    "The Device stores device characteristics used in noise aware mapping methods, including single-qubit and two-qubit gate error rates and readout error rates. The characterisation member of Backend contains all characterisation information supplied by hardware providers.\n",
    "\n"
   ]
  },
  {
   "cell_type": "code",
   "execution_count": null,
   "id": "829c89fb",
   "metadata": {
    "slideshow": {
     "slide_type": "slide"
    }
   },
   "outputs": [],
   "source": [
    "print(repr(backend.device))\n"
   ]
  },
  {
   "cell_type": "markdown",
   "id": "cbecd184",
   "metadata": {
    "slideshow": {
     "slide_type": "notes"
    }
   },
   "source": [
    "Let's use a very small circuit to illustrate this"
   ]
  },
  {
   "cell_type": "code",
   "execution_count": null,
   "id": "49fd89e7",
   "metadata": {
    "slideshow": {
     "slide_type": "slide"
    }
   },
   "outputs": [],
   "source": [
    "circ = Circuit(3).CX(0,1).CX(0,2)\n",
    "render_circuit_jupyter(circ)"
   ]
  },
  {
   "cell_type": "code",
   "execution_count": null,
   "id": "dd6096eb",
   "metadata": {
    "slideshow": {
     "slide_type": "slide"
    }
   },
   "outputs": [],
   "source": [
    "from pytket.routing import NoiseAwarePlacement, GraphPlacement\n",
    "noise_placer = NoiseAwarePlacement(backend.device)\n",
    "graph_placer = GraphPlacement(backend.device)\n",
    "circ = Circuit(3).CX(0,1).CX(0,2)\n",
    "print(backend.device.coupling, '\\n')\n",
    "\n",
    "noise_placement = noise_placer.get_placement_map(circ)\n",
    "graph_placement = graph_placer.get_placement_map(circ)\n",
    "\n",
    "print('NoiseAwarePlacement mapping:')\n",
    "for k, v in noise_placement.items():\n",
    "    print(k, v)\n",
    "print('\\nGraphPlacement mapping:')\n",
    "for k, v in graph_placement.items():\n",
    "    print(k, v)"
   ]
  },
  {
   "cell_type": "markdown",
   "id": "742ba53f",
   "metadata": {
    "slideshow": {
     "slide_type": "slide"
    }
   },
   "source": [
    "### Routing\n",
    "\n",
    "\n"
   ]
  },
  {
   "cell_type": "markdown",
   "id": "65ce1890",
   "metadata": {
    "slideshow": {
     "slide_type": "notes"
    }
   },
   "source": [
    "The heterogeneity of quantum architectures and limited connectivity of their qubits impose the strict restriction that multi-qubit gates are only allowed between specific pairs of qubits. Given it is far easier to program a high-level operation which is semantically correct and meaningful when assuming full connectivity, a compiler will have to solve this constraint. In general, there won’t be an exact subgraph isomorphism between the graph of interacting logical qubits and the connected physical qubits, so this cannot be solved with placement alone.\n",
    "\n",
    "One solution here, is to scan through the Circuit looking for invalid interactions. Each of these can be solved by either moving the qubits around on the architecture by adding OpType.SWAP gates until they are in adjacent locations, or performing a distributed entangling operation using the intervening qubits (such as the “bridged-CX” OpType.BRIDGE which uses 4 CX gates and a single shared neighbour). The routing procedure in pytket takes a placed Circuit and inserts gates to reduce non-local operations to sequences of valid local ones."
   ]
  },
  {
   "cell_type": "code",
   "execution_count": null,
   "id": "1bf09ddd",
   "metadata": {
    "slideshow": {
     "slide_type": "slide"
    }
   },
   "outputs": [],
   "source": [
    "from pytket import Circuit\n",
    "from pytket.extensions.qiskit import IBMQBackend\n",
    "from pytket.passes import PlacementPass, RoutingPass\n",
    "from pytket.routing import GraphPlacement\n",
    "circ = Circuit(4)\n",
    "circ.CX(0, 1).CX(0, 2).CX(1, 2).CX(3, 2).CX(0, 3)\n"
   ]
  },
  {
   "cell_type": "code",
   "execution_count": null,
   "id": "34768604",
   "metadata": {
    "slideshow": {
     "slide_type": "fragment"
    }
   },
   "outputs": [],
   "source": [
    "render_circuit_jupyter(circ)"
   ]
  },
  {
   "cell_type": "code",
   "execution_count": null,
   "id": "a5ac4135",
   "metadata": {
    "slideshow": {
     "slide_type": "slide"
    }
   },
   "outputs": [],
   "source": [
    "backend = IBMQBackend(\"ibmq_belem\")\n",
    "PlacementPass(GraphPlacement(backend.device)).apply(circ)\n",
    "print(circ.get_commands())  # One qubit still unplaced\n",
    "                            # node[0] and node[2] are not adjacent\n",
    "\n"
   ]
  },
  {
   "cell_type": "code",
   "execution_count": null,
   "id": "086ade7f",
   "metadata": {
    "slideshow": {
     "slide_type": "fragment"
    }
   },
   "outputs": [],
   "source": [
    "render_circuit_jupyter(circ)"
   ]
  },
  {
   "cell_type": "code",
   "execution_count": null,
   "id": "1539f274",
   "metadata": {
    "slideshow": {
     "slide_type": "slide"
    }
   },
   "outputs": [],
   "source": [
    "RoutingPass(backend.device).apply(circ)\n",
    "print(circ.get_commands())"
   ]
  },
  {
   "cell_type": "code",
   "execution_count": null,
   "id": "aed1e06c",
   "metadata": {
    "slideshow": {
     "slide_type": "fragment"
    }
   },
   "outputs": [],
   "source": [
    "render_circuit_jupyter(circ)"
   ]
  },
  {
   "cell_type": "markdown",
   "id": "7ca7ea8f",
   "metadata": {
    "slideshow": {
     "slide_type": "slide"
    }
   },
   "source": [
    "### Optimisations\n"
   ]
  },
  {
   "cell_type": "markdown",
   "id": "f6617c41",
   "metadata": {
    "slideshow": {
     "slide_type": "notes"
    }
   },
   "source": [
    "Having covered the primary goal of compilation and reduced our Circuit s to a form where they can be run, we find that there are additional techniques we can use to obtain more reliable results by reducing the noise and probability of error. Most Circuit optimisations follow the mantra of “fewer expensive resources gives less opportunity for noise to creep in”, whereby if we find an alternative Circuit that is observationally equivalent in a perfect noiseless setting but uses fewer resources (gates, time, ancilla qubits) then it is likely to perform better in a noisy context (though not always guaranteed).\n",
    "\n",
    "If we have two Circuits that are observationally equivalent, we know that replacing one for the other in any context also gives something that is observationally equivalent. The simplest optimisations will take an inefficient pattern, find all matches in the given Circuit and replace them by the efficient alternative. A good example from this class of peephole optimisations is the RemoveRedundancies pass, which looks for a number of easy-to-spot redundant gates, such as zero-parameter rotation gates, gate-inverse pairs, adjacent rotation gates in the same basis, and diagonal rotation gates followed by measurements.\n",
    "\n"
   ]
  },
  {
   "cell_type": "code",
   "execution_count": null,
   "id": "95e3fa1a",
   "metadata": {
    "slideshow": {
     "slide_type": "slide"
    }
   },
   "outputs": [],
   "source": [
    "from pytket import Circuit, OpType\n",
    "from pytket.passes import RemoveRedundancies\n",
    "circ = Circuit(3, 3)\n",
    "circ.Rx(0.92, 0).CX(1, 2).Rx(-0.18, 0)  # Adjacent Rx gates can be merged\n",
    "circ.CZ(0, 1).Ry(0.11, 2).CZ(0, 1)      # CZ is self-inverse\n",
    "circ.add_gate(OpType.XXPhase, 0.6, [0, 1])\n",
    "circ.add_gate(OpType.YYPhase, 0, [0, 1])    # 0-angle rotation does nothing\n",
    "circ.add_gate(OpType.ZZPhase, -0.84, [0, 1])\n",
    "circ.Rx(0.03, 0).Rz(-0.9, 1).measure_all()  # Effect of Rz is eliminated by measurement\n",
    "\n",
    "print(circ.get_commands())"
   ]
  },
  {
   "cell_type": "code",
   "execution_count": null,
   "id": "97d3c3da",
   "metadata": {
    "slideshow": {
     "slide_type": "fragment"
    }
   },
   "outputs": [],
   "source": [
    "render_circuit_jupyter(circ)"
   ]
  },
  {
   "cell_type": "code",
   "execution_count": null,
   "id": "4820f9fa",
   "metadata": {
    "slideshow": {
     "slide_type": "slide"
    }
   },
   "outputs": [],
   "source": [
    "RemoveRedundancies().apply(circ)\n",
    "print(circ.get_commands())\n"
   ]
  },
  {
   "cell_type": "code",
   "execution_count": null,
   "id": "8b3f355e",
   "metadata": {
    "slideshow": {
     "slide_type": "fragment"
    }
   },
   "outputs": [],
   "source": [
    "render_circuit_jupyter(circ)"
   ]
  },
  {
   "cell_type": "markdown",
   "id": "ba0ce19c",
   "metadata": {
    "slideshow": {
     "slide_type": "slide"
    }
   },
   "source": [
    "### Embedding into Qiskit\n",
    "\n",
    "\n"
   ]
  },
  {
   "cell_type": "markdown",
   "id": "5864c9a9",
   "metadata": {
    "slideshow": {
     "slide_type": "notes"
    }
   },
   "source": [
    "Not only is the goal of tket to be a device-agnostic platform, but also interface-agnostic, so users are not obliged to have to work entirely in tket to benefit from the wide range of devices supported. For example, Qiskit is currently the most widely adopted quantum software development platform, providing its own modules for building and compiling circuits, submitting to backends, applying error mitigation techniques and combining these into higher-level algorithms. Each Backend in pytket can be wrapped up to imitate a Qiskit backend, allowing the benefits of tket to be felt in existing Qiskit projects with minimal work."
   ]
  },
  {
   "cell_type": "code",
   "execution_count": null,
   "id": "e23e9b17",
   "metadata": {
    "slideshow": {
     "slide_type": "slide"
    }
   },
   "outputs": [],
   "source": [
    "from qiskit.utils import QuantumInstance\n",
    "from qiskit.algorithms import Grover, AmplificationProblem\n",
    "from qiskit.circuit import QuantumCircuit\n",
    "\n",
    "from pytket.extensions.qulacs import QulacsBackend\n",
    "from pytket.extensions.qiskit.tket_backend import TketBackend\n",
    "\n",
    "b = QulacsBackend()\n",
    "backend = TketBackend(b, b.default_compilation_pass())\n",
    "qinstance = QuantumInstance(backend)\n",
    "\n",
    "oracle = QuantumCircuit(2)\n",
    "oracle.cz(0, 1)\n",
    "\n",
    "def is_good_state(bitstr):\n",
    "    return sum(map(int, bitstr)) == 2\n",
    "\n",
    "problem = AmplificationProblem(oracle=oracle, is_good_state=is_good_state)\n",
    "grover = Grover(quantum_instance=qinstance)\n",
    "result = grover.amplify(problem)\n",
    "print(\"Top measurement:\", result.top_measurement)"
   ]
  },
  {
   "cell_type": "markdown",
   "id": "bc07ed9d",
   "metadata": {
    "slideshow": {
     "slide_type": "slide"
    }
   },
   "source": [
    "## running on different backends"
   ]
  },
  {
   "cell_type": "code",
   "execution_count": null,
   "id": "c0206901",
   "metadata": {
    "slideshow": {
     "slide_type": "slide"
    }
   },
   "outputs": [],
   "source": [
    "from pytket import Circuit\n",
    "bell_circ = Circuit(2).H(0).CX(0,1)\n",
    "render_circuit_jupyter(bell_circ)"
   ]
  },
  {
   "cell_type": "code",
   "execution_count": null,
   "id": "1eb88b87",
   "metadata": {
    "slideshow": {
     "slide_type": "fragment"
    }
   },
   "outputs": [],
   "source": [
    "from  pytket.extensions.braket import BraketBackend\n",
    "S3_BUCKET = \"amazon-braket-test\"\n",
    "S3_FOLDER = \"test-folder\"\n",
    "ionq_backend = BraketBackend(\n",
    "    s3_bucket=S3_BUCKET,\n",
    "    s3_folder=S3_FOLDER,\n",
    "    device_type=\"qpu\",\n",
    "    provider=\"ionq\",\n",
    "    device=\"ionQdevice\",\n",
    ")\n"
   ]
  },
  {
   "cell_type": "code",
   "execution_count": null,
   "id": "58d17c21",
   "metadata": {
    "slideshow": {
     "slide_type": "slide"
    }
   },
   "outputs": [],
   "source": [
    "ionq_backend.compile_circuit(bell_circ)"
   ]
  },
  {
   "cell_type": "code",
   "execution_count": null,
   "id": "7591d478",
   "metadata": {
    "slideshow": {
     "slide_type": "fragment"
    }
   },
   "outputs": [],
   "source": [
    "render_circuit_jupyter(bell_circ)"
   ]
  },
  {
   "cell_type": "code",
   "execution_count": null,
   "id": "a00f14eb",
   "metadata": {
    "slideshow": {
     "slide_type": "slide"
    }
   },
   "outputs": [],
   "source": [
    "job_handle = ionq_backend.process_circuit(bell_circ, n_shots=20)"
   ]
  },
  {
   "cell_type": "code",
   "execution_count": null,
   "id": "a6c34512",
   "metadata": {
    "slideshow": {
     "slide_type": "fragment"
    }
   },
   "outputs": [],
   "source": [
    "print(ionq_backend.circuit_status(job_handle))"
   ]
  },
  {
   "cell_type": "code",
   "execution_count": null,
   "id": "0a9a6357",
   "metadata": {
    "slideshow": {
     "slide_type": "fragment"
    }
   },
   "outputs": [],
   "source": [
    "result = ionq_backend.get_result(job_handle)\n"
   ]
  },
  {
   "cell_type": "code",
   "execution_count": null,
   "id": "918aa93d",
   "metadata": {
    "slideshow": {
     "slide_type": "slide"
    }
   },
   "outputs": [],
   "source": [
    "from pytket.circuit import Bit\n",
    "def get_cbits(backend, circuit):\n",
    "    return [Bit(backend.device().nodes.index(q)) for q in circuit.qubits]\n",
    "cbits = get_cbits(ionq_backend, bell_circ)\n"
   ]
  },
  {
   "cell_type": "code",
   "execution_count": null,
   "id": "4c206959",
   "metadata": {
    "slideshow": {
     "slide_type": "fragment"
    }
   },
   "outputs": [],
   "source": [
    "counts = result.get_counts(cbits=cbits)\n",
    "print(counts)\n"
   ]
  },
  {
   "cell_type": "code",
   "execution_count": null,
   "id": "711516cd",
   "metadata": {},
   "outputs": [],
   "source": []
  },
  {
   "cell_type": "code",
   "execution_count": null,
   "id": "bef655f6",
   "metadata": {},
   "outputs": [],
   "source": []
  },
  {
   "cell_type": "code",
   "execution_count": null,
   "id": "41188c8e",
   "metadata": {},
   "outputs": [],
   "source": []
  }
 ],
 "metadata": {
  "celltoolbar": "Slideshow",
  "kernelspec": {
   "display_name": "Python 3",
   "language": "python",
   "name": "python3"
  },
  "language_info": {
   "codemirror_mode": {
    "name": "ipython",
    "version": 3
   },
   "file_extension": ".py",
   "mimetype": "text/x-python",
   "name": "python",
   "nbconvert_exporter": "python",
   "pygments_lexer": "ipython3",
   "version": "3.9.5"
  },
  "latex_envs": {
   "LaTeX_envs_menu_present": true,
   "autoclose": false,
   "autocomplete": true,
   "bibliofile": "biblio.bib",
   "cite_by": "apalike",
   "current_citInitial": 1,
   "eqLabelWithNumbers": true,
   "eqNumInitial": 1,
   "hotkeys": {
    "equation": "Ctrl-E",
    "itemize": "Ctrl-I"
   },
   "labels_anchors": false,
   "latex_user_defs": false,
   "report_style_numbering": false,
   "user_envs_cfg": false
  }
 },
 "nbformat": 4,
 "nbformat_minor": 5
}
