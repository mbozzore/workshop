{
 "cells": [
  {
   "cell_type": "code",
   "execution_count": null,
   "id": "88aa35f0",
   "metadata": {},
   "outputs": [],
   "source": [
    "from pytket import Circuit, OpType\n",
    "from pytket.extensions.qiskit import AerBackend\n",
    "circ = Circuit(3)\n",
    "circ.CZ(0, 1)\n",
    "circ.H(1)\n",
    "circ.Rx(0.42, 1)\n",
    "circ.S(1)\n",
    "circ.add_gate(OpType.YYPhase, 0.96, [1, 2])\n",
    "circ.CX(0, 1)\n",
    "circ.measure_all()\n",
    "#b = AerBackend()\n",
    "b= IBMQBackend(\"ibmq_belem\")\n",
    "for ol in range(3):\n",
    "    test = circ.copy()\n",
    "    b.default_compilation_pass(ol).apply(test)\n",
    "    assert b.valid_circuit(test)\n",
    "    print(\"Optimisation level\", ol)\n",
    "    print(\"Gates\", test.n_gates)\n",
    "    print(\"CXs\", test.n_gates_of_type(OpType.CX))\n"
   ]
  },
  {
   "cell_type": "code",
   "execution_count": null,
   "id": "d4a0610b",
   "metadata": {},
   "outputs": [],
   "source": []
  },
  {
   "cell_type": "code",
   "execution_count": null,
   "id": "98fb1aaa",
   "metadata": {},
   "outputs": [],
   "source": []
  },
  {
   "cell_type": "code",
   "execution_count": null,
   "id": "865945cd",
   "metadata": {},
   "outputs": [],
   "source": []
  },
  {
   "cell_type": "code",
   "execution_count": null,
   "id": "1180d7f2",
   "metadata": {},
   "outputs": [],
   "source": []
  },
  {
   "cell_type": "code",
   "execution_count": null,
   "id": "74580be0",
   "metadata": {},
   "outputs": [],
   "source": []
  },
  {
   "cell_type": "code",
   "execution_count": null,
   "id": "8ea76d7f",
   "metadata": {},
   "outputs": [],
   "source": []
  },
  {
   "cell_type": "code",
   "execution_count": null,
   "id": "53f7d4a7",
   "metadata": {},
   "outputs": [],
   "source": []
  },
  {
   "cell_type": "code",
   "execution_count": null,
   "id": "4234382f",
   "metadata": {},
   "outputs": [],
   "source": [
    "c1 = Circuit(3)\n",
    "c1.depth() \n",
    "\n"
   ]
  },
  {
   "cell_type": "code",
   "execution_count": null,
   "id": "752347f3",
   "metadata": {},
   "outputs": [],
   "source": [
    "c1.CX(0,1)\n",
    "c1.CX(1,2)\n",
    "c1.CX(2,0)\n",
    "c1.depth()"
   ]
  },
  {
   "cell_type": "code",
   "execution_count": null,
   "id": "b06b25c9",
   "metadata": {},
   "outputs": [],
   "source": [
    "render_circuit_jupyter(c1)"
   ]
  },
  {
   "cell_type": "code",
   "execution_count": null,
   "id": "cc5a2740",
   "metadata": {},
   "outputs": [],
   "source": [
    "measure_all(c1)"
   ]
  },
  {
   "cell_type": "code",
   "execution_count": null,
   "id": "8f2d8d30",
   "metadata": {},
   "outputs": [],
   "source": [
    "c2 = Circuit(3)\n",
    "\n",
    "c2.CX(0,1)\n",
    "c2.Z(1)\n",
    "c2.CX(1,2)"
   ]
  },
  {
   "cell_type": "code",
   "execution_count": null,
   "id": "db65fe2a",
   "metadata": {},
   "outputs": [],
   "source": [
    "render_circuit_jupyter(c2)"
   ]
  },
  {
   "cell_type": "code",
   "execution_count": null,
   "id": "f0359a52",
   "metadata": {},
   "outputs": [],
   "source": [
    "c1.depth_by_type(OpType.CX)"
   ]
  },
  {
   "cell_type": "code",
   "execution_count": null,
   "id": "17fc663b",
   "metadata": {},
   "outputs": [],
   "source": []
  },
  {
   "cell_type": "code",
   "execution_count": null,
   "id": "efef77a7",
   "metadata": {},
   "outputs": [],
   "source": []
  },
  {
   "cell_type": "code",
   "execution_count": null,
   "id": "3b3fca5f",
   "metadata": {},
   "outputs": [],
   "source": []
  },
  {
   "cell_type": "code",
   "execution_count": null,
   "id": "586baec7",
   "metadata": {},
   "outputs": [],
   "source": []
  },
  {
   "cell_type": "code",
   "execution_count": null,
   "id": "cfee5121",
   "metadata": {},
   "outputs": [],
   "source": []
  },
  {
   "cell_type": "code",
   "execution_count": null,
   "id": "b6a9eed4",
   "metadata": {},
   "outputs": [],
   "source": []
  },
  {
   "cell_type": "markdown",
   "id": "4c73e5f5",
   "metadata": {},
   "source": [
    "### Embedding into Qiskit\n",
    "\n",
    "\n"
   ]
  },
  {
   "cell_type": "markdown",
   "id": "e525a53c",
   "metadata": {},
   "source": [
    "Not only is the goal of tket to be a device-agnostic platform, but also interface-agnostic, so users are not obliged to have to work entirely in tket to benefit from the wide range of devices supported. For example, Qiskit is currently the most widely adopted quantum software development platform, providing its own modules for building and compiling circuits, submitting to backends, applying error mitigation techniques and combining these into higher-level algorithms. Each Backend in pytket can be wrapped up to imitate a Qiskit backend, allowing the benefits of tket to be felt in existing Qiskit projects with minimal work."
   ]
  },
  {
   "cell_type": "code",
   "execution_count": null,
   "id": "9b0b2ac1",
   "metadata": {},
   "outputs": [],
   "source": [
    "from qiskit.utils import QuantumInstance\n",
    "from qiskit.algorithms import Grover, AmplificationProblem\n",
    "from qiskit.circuit import QuantumCircuit\n",
    "\n",
    "from pytket.extensions.qulacs import QulacsBackend\n",
    "from pytket.extensions.qiskit.tket_backend import TketBackend\n",
    "\n",
    "b = QulacsBackend()\n",
    "backend = TketBackend(b, b.default_compilation_pass())\n",
    "qinstance = QuantumInstance(backend)\n",
    "\n",
    "oracle = QuantumCircuit(2)\n",
    "oracle.cz(0, 1)\n",
    "\n",
    "def is_good_state(bitstr):\n",
    "    return sum(map(int, bitstr)) == 2\n",
    "\n",
    "problem = AmplificationProblem(oracle=oracle, is_good_state=is_good_state)\n",
    "grover = Grover(quantum_instance=qinstance)\n",
    "result = grover.amplify(problem)\n",
    "print(\"Top measurement:\", result.top_measurement)"
   ]
  },
  {
   "cell_type": "code",
   "execution_count": null,
   "id": "c5528372",
   "metadata": {},
   "outputs": [],
   "source": [
    "oracle.draw(output='mpl')\n"
   ]
  },
  {
   "cell_type": "code",
   "execution_count": null,
   "id": "64eeba47",
   "metadata": {},
   "outputs": [],
   "source": []
  },
  {
   "cell_type": "code",
   "execution_count": null,
   "id": "cde32feb",
   "metadata": {},
   "outputs": [],
   "source": []
  },
  {
   "cell_type": "code",
   "execution_count": null,
   "id": "15e026f8",
   "metadata": {},
   "outputs": [],
   "source": []
  },
  {
   "cell_type": "code",
   "execution_count": null,
   "id": "48c41108",
   "metadata": {},
   "outputs": [],
   "source": []
  },
  {
   "cell_type": "code",
   "execution_count": null,
   "id": "c9c2b9e4",
   "metadata": {},
   "outputs": [],
   "source": []
  },
  {
   "cell_type": "code",
   "execution_count": null,
   "id": "b928903f",
   "metadata": {},
   "outputs": [],
   "source": []
  },
  {
   "cell_type": "code",
   "execution_count": null,
   "id": "62f43525",
   "metadata": {},
   "outputs": [],
   "source": []
  },
  {
   "cell_type": "code",
   "execution_count": null,
   "id": "45d7b9a2",
   "metadata": {},
   "outputs": [],
   "source": [
    "from pytket.qasm import circuit_from_qasm, circuit_to_qasm_str\n",
    "import tempfile, os\n",
    "\n",
    "fd, path = tempfile.mkstemp(\".qasm\")\n",
    "os.write(fd, \"\"\"OPENQASM 2.0;\n",
    "include \"qelib1.inc\";\n",
    "qreg q[2];\n",
    "creg c[2];\n",
    "h q[0];\n",
    "cx q[0], q[1];\n",
    "cz q[1], q[0];\n",
    "measure q -> c;\n",
    "\"\"\".encode())\n",
    "os.close(fd)\n",
    "circ = circuit_from_qasm(path)\n",
    "os.remove(path)\n",
    "\n",
    "print(circuit_to_qasm_str(circ))\n"
   ]
  },
  {
   "cell_type": "code",
   "execution_count": null,
   "id": "d178435a",
   "metadata": {},
   "outputs": [],
   "source": [
    "render_circuit_jupyter(circ)"
   ]
  },
  {
   "cell_type": "code",
   "execution_count": null,
   "id": "778a1cca",
   "metadata": {},
   "outputs": [],
   "source": []
  },
  {
   "cell_type": "code",
   "execution_count": null,
   "id": "dc30eed1",
   "metadata": {},
   "outputs": [],
   "source": [
    "from pytket import Circuit, OpType\n",
    "from sympy import Symbol\n",
    "a = Symbol(\"alpha\")\n",
    "b = Symbol(\"beta\")\n",
    "circ = Circuit(2)\n",
    "circ.Rx(a, 0)\n",
    "circ.Rx(-2*a, 1)\n",
    "circ.CX(0, 1)\n",
    "circ.add_gate(OpType.YYPhase, b, [0, 1])\n",
    "print(circ.get_commands())\n",
    "\n",
    "s_map = {a: 0.3, b:1.25}\n",
    "circ.symbol_substitution(s_map)\n",
    "print(circ.get_commands())"
   ]
  },
  {
   "cell_type": "code",
   "execution_count": null,
   "id": "9bde5514",
   "metadata": {},
   "outputs": [],
   "source": [
    "render_circuit_jupyter(circ)"
   ]
  },
  {
   "cell_type": "code",
   "execution_count": null,
   "id": "65c9ee18",
   "metadata": {},
   "outputs": [],
   "source": [
    "tk_to_qiskit(circ).draw(output='mpl')"
   ]
  },
  {
   "cell_type": "code",
   "execution_count": null,
   "id": "ca25b5ad",
   "metadata": {},
   "outputs": [],
   "source": []
  },
  {
   "cell_type": "code",
   "execution_count": null,
   "id": "1a303c2a",
   "metadata": {},
   "outputs": [],
   "source": []
  },
  {
   "cell_type": "code",
   "execution_count": null,
   "id": "fbad4c91",
   "metadata": {},
   "outputs": [],
   "source": [
    "from pytket.extensions.qiskit import IBMQBackend, AerStateBackend\n",
    "dev_b = IBMQBackend(\"ibmq_athens\")\n",
    "sim_b = AerStateBackend()\n",
    "print(dev_b.required_predicates)\n",
    "print(sim_b.required_predicates)"
   ]
  },
  {
   "cell_type": "code",
   "execution_count": null,
   "id": "aeb34ae2",
   "metadata": {},
   "outputs": [],
   "source": []
  },
  {
   "cell_type": "code",
   "execution_count": null,
   "id": "d29cc7ee",
   "metadata": {},
   "outputs": [],
   "source": []
  },
  {
   "cell_type": "markdown",
   "id": "ff106135",
   "metadata": {},
   "source": [
    "### Compilation\n",
    "\n",
    "So far, we have already covered enough to be able to design the Circuit s we want to run, submit them to a Backend, and interpret the results in a meaningful way. This is all you need if you want to just try out a quantum computer, run some toy examples and observe some basic results. We actually glossed over a key step in this process by using the Backend.compile_circuit() method. The compilation step maps from the universal computer abstraction presented at Circuit construction to the restricted fragment supported by the target Backend, and knowing what a compiler can do to your program can help reduce the burden of design and improve performance on real devices.\n",
    "\n",
    "The necessity of compilation maps over from the world of classical computation: it is much easier to design correct programs when working with higher-level constructions that aren’t natively supported, and it shouldn’t require a programmer to be an expert in the exact device architecture to achieve good performance. There are many possible low-level implementations on the device for each high-level program, which vary in the time and resources taken to execute. However, because QPUs are analog devices, the implementation can have a massive impact on the quality of the final outcomes as a result of changing how susceptible the system is to noise. Using a good compiler and choosing the methods appropriately can automatically find a better low-level implementation. Each aspect of the compilation procedure is exposed through pytket to provide users with a way to have full control over what is applied and how.\n",
    "\n",
    "The primary goals of compilation are two-fold: solving the constraints of the Backend to get from the abstract model to something runnable, and optimising/simplifying the Circuit to make it faster, smaller, and less prone to noise. Every step in compilation can generally be split up into one of these two categories (though even the constraint solving steps could have multiple solutions over which we could optimise for noise).\n",
    "\n",
    "Each compiler pass inherits from the BasePass class, capturing a method of transforming a Circuit. The main functionality is built into the BasePass.apply() method, which applies the transformation to a Circuit in-place. The Backend.compile_circuit() method is simply an alias for BasePass.apply() from the Backend ‘s recommended pass sequence. This chapter will explore these compiler passes, the different kinds of constraints they are used to solve and optimisations they apply, to help you identify which ones are appropriate for a given task.\n",
    "\n"
   ]
  },
  {
   "cell_type": "markdown",
   "id": "8e887ddd",
   "metadata": {},
   "source": [
    "### Rebases\n",
    "One of the simplest constraints to solve for is the GateSetPredicate, since we can just substitute each gate in a Circuit with an equivalent sequence of gates in the target gateset according to some known gate decompositions. In pytket, such passes are referred to as “rebases”. The intention here is to perform this translation naively, leaving the optimisation of gate sequences to other passes. Rebases can be applied to any Circuit and will preserve every structural Predicate, only changing the types of gates used.\n",
    "\n"
   ]
  },
  {
   "cell_type": "code",
   "execution_count": null,
   "id": "d2f6b451",
   "metadata": {},
   "outputs": [],
   "source": []
  },
  {
   "cell_type": "code",
   "execution_count": null,
   "id": "660c50e7",
   "metadata": {},
   "outputs": [],
   "source": []
  },
  {
   "cell_type": "code",
   "execution_count": null,
   "id": "bae1acb7",
   "metadata": {},
   "outputs": [],
   "source": []
  },
  {
   "cell_type": "code",
   "execution_count": null,
   "id": "3f4fada4",
   "metadata": {},
   "outputs": [],
   "source": [
    "from pytket import Circuit\n",
    "from pytket.passes import RebaseIBM\n",
    "circ = Circuit(2, 2)\n",
    "circ.Rx(0.3, 0).Ry(-0.9, 1).CZ(0, 1).S(0).CX(1, 0).measure_all()\n",
    "\n",
    "RebaseIBM().apply(circ)\n",
    "\n",
    "print(circ.get_commands())\n"
   ]
  },
  {
   "cell_type": "code",
   "execution_count": null,
   "id": "38a43550",
   "metadata": {},
   "outputs": [],
   "source": []
  },
  {
   "cell_type": "code",
   "execution_count": null,
   "id": "3762d0f9",
   "metadata": {},
   "outputs": [],
   "source": []
  },
  {
   "cell_type": "code",
   "execution_count": null,
   "id": "d2495a10",
   "metadata": {},
   "outputs": [],
   "source": []
  },
  {
   "cell_type": "code",
   "execution_count": null,
   "id": "c22c7eb7",
   "metadata": {},
   "outputs": [],
   "source": [
    "from pytket import Circuit, OpType\n",
    "from pytket.predicates import GateSetPredicate, NoMidMeasurePredicate\n",
    "circ = Circuit(2, 2)\n",
    "circ.Rx(0.2, 0).CX(0, 1).Rz(-0.7, 1).measure_all()\n",
    "\n",
    "gateset = GateSetPredicate({OpType.Rx, OpType.CX, OpType.Rz, OpType.Measure})\n",
    "midmeasure = NoMidMeasurePredicate()\n",
    "\n",
    "print(gateset.verify(circ))\n",
    "print(midmeasure.verify(circ))\n",
    "\n"
   ]
  },
  {
   "cell_type": "code",
   "execution_count": null,
   "id": "195af806",
   "metadata": {},
   "outputs": [],
   "source": [
    "tk_to_qiskit(circ).draw(output='mpl')"
   ]
  },
  {
   "cell_type": "code",
   "execution_count": null,
   "id": "fcf7d1d3",
   "metadata": {},
   "outputs": [],
   "source": [
    "circ.S(0)\n",
    "\n",
    "print(gateset.verify(circ))\n",
    "print(midmeasure.verify(circ))\n"
   ]
  },
  {
   "cell_type": "code",
   "execution_count": null,
   "id": "cbc76946",
   "metadata": {},
   "outputs": [],
   "source": [
    "tk_to_qiskit(circ).draw(output='mpl')"
   ]
  },
  {
   "cell_type": "markdown",
   "id": "9228de8b",
   "metadata": {},
   "source": [
    "frqi - qc1 circuit - max intensity for all the pixels"
   ]
  },
  {
   "cell_type": "code",
   "execution_count": null,
   "id": "19b4bbb8",
   "metadata": {},
   "outputs": [],
   "source": [
    "import qiskit as qk\n",
    "from qiskit import QuantumCircuit, Aer, IBMQ\n",
    "from qiskit import transpile, assemble\n",
    "from qiskit.tools.jupyter import *\n",
    "from qiskit.visualization import plot_histogram\n",
    "from math import pi"
   ]
  },
  {
   "cell_type": "code",
   "execution_count": null,
   "id": "89acad4c",
   "metadata": {},
   "outputs": [],
   "source": [
    "theta = pi/2  # all pixels white\n",
    "qc1 = QuantumCircuit(3)\n",
    "\n",
    "qc1.h(0)\n",
    "qc1.h(1)\n",
    "\n",
    "qc1.barrier()\n",
    "#Pixel 1\n",
    "\n",
    "qc1.cry(theta,0,2)\n",
    "qc1.cx(0,1)\n",
    "qc1.cry(-theta,1,2)\n",
    "qc1.cx(0,1)\n",
    "qc1.cry(theta,1,2)\n",
    "\n",
    "qc1.barrier()\n",
    "#Pixel 2\n",
    "\n",
    "qc1.x(1)\n",
    "\n",
    "qc1.cry(theta,0,2)\n",
    "qc1.cx(0,1)\n",
    "qc1.cry(-theta,1,2)\n",
    "qc1.cx(0,1)\n",
    "qc1.cry(theta,1,2)\n",
    "\n",
    "qc1.barrier()\n",
    "\n",
    "qc1.x(1)\n",
    "qc1.x(0)\n",
    "qc1.cry(theta,0,2)\n",
    "qc1.cx(0,1)\n",
    "qc1.cry(-theta,1,2)\n",
    "qc1.cx(0,1)\n",
    "qc1.cry(theta,1,2)\n",
    "\n",
    "\n",
    "qc1.barrier()\n",
    "\n",
    "qc1.x(1)\n",
    "\n",
    "qc1.cry(theta,0,2)\n",
    "qc1.cx(0,1)\n",
    "qc1.cry(-theta,1,2)\n",
    "qc1.cx(0,1)\n",
    "qc1.cry(theta,1,2)\n",
    "\n",
    "qc1.measure_all()\n",
    "\n",
    "qc1.draw(output='mpl')"
   ]
  },
  {
   "cell_type": "code",
   "execution_count": null,
   "id": "fdc4a05f",
   "metadata": {},
   "outputs": [],
   "source": [
    "print(\"Depth : \", qc1.depth())\n",
    "print(\"Operations: \", qc1.count_ops())\n"
   ]
  },
  {
   "cell_type": "code",
   "execution_count": null,
   "id": "e95663f0",
   "metadata": {},
   "outputs": [],
   "source": [
    "from qiskit.compiler import transpile\n",
    "from qiskit.transpiler import PassManager\n",
    "from qiskit.transpiler.passes import Unroller\n",
    "pass_ = Unroller(['u3', 'cx'])\n",
    "pm = PassManager(pass_)\n",
    "new_circ = pm.run(qc1)\n",
    "#new_circ.draw()\n",
    "print(\"Depth : \", new_circ.depth())\n",
    "print(\"Operations: \", new_circ.count_ops())"
   ]
  },
  {
   "cell_type": "code",
   "execution_count": null,
   "id": "6ecfc7c8",
   "metadata": {},
   "outputs": [],
   "source": [
    "new_circ.draw(output=\"mpl\")"
   ]
  },
  {
   "cell_type": "markdown",
   "id": "8defaa71",
   "metadata": {},
   "source": [
    "comparing the unrolling from qiskit with  rebaseibm from tket "
   ]
  },
  {
   "cell_type": "code",
   "execution_count": null,
   "id": "0dfa34e9",
   "metadata": {},
   "outputs": [],
   "source": [
    "qc1tk=qiskit_to_tk(qc1)\n",
    "qc1tk_back=qc1tk.copy()"
   ]
  },
  {
   "cell_type": "code",
   "execution_count": null,
   "id": "702e36c9",
   "metadata": {},
   "outputs": [],
   "source": [
    "RebaseIBM().apply(qc1tk)\n",
    "print(\"Depth\", qc1tk.depth())\n",
    "print(\"Gates\", qc1tk.n_gates)\n",
    "print(\"CXs\", qc1tk.n_gates_of_type(OpType.CX))\n",
    "print(\"U3ss\", qc1tk.n_gates_of_type(OpType.CX))\n",
    "print(\"Barrier\", qc1tk.n_gates_of_type(OpType.Barrier))\n",
    "print(\"Measure\", qc1tk.n_gates_of_type(OpType.Measure))"
   ]
  },
  {
   "cell_type": "code",
   "execution_count": null,
   "id": "b6e94e68",
   "metadata": {},
   "outputs": [],
   "source": [
    "from qiskit.test.mock import FakeAthens\n",
    "fake_athens = FakeAthens()\n",
    "# The device coupling map is needed for transpiling to correct\n",
    "# CNOT gates before simulation\n",
    "coupling_map = fake_athens.configuration().coupling_map\n",
    "optimized_3 = transpile(qc1,backend=fake_athens, seed_transpiler=11, optimization_level=3)\n",
    "print('gates = ', optimized_3.count_ops())\n",
    "print('depth = ', optimized_3.depth())\n",
    "print('total number of gates = ', optimized_3.size())\n",
    "#basis_gates=['u3', 'cx']"
   ]
  },
  {
   "cell_type": "code",
   "execution_count": null,
   "id": "dd2cb00f",
   "metadata": {},
   "outputs": [],
   "source": [
    "optimized_3.draw(output='mpl')"
   ]
  },
  {
   "cell_type": "code",
   "execution_count": null,
   "id": "2009b3ee",
   "metadata": {},
   "outputs": [],
   "source": [
    "from pytket.utils import prepare_circuit\n",
    "\n",
    "circ1=qc1tk_back\n",
    "#b = AerBackend()\n",
    "b = IBMQBackend(\"ibmq_athens\")\n",
    "test = circ1.copy()\n",
    "#RebaseIBM().apply(test)\n",
    "#b.default_compilation_pass(2).apply(test)\n",
    "c0, ppcirc = prepare_circuit(test)\n"
   ]
  },
  {
   "cell_type": "code",
   "execution_count": null,
   "id": "7ba07049",
   "metadata": {},
   "outputs": [],
   "source": [
    "tk_to_qiskit(c0).draw(output='mpl')"
   ]
  },
  {
   "cell_type": "code",
   "execution_count": null,
   "id": "d9d2a4a8",
   "metadata": {},
   "outputs": [],
   "source": [
    "b.compile_circuit(c0,2)\n",
    "#b.compile_circuit(test,2)\n",
    "#assert b.valid_circuit(test)\n",
    "print(\"Optimisation level\", 2)\n",
    "print(\"Depth\", c0.depth())\n",
    "print(\"Gates\", c0.n_gates)\n",
    "print(\"CXs\", c0.n_gates_of_type(OpType.CX))\n",
    "print(\"Rzs\", c0.n_gates_of_type(OpType.Rz))\n",
    "print(\"Sxs\", c0.n_gates_of_type(OpType.SX))\n",
    "#print(test.get_commands())"
   ]
  },
  {
   "cell_type": "code",
   "execution_count": null,
   "id": "50861bbd",
   "metadata": {
    "scrolled": true
   },
   "outputs": [],
   "source": [
    "tk_to_qiskit(c0).draw(output='mpl')"
   ]
  },
  {
   "cell_type": "code",
   "execution_count": null,
   "id": "56871114",
   "metadata": {},
   "outputs": [],
   "source": [
    "tk_to_qiskit(test).draw(output='mpl')"
   ]
  },
  {
   "cell_type": "code",
   "execution_count": null,
   "id": "4b9985b6",
   "metadata": {},
   "outputs": [],
   "source": [
    "tk_to_qiskit(test).draw(output='mpl')"
   ]
  },
  {
   "cell_type": "code",
   "execution_count": null,
   "id": "066da2b7",
   "metadata": {},
   "outputs": [],
   "source": [
    "qasm_sim = Aer.get_backend('qasm_simulator')\n",
    "t_qc1 = transpile(qc1, qasm_sim)\n",
    "qobj = assemble(t_qc1, shots=4096)\n",
    "result = qasm_sim.run(qobj).result()\n",
    "counts = result.get_counts(qc1)\n",
    "print(counts)\n",
    "plot_histogram(counts)\n"
   ]
  },
  {
   "cell_type": "code",
   "execution_count": null,
   "id": "888b8759",
   "metadata": {},
   "outputs": [],
   "source": []
  },
  {
   "cell_type": "code",
   "execution_count": null,
   "id": "c0d65e47",
   "metadata": {},
   "outputs": [],
   "source": []
  },
  {
   "cell_type": "code",
   "execution_count": null,
   "id": "992071b6",
   "metadata": {},
   "outputs": [],
   "source": []
  },
  {
   "cell_type": "code",
   "execution_count": null,
   "id": "241930bb",
   "metadata": {},
   "outputs": [],
   "source": []
  },
  {
   "cell_type": "markdown",
   "id": "82cc1aa1",
   "metadata": {},
   "source": [
    "showing tket added value on top of qiskit: https://github.com/CQCL/pytket/blob/master/examples/qiskit_integration.ipynb"
   ]
  },
  {
   "cell_type": "code",
   "execution_count": null,
   "id": "9f3615b8",
   "metadata": {},
   "outputs": [],
   "source": [
    "from qiskit.opflow.primitive_ops import PauliSumOp"
   ]
  },
  {
   "cell_type": "code",
   "execution_count": null,
   "id": "3bfaa5c2",
   "metadata": {},
   "outputs": [],
   "source": [
    "H2_op = PauliSumOp.from_list(\n",
    "    [\n",
    "        (\"II\", -1.052373245772859),\n",
    "        (\"IZ\", 0.39793742484318045),\n",
    "        (\"ZI\", -0.39793742484318045),\n",
    "        (\"ZZ\", -0.01128010425623538),\n",
    "        (\"XX\", 0.18093119978423156),\n",
    "    ]\n",
    ")\n"
   ]
  },
  {
   "cell_type": "code",
   "execution_count": null,
   "id": "e524c8e0",
   "metadata": {},
   "outputs": [],
   "source": [
    "from qiskit.algorithms import NumPyEigensolver\n"
   ]
  },
  {
   "cell_type": "code",
   "execution_count": null,
   "id": "ca3a7126",
   "metadata": {},
   "outputs": [],
   "source": [
    "es = NumPyEigensolver(k=1)\n",
    "exact_result = es.compute_eigenvalues(H2_op).eigenvalues[0].real\n",
    "print(\"Exact result:\", exact_result)\n"
   ]
  },
  {
   "cell_type": "code",
   "execution_count": null,
   "id": "d4d5145a",
   "metadata": {},
   "outputs": [],
   "source": [
    "from qiskit.algorithms import VQE\n",
    "from qiskit.algorithms.optimizers import SPSA\n",
    "from qiskit.circuit.library import EfficientSU2"
   ]
  },
  {
   "cell_type": "code",
   "execution_count": null,
   "id": "efa522cd",
   "metadata": {},
   "outputs": [],
   "source": [
    "def vqe_solve(op, maxiter, quantum_instance):\n",
    "    optimizer = SPSA(maxiter=maxiter)\n",
    "    ansatz = EfficientSU2(op.num_qubits, entanglement=\"linear\")\n",
    "    vqe = VQE(ansatz=ansatz, optimizer=optimizer, quantum_instance=quantum_instance)\n",
    "    return vqe.compute_minimum_eigenvalue(op).eigenvalue\n"
   ]
  },
  {
   "cell_type": "code",
   "execution_count": null,
   "id": "5b6201e4",
   "metadata": {},
   "outputs": [],
   "source": [
    "from pytket.extensions.qiskit import IBMQEmulatorBackend\n",
    "from qiskit import IBMQ\n"
   ]
  },
  {
   "cell_type": "code",
   "execution_count": null,
   "id": "59019b2a",
   "metadata": {},
   "outputs": [],
   "source": [
    "IBMQ.load_account()\n",
    "b_emu = IBMQEmulatorBackend(\"ibmq_belem\", hub=\"ibm-q\", group=\"open\", project=\"main\")\n"
   ]
  },
  {
   "cell_type": "code",
   "execution_count": null,
   "id": "8aa45321",
   "metadata": {},
   "outputs": [],
   "source": [
    "from pytket.extensions.qiskit.tket_backend import TketBackend\n",
    "from qiskit.utils import QuantumInstance\n"
   ]
  },
  {
   "cell_type": "code",
   "execution_count": null,
   "id": "09191f93",
   "metadata": {},
   "outputs": [],
   "source": [
    "qis_backend = TketBackend(b_emu)\n",
    "qi = QuantumInstance(qis_backend, shots=8192, wait=0.1)\n"
   ]
  },
  {
   "cell_type": "code",
   "execution_count": null,
   "id": "5e34f1ec",
   "metadata": {},
   "outputs": [],
   "source": [
    "print(\"VQE result:\", vqe_solve(H2_op, 50, qi))\n"
   ]
  },
  {
   "cell_type": "code",
   "execution_count": null,
   "id": "21c94e83",
   "metadata": {},
   "outputs": [],
   "source": [
    "from pytket.passes import FullPeepholeOptimise\n",
    "from qiskit.transpiler import PassManager\n",
    "from qiskit.transpiler.passes import Unroller"
   ]
  },
  {
   "cell_type": "code",
   "execution_count": null,
   "id": "b2250418",
   "metadata": {},
   "outputs": [],
   "source": [
    "qis_backend2 = TketBackend(b_emu, FullPeepholeOptimise())\n",
    "qi2 = QuantumInstance(\n",
    "    qis_backend2,\n",
    "    pass_manager=PassManager(Unroller([\"cx\", \"h\", \"rx\", \"ry\", \"rz\"])),\n",
    "    shots=8192,\n",
    "    wait=0.1,\n",
    ")"
   ]
  },
  {
   "cell_type": "code",
   "execution_count": null,
   "id": "2293e00c",
   "metadata": {},
   "outputs": [],
   "source": [
    "print(\"VQE result (with optimisation):\", vqe_solve(H2_op, 50, qi2))\n"
   ]
  },
  {
   "cell_type": "code",
   "execution_count": null,
   "id": "a1ab1d89",
   "metadata": {},
   "outputs": [],
   "source": []
  },
  {
   "cell_type": "code",
   "execution_count": null,
   "id": "860a98e9",
   "metadata": {},
   "outputs": [],
   "source": []
  },
  {
   "cell_type": "code",
   "execution_count": null,
   "id": "02139c6f",
   "metadata": {},
   "outputs": [],
   "source": []
  },
  {
   "cell_type": "code",
   "execution_count": null,
   "id": "49d7898f",
   "metadata": {},
   "outputs": [],
   "source": []
  },
  {
   "cell_type": "code",
   "execution_count": null,
   "id": "e1628af0",
   "metadata": {},
   "outputs": [],
   "source": []
  },
  {
   "cell_type": "markdown",
   "id": "a2a1e5b2",
   "metadata": {},
   "source": [
    "run on braket"
   ]
  },
  {
   "cell_type": "code",
   "execution_count": null,
   "id": "52c59baf",
   "metadata": {},
   "outputs": [],
   "source": [
    "from pytket import Circuit\n",
    "bell_circ = Circuit(2).H(0).CX(0,1)\n"
   ]
  },
  {
   "cell_type": "code",
   "execution_count": null,
   "id": "2e7d5171",
   "metadata": {},
   "outputs": [],
   "source": [
    "from  pytket.extensions.braket import BraketBackend\n",
    "S3_BUCKET = \"amazon-braket-test\"\n",
    "S3_FOLDER = \"test-folder\"\n",
    "ionq_backend = BraketBackend(\n",
    "    s3_bucket=S3_BUCKET,\n",
    "    s3_folder=S3_FOLDER,\n",
    "    device_type=\"qpu\",\n",
    "    provider=\"ionq\",\n",
    "    device=\"ionQdevice\",\n",
    ")\n"
   ]
  },
  {
   "cell_type": "code",
   "execution_count": null,
   "id": "09c1cf38",
   "metadata": {},
   "outputs": [],
   "source": [
    "ionq_backend.compile_circuit(bell_circ)"
   ]
  },
  {
   "cell_type": "code",
   "execution_count": null,
   "id": "881daab3",
   "metadata": {},
   "outputs": [],
   "source": [
    "job_handle = ionq_backend.process_circuit(bell_circ, n_shots=20)"
   ]
  },
  {
   "cell_type": "code",
   "execution_count": null,
   "id": "6c105330",
   "metadata": {},
   "outputs": [],
   "source": [
    "print(ionq_backend.circuit_status(job_handle))"
   ]
  },
  {
   "cell_type": "code",
   "execution_count": null,
   "id": "1e2aa193",
   "metadata": {},
   "outputs": [],
   "source": [
    "job_handle"
   ]
  },
  {
   "cell_type": "code",
   "execution_count": null,
   "id": "0a338358",
   "metadata": {},
   "outputs": [],
   "source": [
    "result = ionq_backend.get_result(job_handle)\n"
   ]
  },
  {
   "cell_type": "code",
   "execution_count": null,
   "id": "2a5d1df1",
   "metadata": {},
   "outputs": [],
   "source": [
    "result"
   ]
  },
  {
   "cell_type": "code",
   "execution_count": null,
   "id": "c965b3b6",
   "metadata": {},
   "outputs": [],
   "source": [
    "from pytket.circuit import Bit\n",
    "def get_cbits(backend, circuit):\n",
    "    return [Bit(backend.device().nodes.index(q)) for q in circuit.qubits]\n",
    "cbits = get_cbits(ionq_backend, bell_circ)\n"
   ]
  },
  {
   "cell_type": "code",
   "execution_count": null,
   "id": "a44c6ba0",
   "metadata": {},
   "outputs": [],
   "source": [
    "counts = result.get_counts(cbits=cbits)\n",
    "print(counts)\n"
   ]
  },
  {
   "cell_type": "markdown",
   "id": "052cf04a",
   "metadata": {},
   "source": [
    "Questions:\n",
    "- how to get the task id of the job\n",
    "- how to display the counts nicely (like in the notebook examples for braket) - result converter\n",
    "- "
   ]
  },
  {
   "cell_type": "markdown",
   "id": "0057a779",
   "metadata": {},
   "source": [
    "run a real circuit on the ionq device"
   ]
  },
  {
   "cell_type": "code",
   "execution_count": null,
   "id": "510b0895",
   "metadata": {},
   "outputs": [],
   "source": [
    "from pytket.extensions.qiskit import IBMQBackend\n",
    "\n",
    "backend = IBMQBackend(\"ibmq_santiago\")\n",
    "for key in backend.characterisation:\n",
    "    print(key)\n"
   ]
  },
  {
   "cell_type": "code",
   "execution_count": null,
   "id": "c6120f6d",
   "metadata": {},
   "outputs": [],
   "source": [
    "print(repr(backend.device))\n"
   ]
  },
  {
   "cell_type": "code",
   "execution_count": null,
   "id": "795709fb",
   "metadata": {},
   "outputs": [],
   "source": [
    "from pytket.routing import NoiseAwarePlacement, GraphPlacement\n",
    "\n",
    "noise_placer = NoiseAwarePlacement(backend.device)\n",
    "graph_placer = GraphPlacement(backend.device)\n",
    "\n",
    "circ = Circuit(3).CX(0,1).CX(0,2)\n",
    "\n",
    "print(backend.device.coupling, '\\n')\n",
    "\n",
    "noise_placement = noise_placer.get_placement_map(circ)\n",
    "graph_placement = graph_placer.get_placement_map(circ)\n",
    "\n",
    "print('NoiseAwarePlacement mapping:')\n",
    "for k, v in noise_placement.items():\n",
    "    print(k, v)\n",
    "\n",
    "print('\\nGraphPlacement mapping:')\n",
    "for k, v in graph_placement.items():\n",
    "    print(k, v)\n"
   ]
  },
  {
   "cell_type": "code",
   "execution_count": null,
   "id": "ab845a8b",
   "metadata": {},
   "outputs": [],
   "source": []
  },
  {
   "cell_type": "code",
   "execution_count": null,
   "id": "d11f9893",
   "metadata": {},
   "outputs": [],
   "source": []
  },
  {
   "cell_type": "code",
   "execution_count": null,
   "id": "3bc690b6",
   "metadata": {},
   "outputs": [],
   "source": []
  },
  {
   "cell_type": "markdown",
   "id": "57de23ce",
   "metadata": {},
   "source": [
    "removed stuff"
   ]
  },
  {
   "cell_type": "markdown",
   "id": "386088f0",
   "metadata": {},
   "source": [
    "<figure>\n",
    "<img src=\"files/athens.png\" width=\"200\" height=\"100\"\n",
    "     alt=\"athens\" >\n",
    "<figcaption>IBM Athens device</figcaption>\n",
    "</figure>"
   ]
  },
  {
   "cell_type": "code",
   "execution_count": null,
   "id": "4a743b44",
   "metadata": {},
   "outputs": [],
   "source": [
    "backend = IBMQBackend(\"ibmq_athens\")\n",
    "place = PlacementPass(GraphPlacement(backend.device))\n",
    "place.apply(circ)\n",
    "\n",
    "print(circ.get_commands())\n",
    "print(ConnectivityPredicate(backend.device).verify(circ))"
   ]
  },
  {
   "cell_type": "code",
   "execution_count": null,
   "id": "9b7b885d",
   "metadata": {},
   "outputs": [],
   "source": [
    "render_circuit_jupyter(circ)"
   ]
  },
  {
   "cell_type": "code",
   "execution_count": null,
   "id": "c57bd4c9",
   "metadata": {},
   "outputs": [],
   "source": []
  },
  {
   "cell_type": "markdown",
   "id": "da0b59f9",
   "metadata": {
    "slideshow": {
     "slide_type": "notes"
    }
   },
   "source": [
    "A set of passes can be applied in order to fully optimize the circuit. This can be done manually byt pytket also has a default predefined sequences (i.e. levels of optimization.)\n",
    "Level 0: Just solves the constraints as simply as possible. No optimisation.\n",
    "Level 1: Adds basic optimisations for efficient compilation.\n",
    "Level 2: Extends to more intensive optimisations."
   ]
  },
  {
   "cell_type": "markdown",
   "id": "5e65d64e",
   "metadata": {
    "slideshow": {
     "slide_type": "notes"
    }
   },
   "source": [
    "END -----------"
   ]
  },
  {
   "cell_type": "markdown",
   "id": "36eb707a",
   "metadata": {
    "slideshow": {
     "slide_type": "notes"
    }
   },
   "source": [
    "We now have a circuit that can actually be executed on a specific device."
   ]
  },
  {
   "cell_type": "markdown",
   "id": "99d08929",
   "metadata": {
    "slideshow": {
     "slide_type": "notes"
    }
   },
   "source": [
    "As usual, if you prefer to visualize the circuit using Qiskit, we are just one line of code away"
   ]
  },
  {
   "cell_type": "code",
   "execution_count": null,
   "id": "9ac40a1e",
   "metadata": {},
   "outputs": [],
   "source": []
  }
 ],
 "metadata": {
  "kernelspec": {
   "display_name": "Python 3",
   "language": "python",
   "name": "python3"
  },
  "language_info": {
   "codemirror_mode": {
    "name": "ipython",
    "version": 3
   },
   "file_extension": ".py",
   "mimetype": "text/x-python",
   "name": "python",
   "nbconvert_exporter": "python",
   "pygments_lexer": "ipython3",
   "version": "3.9.5"
  },
  "latex_envs": {
   "LaTeX_envs_menu_present": true,
   "autoclose": false,
   "autocomplete": true,
   "bibliofile": "biblio.bib",
   "cite_by": "apalike",
   "current_citInitial": 1,
   "eqLabelWithNumbers": true,
   "eqNumInitial": 1,
   "hotkeys": {
    "equation": "Ctrl-E",
    "itemize": "Ctrl-I"
   },
   "labels_anchors": false,
   "latex_user_defs": false,
   "report_style_numbering": false,
   "user_envs_cfg": false
  }
 },
 "nbformat": 4,
 "nbformat_minor": 5
}
